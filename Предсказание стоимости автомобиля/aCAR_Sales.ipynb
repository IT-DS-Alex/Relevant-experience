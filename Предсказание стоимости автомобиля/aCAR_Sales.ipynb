{
 "cells": [
  {
   "cell_type": "markdown",
   "id": "95fd9e25",
   "metadata": {},
   "source": [
    "# Стоимость поддержанного автомобиля"
   ]
  },
  {
   "cell_type": "markdown",
   "id": "4dca4a13",
   "metadata": {},
   "source": [
    "Предсказание стоимости автомобиля на вторичном рынке."
   ]
  },
  {
   "cell_type": "markdown",
   "id": "9c945fcf",
   "metadata": {},
   "source": [
    "## Описание задачи"
   ]
  },
  {
   "cell_type": "markdown",
   "id": "dd13e29a",
   "metadata": {},
   "source": [
    "Многие знают про маркетплейсы где продаются б/у вещи, на которых есть возможность недорого купить качественную и полезную вещь. Но всегда волнует вопрос - кто и как устанавливает цену, и какие его характеристики больше всего влияют на итоговую стоимость продажи?! Вопрос становиться особо актуальным, если речь идет про дорогие товары, например про автомобили!\n",
    "\n",
    "Целью проекта будет разработанная модель предсказания стоимости автомобиля на вторичном рынке."
   ]
  },
  {
   "cell_type": "markdown",
   "id": "cd66ecb3",
   "metadata": {},
   "source": [
    "### Описание данных"
   ]
  },
  {
   "cell_type": "markdown",
   "id": "3f244cdf",
   "metadata": {},
   "source": [
    "Наша задача - разработать модель для предсказания стоимости продажи автомобиля на вторичном рынке.\n",
    "\n",
    "train.csv - информация о продажах автомобилей с аукционов, которые будут использоваться в качестве обучающих данных.\n",
    "\n",
    "test.csv - информация о продажах автомобилей с аукционов, которые будут использоваться в качестве тестовых данных.\n",
    "\n",
    "sample_submission.csv - файл предсказаний в правильном формате.\n",
    "\n",
    "vin - идентификатор каждого автомобиля в тестовом наборе.\n",
    "\n",
    "sellingprice - Целевой признак.\n",
    "\n",
    "'year' - год производства\n",
    "\n",
    "'make' - производитель\n",
    "\n",
    "'model' - модель\n",
    "\n",
    "'trim' - модификация\n",
    "\n",
    "'body' - тип кузова\n",
    "\n",
    "'transmission' - тип КПП\n",
    "\n",
    "'vin' - идентификатор (вин)\n",
    "\n",
    "'state' - штат регистрации\n",
    "\n",
    "'condition' - состояние по шкале (1-5)\n",
    "\n",
    "'odometer' - пробег\n",
    "\n",
    "'color' - цвет кузова\n",
    "\n",
    "'interior' - цвет интерьера\n",
    "\n",
    "'seller' - продавец\n",
    "\n",
    "'sellingprice' - стоимость продажи\n",
    "\n",
    "'saledate' - дата продажи"
   ]
  },
  {
   "cell_type": "markdown",
   "id": "b3389d9d",
   "metadata": {},
   "source": [
    "#### Примечаниe:\n",
    "\n",
    "Для оценки качества моделей применяем метрику MAPE."
   ]
  },
  {
   "cell_type": "code",
   "execution_count": 1,
   "id": "38386927",
   "metadata": {},
   "outputs": [],
   "source": [
    "import numpy as np\n",
    "import pandas as pd\n",
    "import matplotlib.pyplot as plt\n",
    "import seaborn as sns\n",
    "from datetime import datetime\n",
    "import warnings"
   ]
  },
  {
   "cell_type": "code",
   "execution_count": 2,
   "id": "92161ecc",
   "metadata": {},
   "outputs": [],
   "source": [
    "pd.options.mode.chained_assignment = None\n",
    "warnings.simplefilter(action='ignore', category=FutureWarning)"
   ]
  },
  {
   "cell_type": "code",
   "execution_count": 3,
   "id": "ab180d65",
   "metadata": {},
   "outputs": [
    {
     "name": "stdout",
     "output_type": "stream",
     "text": [
      "Requirement already satisfied: vininfo in c:\\users\\family\\anaconda3\\envs\\ds_practicum_env\\lib\\site-packages (1.7.0)\n"
     ]
    }
   ],
   "source": [
    "!pip install vininfo"
   ]
  },
  {
   "cell_type": "code",
   "execution_count": 4,
   "id": "7bc192a1",
   "metadata": {},
   "outputs": [],
   "source": [
    "from sklearn.metrics import mean_absolute_percentage_error\n",
    "from sklearn.model_selection import GridSearchCV\n",
    "from sklearn.preprocessing import OrdinalEncoder\n",
    "from sklearn.ensemble import RandomForestRegressor\n",
    "from sklearn.tree import DecisionTreeRegressor\n",
    "from sklearn.metrics import make_scorer\n",
    "\n",
    "from vininfo import Vin"
   ]
  },
  {
   "cell_type": "code",
   "execution_count": 5,
   "id": "d65527ee",
   "metadata": {},
   "outputs": [],
   "source": [
    "!pip install -q lightgbm==3.3.5\n",
    "import lightgbm as lgb"
   ]
  },
  {
   "cell_type": "code",
   "execution_count": 6,
   "id": "f891e4d0",
   "metadata": {},
   "outputs": [],
   "source": [
    "!pip install -q python-Levenshtein\n",
    "from Levenshtein import distance as lev"
   ]
  },
  {
   "cell_type": "code",
   "execution_count": 7,
   "id": "4de87984",
   "metadata": {},
   "outputs": [],
   "source": [
    "plt.style.use('fivethirtyeight')"
   ]
  },
  {
   "cell_type": "code",
   "execution_count": 8,
   "id": "8b07f831",
   "metadata": {},
   "outputs": [],
   "source": [
    "sns.set_style(\"whitegrid\")\n",
    "sns.set_context(\"paper\")"
   ]
  },
  {
   "cell_type": "code",
   "execution_count": 9,
   "id": "e236d123",
   "metadata": {},
   "outputs": [],
   "source": [
    "plt_params = {'axes.titlesize': '16',\n",
    "              'axes.labelsize': '14',\n",
    "              'axes.spines.left': True,\n",
    "              'axes.spines.bottom': True,\n",
    "              'axes.spines.right': False,\n",
    "              'axes.spines.top': False,\n",
    "              'xtick.labelsize': '12',\n",
    "              'ytick.labelsize': '12',\n",
    "              'legend.fontsize': '12',\n",
    "              'lines.linewidth': '2.0'}\n",
    "\n",
    "plt.rcParams.update(plt_params)"
   ]
  },
  {
   "cell_type": "markdown",
   "id": "9551a9b9",
   "metadata": {},
   "source": [
    "## Загрузка и анализ данных"
   ]
  },
  {
   "cell_type": "code",
   "execution_count": 10,
   "id": "912f4f61",
   "metadata": {},
   "outputs": [],
   "source": [
    "df = pd.read_csv('C:/Users/Family/Downloads/used-cars-price-prediction-22ds/train.csv')\n",
    "test = pd.read_csv('C:/Users/Family/Downloads/used-cars-price-prediction-22ds/test.csv')"
   ]
  },
  {
   "cell_type": "code",
   "execution_count": 11,
   "id": "52b766cd",
   "metadata": {},
   "outputs": [],
   "source": [
    "def describe_df(df):\n",
    "    display(df.head())\n",
    "    print('-----------------------------------------------------------------------------------------------')\n",
    "    display(df.info())\n",
    "    print('-----------------------------------------------------------------------------------------------')\n",
    "    display(df.describe())\n",
    "    print('-----------------------------------------------------------------------------------------------')\n",
    "    display(f'Количество дубликатов: {df.duplicated().sum()}')"
   ]
  },
  {
   "cell_type": "code",
   "execution_count": 12,
   "id": "c4b1a08d",
   "metadata": {},
   "outputs": [
    {
     "data": {
      "text/html": [
       "<div>\n",
       "<style scoped>\n",
       "    .dataframe tbody tr th:only-of-type {\n",
       "        vertical-align: middle;\n",
       "    }\n",
       "\n",
       "    .dataframe tbody tr th {\n",
       "        vertical-align: top;\n",
       "    }\n",
       "\n",
       "    .dataframe thead th {\n",
       "        text-align: right;\n",
       "    }\n",
       "</style>\n",
       "<table border=\"1\" class=\"dataframe\">\n",
       "  <thead>\n",
       "    <tr style=\"text-align: right;\">\n",
       "      <th></th>\n",
       "      <th>year</th>\n",
       "      <th>make</th>\n",
       "      <th>model</th>\n",
       "      <th>trim</th>\n",
       "      <th>body</th>\n",
       "      <th>transmission</th>\n",
       "      <th>vin</th>\n",
       "      <th>state</th>\n",
       "      <th>condition</th>\n",
       "      <th>odometer</th>\n",
       "      <th>color</th>\n",
       "      <th>interior</th>\n",
       "      <th>seller</th>\n",
       "      <th>sellingprice</th>\n",
       "      <th>saledate</th>\n",
       "    </tr>\n",
       "  </thead>\n",
       "  <tbody>\n",
       "    <tr>\n",
       "      <th>0</th>\n",
       "      <td>2011</td>\n",
       "      <td>Ford</td>\n",
       "      <td>Edge</td>\n",
       "      <td>SEL</td>\n",
       "      <td>suv</td>\n",
       "      <td>automatic</td>\n",
       "      <td>2fmdk3jc4bba41556</td>\n",
       "      <td>md</td>\n",
       "      <td>4.2</td>\n",
       "      <td>111041.0</td>\n",
       "      <td>black</td>\n",
       "      <td>black</td>\n",
       "      <td>santander consumer</td>\n",
       "      <td>12500</td>\n",
       "      <td>Tue Jun 02 2015 02:30:00 GMT-0700 (PDT)</td>\n",
       "    </tr>\n",
       "    <tr>\n",
       "      <th>1</th>\n",
       "      <td>2014</td>\n",
       "      <td>Ford</td>\n",
       "      <td>Fusion</td>\n",
       "      <td>SE</td>\n",
       "      <td>Sedan</td>\n",
       "      <td>automatic</td>\n",
       "      <td>3fa6p0h75er208976</td>\n",
       "      <td>mo</td>\n",
       "      <td>3.5</td>\n",
       "      <td>31034.0</td>\n",
       "      <td>black</td>\n",
       "      <td>black</td>\n",
       "      <td>ars/avis budget group</td>\n",
       "      <td>14500</td>\n",
       "      <td>Wed Feb 25 2015 02:00:00 GMT-0800 (PST)</td>\n",
       "    </tr>\n",
       "    <tr>\n",
       "      <th>2</th>\n",
       "      <td>2012</td>\n",
       "      <td>Nissan</td>\n",
       "      <td>Sentra</td>\n",
       "      <td>2.0 SL</td>\n",
       "      <td>sedan</td>\n",
       "      <td>automatic</td>\n",
       "      <td>3n1ab6ap4cl698412</td>\n",
       "      <td>nj</td>\n",
       "      <td>2.2</td>\n",
       "      <td>35619.0</td>\n",
       "      <td>black</td>\n",
       "      <td>black</td>\n",
       "      <td>nissan-infiniti lt</td>\n",
       "      <td>9100</td>\n",
       "      <td>Wed Jun 10 2015 02:30:00 GMT-0700 (PDT)</td>\n",
       "    </tr>\n",
       "    <tr>\n",
       "      <th>3</th>\n",
       "      <td>2003</td>\n",
       "      <td>HUMMER</td>\n",
       "      <td>H2</td>\n",
       "      <td>Base</td>\n",
       "      <td>suv</td>\n",
       "      <td>automatic</td>\n",
       "      <td>5grgn23u93h101360</td>\n",
       "      <td>tx</td>\n",
       "      <td>2.8</td>\n",
       "      <td>131301.0</td>\n",
       "      <td>gold</td>\n",
       "      <td>beige</td>\n",
       "      <td>wichita falls ford lin inc</td>\n",
       "      <td>13300</td>\n",
       "      <td>Wed Jun 17 2015 03:00:00 GMT-0700 (PDT)</td>\n",
       "    </tr>\n",
       "    <tr>\n",
       "      <th>4</th>\n",
       "      <td>2007</td>\n",
       "      <td>Ford</td>\n",
       "      <td>Fusion</td>\n",
       "      <td>SEL</td>\n",
       "      <td>Sedan</td>\n",
       "      <td>automatic</td>\n",
       "      <td>3fahp08z17r268380</td>\n",
       "      <td>md</td>\n",
       "      <td>2.0</td>\n",
       "      <td>127709.0</td>\n",
       "      <td>black</td>\n",
       "      <td>black</td>\n",
       "      <td>purple heart</td>\n",
       "      <td>1300</td>\n",
       "      <td>Tue Feb 03 2015 04:00:00 GMT-0800 (PST)</td>\n",
       "    </tr>\n",
       "  </tbody>\n",
       "</table>\n",
       "</div>"
      ],
      "text/plain": [
       "   year    make   model    trim   body transmission                vin state  \\\n",
       "0  2011    Ford    Edge     SEL    suv    automatic  2fmdk3jc4bba41556    md   \n",
       "1  2014    Ford  Fusion      SE  Sedan    automatic  3fa6p0h75er208976    mo   \n",
       "2  2012  Nissan  Sentra  2.0 SL  sedan    automatic  3n1ab6ap4cl698412    nj   \n",
       "3  2003  HUMMER      H2    Base    suv    automatic  5grgn23u93h101360    tx   \n",
       "4  2007    Ford  Fusion     SEL  Sedan    automatic  3fahp08z17r268380    md   \n",
       "\n",
       "   condition  odometer  color interior                      seller  \\\n",
       "0        4.2  111041.0  black    black          santander consumer   \n",
       "1        3.5   31034.0  black    black       ars/avis budget group   \n",
       "2        2.2   35619.0  black    black          nissan-infiniti lt   \n",
       "3        2.8  131301.0   gold    beige  wichita falls ford lin inc   \n",
       "4        2.0  127709.0  black    black                purple heart   \n",
       "\n",
       "   sellingprice                                 saledate  \n",
       "0         12500  Tue Jun 02 2015 02:30:00 GMT-0700 (PDT)  \n",
       "1         14500  Wed Feb 25 2015 02:00:00 GMT-0800 (PST)  \n",
       "2          9100  Wed Jun 10 2015 02:30:00 GMT-0700 (PDT)  \n",
       "3         13300  Wed Jun 17 2015 03:00:00 GMT-0700 (PDT)  \n",
       "4          1300  Tue Feb 03 2015 04:00:00 GMT-0800 (PST)  "
      ]
     },
     "metadata": {},
     "output_type": "display_data"
    },
    {
     "name": "stdout",
     "output_type": "stream",
     "text": [
      "-----------------------------------------------------------------------------------------------\n",
      "<class 'pandas.core.frame.DataFrame'>\n",
      "RangeIndex: 440236 entries, 0 to 440235\n",
      "Data columns (total 15 columns):\n",
      " #   Column        Non-Null Count   Dtype  \n",
      "---  ------        --------------   -----  \n",
      " 0   year          440236 non-null  int64  \n",
      " 1   make          432193 non-null  object \n",
      " 2   model         432113 non-null  object \n",
      " 3   trim          431899 non-null  object \n",
      " 4   body          429843 non-null  object \n",
      " 5   transmission  388775 non-null  object \n",
      " 6   vin           440236 non-null  object \n",
      " 7   state         440236 non-null  object \n",
      " 8   condition     430831 non-null  float64\n",
      " 9   odometer      440167 non-null  float64\n",
      " 10  color         439650 non-null  object \n",
      " 11  interior      439650 non-null  object \n",
      " 12  seller        440236 non-null  object \n",
      " 13  sellingprice  440236 non-null  int64  \n",
      " 14  saledate      440236 non-null  object \n",
      "dtypes: float64(2), int64(2), object(11)\n",
      "memory usage: 50.4+ MB\n"
     ]
    },
    {
     "data": {
      "text/plain": [
       "None"
      ]
     },
     "metadata": {},
     "output_type": "display_data"
    },
    {
     "name": "stdout",
     "output_type": "stream",
     "text": [
      "-----------------------------------------------------------------------------------------------\n"
     ]
    },
    {
     "data": {
      "text/html": [
       "<div>\n",
       "<style scoped>\n",
       "    .dataframe tbody tr th:only-of-type {\n",
       "        vertical-align: middle;\n",
       "    }\n",
       "\n",
       "    .dataframe tbody tr th {\n",
       "        vertical-align: top;\n",
       "    }\n",
       "\n",
       "    .dataframe thead th {\n",
       "        text-align: right;\n",
       "    }\n",
       "</style>\n",
       "<table border=\"1\" class=\"dataframe\">\n",
       "  <thead>\n",
       "    <tr style=\"text-align: right;\">\n",
       "      <th></th>\n",
       "      <th>year</th>\n",
       "      <th>condition</th>\n",
       "      <th>odometer</th>\n",
       "      <th>sellingprice</th>\n",
       "    </tr>\n",
       "  </thead>\n",
       "  <tbody>\n",
       "    <tr>\n",
       "      <th>count</th>\n",
       "      <td>440236.000000</td>\n",
       "      <td>430831.000000</td>\n",
       "      <td>440167.000000</td>\n",
       "      <td>440236.000000</td>\n",
       "    </tr>\n",
       "    <tr>\n",
       "      <th>mean</th>\n",
       "      <td>2010.040101</td>\n",
       "      <td>3.425077</td>\n",
       "      <td>68344.421604</td>\n",
       "      <td>13592.209588</td>\n",
       "    </tr>\n",
       "    <tr>\n",
       "      <th>std</th>\n",
       "      <td>3.977945</td>\n",
       "      <td>0.949973</td>\n",
       "      <td>53542.203908</td>\n",
       "      <td>9751.479098</td>\n",
       "    </tr>\n",
       "    <tr>\n",
       "      <th>min</th>\n",
       "      <td>1982.000000</td>\n",
       "      <td>1.000000</td>\n",
       "      <td>1.000000</td>\n",
       "      <td>1.000000</td>\n",
       "    </tr>\n",
       "    <tr>\n",
       "      <th>25%</th>\n",
       "      <td>2007.000000</td>\n",
       "      <td>2.700000</td>\n",
       "      <td>28258.000000</td>\n",
       "      <td>6900.000000</td>\n",
       "    </tr>\n",
       "    <tr>\n",
       "      <th>50%</th>\n",
       "      <td>2012.000000</td>\n",
       "      <td>3.600000</td>\n",
       "      <td>52098.000000</td>\n",
       "      <td>12100.000000</td>\n",
       "    </tr>\n",
       "    <tr>\n",
       "      <th>75%</th>\n",
       "      <td>2013.000000</td>\n",
       "      <td>4.200000</td>\n",
       "      <td>99272.000000</td>\n",
       "      <td>18200.000000</td>\n",
       "    </tr>\n",
       "    <tr>\n",
       "      <th>max</th>\n",
       "      <td>2015.000000</td>\n",
       "      <td>5.000000</td>\n",
       "      <td>999999.000000</td>\n",
       "      <td>230000.000000</td>\n",
       "    </tr>\n",
       "  </tbody>\n",
       "</table>\n",
       "</div>"
      ],
      "text/plain": [
       "                year      condition       odometer   sellingprice\n",
       "count  440236.000000  430831.000000  440167.000000  440236.000000\n",
       "mean     2010.040101       3.425077   68344.421604   13592.209588\n",
       "std         3.977945       0.949973   53542.203908    9751.479098\n",
       "min      1982.000000       1.000000       1.000000       1.000000\n",
       "25%      2007.000000       2.700000   28258.000000    6900.000000\n",
       "50%      2012.000000       3.600000   52098.000000   12100.000000\n",
       "75%      2013.000000       4.200000   99272.000000   18200.000000\n",
       "max      2015.000000       5.000000  999999.000000  230000.000000"
      ]
     },
     "metadata": {},
     "output_type": "display_data"
    },
    {
     "name": "stdout",
     "output_type": "stream",
     "text": [
      "-----------------------------------------------------------------------------------------------\n"
     ]
    },
    {
     "data": {
      "text/plain": [
       "'Количество дубликатов: 0'"
      ]
     },
     "metadata": {},
     "output_type": "display_data"
    }
   ],
   "source": [
    "describe_df(df)"
   ]
  },
  {
   "cell_type": "code",
   "execution_count": 14,
   "id": "d6ea1541",
   "metadata": {},
   "outputs": [
    {
     "name": "stdout",
     "output_type": "stream",
     "text": [
      "Requirement already satisfied: matplotlib in c:\\users\\family\\anaconda3\\envs\\ds_practicum_env\\lib\\site-packages (3.3.4)\n",
      "Collecting matplotlib\n",
      "  Using cached matplotlib-3.8.0-cp39-cp39-win_amd64.whl (7.6 MB)\n",
      "Requirement already satisfied: pyparsing>=2.3.1 in c:\\users\\family\\anaconda3\\envs\\ds_practicum_env\\lib\\site-packages (from matplotlib) (3.0.9)\n",
      "Collecting fonttools>=4.22.0\n",
      "  Downloading fonttools-4.43.1-cp39-cp39-win_amd64.whl (2.1 MB)\n",
      "     ---------------------------------------- 2.1/2.1 MB 395.4 kB/s eta 0:00:00\n",
      "Collecting contourpy>=1.0.1\n",
      "  Using cached contourpy-1.1.1-cp39-cp39-win_amd64.whl (435 kB)\n",
      "Requirement already satisfied: cycler>=0.10 in c:\\users\\family\\anaconda3\\envs\\ds_practicum_env\\lib\\site-packages (from matplotlib) (0.11.0)\n",
      "Requirement already satisfied: packaging>=20.0 in c:\\users\\family\\anaconda3\\envs\\ds_practicum_env\\lib\\site-packages (from matplotlib) (21.3)\n",
      "Requirement already satisfied: numpy<2,>=1.21 in c:\\users\\family\\anaconda3\\envs\\ds_practicum_env\\lib\\site-packages (from matplotlib) (1.23.5)\n",
      "Requirement already satisfied: python-dateutil>=2.7 in c:\\users\\family\\anaconda3\\envs\\ds_practicum_env\\lib\\site-packages (from matplotlib) (2.8.2)\n",
      "Requirement already satisfied: kiwisolver>=1.0.1 in c:\\users\\family\\anaconda3\\envs\\ds_practicum_env\\lib\\site-packages (from matplotlib) (1.4.4)\n",
      "Requirement already satisfied: importlib-resources>=3.2.0 in c:\\users\\family\\anaconda3\\envs\\ds_practicum_env\\lib\\site-packages (from matplotlib) (5.9.0)\n",
      "Requirement already satisfied: pillow>=6.2.0 in c:\\users\\family\\anaconda3\\envs\\ds_practicum_env\\lib\\site-packages (from matplotlib) (8.4.0)\n",
      "Requirement already satisfied: zipp>=3.1.0 in c:\\users\\family\\anaconda3\\envs\\ds_practicum_env\\lib\\site-packages (from importlib-resources>=3.2.0->matplotlib) (3.8.0)\n",
      "Requirement already satisfied: six>=1.5 in c:\\users\\family\\anaconda3\\envs\\ds_practicum_env\\lib\\site-packages (from python-dateutil>=2.7->matplotlib) (1.16.0)\n",
      "Installing collected packages: fonttools, contourpy, matplotlib\n",
      "  Attempting uninstall: matplotlib\n",
      "    Found existing installation: matplotlib 3.3.4\n",
      "    Uninstalling matplotlib-3.3.4:\n",
      "      Successfully uninstalled matplotlib-3.3.4\n",
      "Note: you may need to restart the kernel to use updated packages.\n"
     ]
    },
    {
     "name": "stderr",
     "output_type": "stream",
     "text": [
      "ERROR: Could not install packages due to an OSError: [WinError 5] Отказано в доступе: 'C:\\\\Users\\\\Family\\\\anaconda3\\\\envs\\\\ds_practicum_env\\\\Lib\\\\site-packages\\\\~atplotlib\\\\backends\\\\_backend_agg.cp39-win_amd64.pyd'\n",
      "Consider using the `--user` option or check the permissions.\n",
      "\n"
     ]
    }
   ],
   "source": [
    "pip install --upgrade matplotlib"
   ]
  },
  {
   "cell_type": "code",
   "execution_count": 18,
   "id": "0a866461",
   "metadata": {},
   "outputs": [
    {
     "name": "stdout",
     "output_type": "stream",
     "text": [
      "Collecting histNote: you may need to restart the kernel to use updated packages.\n",
      "\n",
      "  Downloading hist-2.7.2-py3-none-any.whl (40 kB)\n",
      "     -------------------------------------- 40.4/40.4 kB 324.2 kB/s eta 0:00:00\n",
      "Requirement already satisfied: numpy>=1.14.5 in c:\\users\\family\\anaconda3\\envs\\ds_practicum_env\\lib\\site-packages (from hist) (1.23.5)\n",
      "Collecting histoprint>=2.2.0\n",
      "  Downloading histoprint-2.4.0-py3-none-any.whl (16 kB)\n",
      "Collecting boost-histogram<1.5,>=1.3.1\n",
      "  Downloading boost_histogram-1.4.0-cp39-cp39-win_amd64.whl (828 kB)\n",
      "     ------------------------------------ 828.4/828.4 kB 396.6 kB/s eta 0:00:00\n",
      "Requirement already satisfied: typing-extensions>=4 in c:\\users\\family\\anaconda3\\envs\\ds_practicum_env\\lib\\site-packages (from hist) (4.3.0)\n",
      "Collecting uhi>=0.2.1\n",
      "  Downloading uhi-0.4.0-py3-none-any.whl (11 kB)\n",
      "Requirement already satisfied: click>=7.0.0 in c:\\users\\family\\anaconda3\\envs\\ds_practicum_env\\lib\\site-packages (from histoprint>=2.2.0->hist) (8.1.3)\n",
      "Requirement already satisfied: colorama in c:\\users\\family\\anaconda3\\envs\\ds_practicum_env\\lib\\site-packages (from click>=7.0.0->histoprint>=2.2.0->hist) (0.4.5)\n",
      "Installing collected packages: uhi, boost-histogram, histoprint, hist\n",
      "Successfully installed boost-histogram-1.4.0 hist-2.7.2 histoprint-2.4.0 uhi-0.4.0\n"
     ]
    }
   ],
   "source": [
    "pip install --upgrade hist"
   ]
  },
  {
   "cell_type": "code",
   "execution_count": 20,
   "id": "26a511aa",
   "metadata": {},
   "outputs": [],
   "source": [
    "import seaborn as sns"
   ]
  },
  {
   "cell_type": "code",
   "execution_count": 21,
   "id": "8597059f",
   "metadata": {},
   "outputs": [
    {
     "ename": "AttributeError",
     "evalue": "'SubplotSpec' object has no attribute 'is_first_col'",
     "output_type": "error",
     "traceback": [
      "\u001b[1;31m---------------------------------------------------------------------------\u001b[0m",
      "\u001b[1;31mAttributeError\u001b[0m                            Traceback (most recent call last)",
      "Cell \u001b[1;32mIn [21], line 1\u001b[0m\n\u001b[1;32m----> 1\u001b[0m \u001b[43mdf\u001b[49m\u001b[38;5;241;43m.\u001b[39;49m\u001b[43mhist\u001b[49m\u001b[43m(\u001b[49m\u001b[43mfigsize\u001b[49m\u001b[38;5;241;43m=\u001b[39;49m\u001b[43m(\u001b[49m\u001b[38;5;241;43m15\u001b[39;49m\u001b[43m,\u001b[49m\u001b[38;5;241;43m15\u001b[39;49m\u001b[43m)\u001b[49m\u001b[43m,\u001b[49m\u001b[43m \u001b[49m\u001b[43mxrot\u001b[49m\u001b[38;5;241;43m=\u001b[39;49m\u001b[38;5;241;43m30\u001b[39;49m\u001b[43m)\u001b[49m\n\u001b[0;32m      2\u001b[0m plt\u001b[38;5;241m.\u001b[39mtight_layout()\n\u001b[0;32m      3\u001b[0m plt\u001b[38;5;241m.\u001b[39mshow()\n",
      "File \u001b[1;32m~\\anaconda3\\envs\\ds_practicum_env\\lib\\site-packages\\pandas\\plotting\\_core.py:247\u001b[0m, in \u001b[0;36mhist_frame\u001b[1;34m(data, column, by, grid, xlabelsize, xrot, ylabelsize, yrot, ax, sharex, sharey, figsize, layout, bins, backend, legend, **kwargs)\u001b[0m\n\u001b[0;32m    160\u001b[0m \u001b[38;5;250m\u001b[39m\u001b[38;5;124;03m\"\"\"\u001b[39;00m\n\u001b[0;32m    161\u001b[0m \u001b[38;5;124;03mMake a histogram of the DataFrame's columns.\u001b[39;00m\n\u001b[0;32m    162\u001b[0m \n\u001b[1;32m   (...)\u001b[0m\n\u001b[0;32m    244\u001b[0m \u001b[38;5;124;03m    >>> hist = df.hist(bins=3)\u001b[39;00m\n\u001b[0;32m    245\u001b[0m \u001b[38;5;124;03m\"\"\"\u001b[39;00m\n\u001b[0;32m    246\u001b[0m plot_backend \u001b[38;5;241m=\u001b[39m _get_plot_backend(backend)\n\u001b[1;32m--> 247\u001b[0m \u001b[38;5;28;01mreturn\u001b[39;00m plot_backend\u001b[38;5;241m.\u001b[39mhist_frame(\n\u001b[0;32m    248\u001b[0m     data,\n\u001b[0;32m    249\u001b[0m     column\u001b[38;5;241m=\u001b[39mcolumn,\n\u001b[0;32m    250\u001b[0m     by\u001b[38;5;241m=\u001b[39mby,\n\u001b[0;32m    251\u001b[0m     grid\u001b[38;5;241m=\u001b[39mgrid,\n\u001b[0;32m    252\u001b[0m     xlabelsize\u001b[38;5;241m=\u001b[39mxlabelsize,\n\u001b[0;32m    253\u001b[0m     xrot\u001b[38;5;241m=\u001b[39mxrot,\n\u001b[0;32m    254\u001b[0m     ylabelsize\u001b[38;5;241m=\u001b[39mylabelsize,\n\u001b[0;32m    255\u001b[0m     yrot\u001b[38;5;241m=\u001b[39myrot,\n\u001b[0;32m    256\u001b[0m     ax\u001b[38;5;241m=\u001b[39max,\n\u001b[0;32m    257\u001b[0m     sharex\u001b[38;5;241m=\u001b[39msharex,\n\u001b[0;32m    258\u001b[0m     sharey\u001b[38;5;241m=\u001b[39msharey,\n\u001b[0;32m    259\u001b[0m     figsize\u001b[38;5;241m=\u001b[39mfigsize,\n\u001b[0;32m    260\u001b[0m     layout\u001b[38;5;241m=\u001b[39mlayout,\n\u001b[0;32m    261\u001b[0m     legend\u001b[38;5;241m=\u001b[39mlegend,\n\u001b[0;32m    262\u001b[0m     bins\u001b[38;5;241m=\u001b[39mbins,\n\u001b[0;32m    263\u001b[0m     \u001b[38;5;241m*\u001b[39m\u001b[38;5;241m*\u001b[39mkwargs,\n\u001b[0;32m    264\u001b[0m )\n",
      "File \u001b[1;32m~\\anaconda3\\envs\\ds_practicum_env\\lib\\site-packages\\pandas\\plotting\\_matplotlib\\hist.py:520\u001b[0m, in \u001b[0;36mhist_frame\u001b[1;34m(data, column, by, grid, xlabelsize, xrot, ylabelsize, yrot, ax, sharex, sharey, figsize, layout, bins, legend, **kwds)\u001b[0m\n\u001b[0;32m    515\u001b[0m \u001b[38;5;28;01mif\u001b[39;00m naxes \u001b[38;5;241m==\u001b[39m \u001b[38;5;241m0\u001b[39m:\n\u001b[0;32m    516\u001b[0m     \u001b[38;5;28;01mraise\u001b[39;00m \u001b[38;5;167;01mValueError\u001b[39;00m(\n\u001b[0;32m    517\u001b[0m         \u001b[38;5;124m\"\u001b[39m\u001b[38;5;124mhist method requires numerical or datetime columns, nothing to plot.\u001b[39m\u001b[38;5;124m\"\u001b[39m\n\u001b[0;32m    518\u001b[0m     )\n\u001b[1;32m--> 520\u001b[0m fig, axes \u001b[38;5;241m=\u001b[39m \u001b[43mcreate_subplots\u001b[49m\u001b[43m(\u001b[49m\n\u001b[0;32m    521\u001b[0m \u001b[43m    \u001b[49m\u001b[43mnaxes\u001b[49m\u001b[38;5;241;43m=\u001b[39;49m\u001b[43mnaxes\u001b[49m\u001b[43m,\u001b[49m\n\u001b[0;32m    522\u001b[0m \u001b[43m    \u001b[49m\u001b[43max\u001b[49m\u001b[38;5;241;43m=\u001b[39;49m\u001b[43max\u001b[49m\u001b[43m,\u001b[49m\n\u001b[0;32m    523\u001b[0m \u001b[43m    \u001b[49m\u001b[43msqueeze\u001b[49m\u001b[38;5;241;43m=\u001b[39;49m\u001b[38;5;28;43;01mFalse\u001b[39;49;00m\u001b[43m,\u001b[49m\n\u001b[0;32m    524\u001b[0m \u001b[43m    \u001b[49m\u001b[43msharex\u001b[49m\u001b[38;5;241;43m=\u001b[39;49m\u001b[43msharex\u001b[49m\u001b[43m,\u001b[49m\n\u001b[0;32m    525\u001b[0m \u001b[43m    \u001b[49m\u001b[43msharey\u001b[49m\u001b[38;5;241;43m=\u001b[39;49m\u001b[43msharey\u001b[49m\u001b[43m,\u001b[49m\n\u001b[0;32m    526\u001b[0m \u001b[43m    \u001b[49m\u001b[43mfigsize\u001b[49m\u001b[38;5;241;43m=\u001b[39;49m\u001b[43mfigsize\u001b[49m\u001b[43m,\u001b[49m\n\u001b[0;32m    527\u001b[0m \u001b[43m    \u001b[49m\u001b[43mlayout\u001b[49m\u001b[38;5;241;43m=\u001b[39;49m\u001b[43mlayout\u001b[49m\u001b[43m,\u001b[49m\n\u001b[0;32m    528\u001b[0m \u001b[43m\u001b[49m\u001b[43m)\u001b[49m\n\u001b[0;32m    529\u001b[0m _axes \u001b[38;5;241m=\u001b[39m flatten_axes(axes)\n\u001b[0;32m    531\u001b[0m can_set_label \u001b[38;5;241m=\u001b[39m \u001b[38;5;124m\"\u001b[39m\u001b[38;5;124mlabel\u001b[39m\u001b[38;5;124m\"\u001b[39m \u001b[38;5;129;01mnot\u001b[39;00m \u001b[38;5;129;01min\u001b[39;00m kwds\n",
      "File \u001b[1;32m~\\anaconda3\\envs\\ds_practicum_env\\lib\\site-packages\\pandas\\plotting\\_matplotlib\\tools.py:301\u001b[0m, in \u001b[0;36mcreate_subplots\u001b[1;34m(naxes, sharex, sharey, squeeze, subplot_kw, ax, layout, layout_type, **fig_kw)\u001b[0m\n\u001b[0;32m    298\u001b[0m     \u001b[38;5;28;01mfor\u001b[39;00m ax \u001b[38;5;129;01min\u001b[39;00m axarr[naxes:]:\n\u001b[0;32m    299\u001b[0m         ax\u001b[38;5;241m.\u001b[39mset_visible(\u001b[38;5;28;01mFalse\u001b[39;00m)\n\u001b[1;32m--> 301\u001b[0m \u001b[43mhandle_shared_axes\u001b[49m\u001b[43m(\u001b[49m\u001b[43maxarr\u001b[49m\u001b[43m,\u001b[49m\u001b[43m \u001b[49m\u001b[43mnplots\u001b[49m\u001b[43m,\u001b[49m\u001b[43m \u001b[49m\u001b[43mnaxes\u001b[49m\u001b[43m,\u001b[49m\u001b[43m \u001b[49m\u001b[43mnrows\u001b[49m\u001b[43m,\u001b[49m\u001b[43m \u001b[49m\u001b[43mncols\u001b[49m\u001b[43m,\u001b[49m\u001b[43m \u001b[49m\u001b[43msharex\u001b[49m\u001b[43m,\u001b[49m\u001b[43m \u001b[49m\u001b[43msharey\u001b[49m\u001b[43m)\u001b[49m\n\u001b[0;32m    303\u001b[0m \u001b[38;5;28;01mif\u001b[39;00m squeeze:\n\u001b[0;32m    304\u001b[0m     \u001b[38;5;66;03m# Reshape the array to have the final desired dimension (nrow,ncol),\u001b[39;00m\n\u001b[0;32m    305\u001b[0m     \u001b[38;5;66;03m# though discarding unneeded dimensions that equal 1.  If we only have\u001b[39;00m\n\u001b[0;32m    306\u001b[0m     \u001b[38;5;66;03m# one subplot, just return it instead of a 1-element array.\u001b[39;00m\n\u001b[0;32m    307\u001b[0m     \u001b[38;5;28;01mif\u001b[39;00m nplots \u001b[38;5;241m==\u001b[39m \u001b[38;5;241m1\u001b[39m:\n",
      "File \u001b[1;32m~\\anaconda3\\envs\\ds_practicum_env\\lib\\site-packages\\pandas\\plotting\\_matplotlib\\tools.py:431\u001b[0m, in \u001b[0;36mhandle_shared_axes\u001b[1;34m(axarr, nplots, naxes, nrows, ncols, sharex, sharey)\u001b[0m\n\u001b[0;32m    426\u001b[0m \u001b[38;5;28;01mif\u001b[39;00m ncols \u001b[38;5;241m>\u001b[39m \u001b[38;5;241m1\u001b[39m:\n\u001b[0;32m    427\u001b[0m     \u001b[38;5;28;01mfor\u001b[39;00m ax \u001b[38;5;129;01min\u001b[39;00m axarr:\n\u001b[0;32m    428\u001b[0m         \u001b[38;5;66;03m# only the first column should get y labels -> set all other to\u001b[39;00m\n\u001b[0;32m    429\u001b[0m         \u001b[38;5;66;03m# off as we only have labels in the first column and we always\u001b[39;00m\n\u001b[0;32m    430\u001b[0m         \u001b[38;5;66;03m# have a subplot there, we can skip the layout test\u001b[39;00m\n\u001b[1;32m--> 431\u001b[0m         \u001b[38;5;28;01mif\u001b[39;00m \u001b[43mis_first_col\u001b[49m\u001b[43m(\u001b[49m\u001b[43max\u001b[49m\u001b[43m)\u001b[49m:\n\u001b[0;32m    432\u001b[0m             \u001b[38;5;28;01mcontinue\u001b[39;00m\n\u001b[0;32m    433\u001b[0m         \u001b[38;5;28;01mif\u001b[39;00m sharey \u001b[38;5;129;01mor\u001b[39;00m _has_externally_shared_axis(ax, \u001b[38;5;124m\"\u001b[39m\u001b[38;5;124my\u001b[39m\u001b[38;5;124m\"\u001b[39m):\n",
      "File \u001b[1;32m~\\anaconda3\\envs\\ds_practicum_env\\lib\\site-packages\\pandas\\plotting\\_matplotlib\\tools.py:397\u001b[0m, in \u001b[0;36mhandle_shared_axes.<locals>.<lambda>\u001b[1;34m(x)\u001b[0m\n\u001b[0;32m    394\u001b[0m row_num \u001b[38;5;241m=\u001b[39m \u001b[38;5;28;01mlambda\u001b[39;00m x: x\u001b[38;5;241m.\u001b[39mget_subplotspec()\u001b[38;5;241m.\u001b[39mrowspan\u001b[38;5;241m.\u001b[39mstart\n\u001b[0;32m    395\u001b[0m col_num \u001b[38;5;241m=\u001b[39m \u001b[38;5;28;01mlambda\u001b[39;00m x: x\u001b[38;5;241m.\u001b[39mget_subplotspec()\u001b[38;5;241m.\u001b[39mcolspan\u001b[38;5;241m.\u001b[39mstart\n\u001b[1;32m--> 397\u001b[0m is_first_col \u001b[38;5;241m=\u001b[39m \u001b[38;5;28;01mlambda\u001b[39;00m x: \u001b[43mx\u001b[49m\u001b[38;5;241;43m.\u001b[39;49m\u001b[43mget_subplotspec\u001b[49m\u001b[43m(\u001b[49m\u001b[43m)\u001b[49m\u001b[38;5;241;43m.\u001b[39;49m\u001b[43mis_first_col\u001b[49m()\n\u001b[0;32m    399\u001b[0m \u001b[38;5;28;01mif\u001b[39;00m nrows \u001b[38;5;241m>\u001b[39m \u001b[38;5;241m1\u001b[39m:\n\u001b[0;32m    400\u001b[0m     \u001b[38;5;28;01mtry\u001b[39;00m:\n\u001b[0;32m    401\u001b[0m         \u001b[38;5;66;03m# first find out the ax layout,\u001b[39;00m\n\u001b[0;32m    402\u001b[0m         \u001b[38;5;66;03m# so that we can correctly handle 'gaps\"\u001b[39;00m\n",
      "\u001b[1;31mAttributeError\u001b[0m: 'SubplotSpec' object has no attribute 'is_first_col'"
     ]
    },
    {
     "data": {
      "image/png": "[encoded data removed]",
      "text/plain": [
       "<Figure size 1500x1500 with 4 Axes>"
      ]
     },
     "metadata": {},
     "output_type": "display_data"
    }
   ],
   "source": [
    "df.hist(figsize=(15,15), xrot=30)\n",
    "plt.tight_layout()\n",
    "plt.show()"
   ]
  },
  {
   "cell_type": "code",
   "execution_count": null,
   "id": "503a94c0",
   "metadata": {},
   "outputs": [],
   "source": [
    "def lowercase(row):\n",
    "    return str(row).lower()"
   ]
  },
  {
   "cell_type": "code",
   "execution_count": null,
   "id": "84272e23",
   "metadata": {},
   "outputs": [],
   "source": [
    "for column in df.select_dtypes('object').drop('saledate', axis=1).columns:\n",
    "    df[column] = df[column].apply(lowercase)"
   ]
  },
  {
   "cell_type": "code",
   "execution_count": null,
   "id": "b50f6ff3",
   "metadata": {},
   "outputs": [],
   "source": [
    "for column in df.select_dtypes('object').drop('saledate', axis=1).columns:\n",
    "    test[column] = test[column].apply(lowercase)"
   ]
  },
  {
   "cell_type": "code",
   "execution_count": null,
   "id": "1f259dac",
   "metadata": {},
   "outputs": [],
   "source": [
    "df.head()"
   ]
  },
  {
   "cell_type": "code",
   "execution_count": null,
   "id": "924dc7c4",
   "metadata": {},
   "outputs": [],
   "source": [
    "df.select_dtypes(['int64', 'float64']).columns"
   ]
  },
  {
   "cell_type": "code",
   "execution_count": null,
   "id": "eddf2406",
   "metadata": {},
   "outputs": [],
   "source": [
    "sns.boxplot(df.year);"
   ]
  },
  {
   "cell_type": "code",
   "execution_count": null,
   "id": "ddb54d9c",
   "metadata": {},
   "outputs": [],
   "source": [
    "len(df[df['year'] < 1997])"
   ]
  },
  {
   "cell_type": "code",
   "execution_count": null,
   "id": "8a4ac2b4",
   "metadata": {},
   "outputs": [],
   "source": [
    "df = df[df['year'] > 1997]"
   ]
  },
  {
   "cell_type": "code",
   "execution_count": null,
   "id": "10cfc4da",
   "metadata": {},
   "outputs": [],
   "source": [
    "sns.boxplot(df['condition']);"
   ]
  },
  {
   "cell_type": "code",
   "execution_count": null,
   "id": "4ab7db4a",
   "metadata": {},
   "outputs": [],
   "source": [
    "sns.boxplot(df['sellingprice']);"
   ]
  },
  {
   "cell_type": "code",
   "execution_count": null,
   "id": "101bd63e",
   "metadata": {},
   "outputs": [],
   "source": [
    "df[df['sellingprice'] > 200000]"
   ]
  },
  {
   "cell_type": "markdown",
   "id": "477e444d",
   "metadata": {},
   "source": [
    "Убираем данную строку из дата сета, как аномальную"
   ]
  },
  {
   "cell_type": "code",
   "execution_count": null,
   "id": "0d537d44",
   "metadata": {},
   "outputs": [],
   "source": [
    "df = df[df['sellingprice'] < 200000]"
   ]
  },
  {
   "cell_type": "code",
   "execution_count": null,
   "id": "0c5b3d81",
   "metadata": {},
   "outputs": [],
   "source": [
    "df[df['sellingprice'] > 150000]"
   ]
  },
  {
   "cell_type": "code",
   "execution_count": null,
   "id": "3c0e9ede",
   "metadata": {},
   "outputs": [],
   "source": [
    "sns.boxplot(df['odometer']);"
   ]
  },
  {
   "cell_type": "code",
   "execution_count": null,
   "id": "54cb70fd",
   "metadata": {},
   "outputs": [],
   "source": [
    "df[df['odometer'] > 600000]['sellingprice'].hist();"
   ]
  },
  {
   "cell_type": "markdown",
   "id": "4a82d26e",
   "metadata": {},
   "source": [
    "Воспользуемся функцией Vin модуля vininfo для извлечения информации о заводе и стране производства автомобиля."
   ]
  },
  {
   "cell_type": "code",
   "execution_count": null,
   "id": "8c15d2ea",
   "metadata": {},
   "outputs": [],
   "source": [
    "def vin_make(row):\n",
    "    vin_nom = Vin(row['vin'])   \n",
    "    return vin_nom.manufacturer"
   ]
  },
  {
   "cell_type": "code",
   "execution_count": null,
   "id": "f2bd38a4",
   "metadata": {},
   "outputs": [],
   "source": [
    "df['maker'] = df.apply(vin_make, axis=1)\n",
    "df.make = df.make.fillna(df.maker)\n",
    "df.drop('maker', axis= 1 , inplace= True )"
   ]
  },
  {
   "cell_type": "code",
   "execution_count": null,
   "id": "ef0437f4",
   "metadata": {},
   "outputs": [],
   "source": [
    "test['maker'] = test.apply(vin_make, axis=1)\n",
    "test.make = test.make.fillna(test.maker)\n",
    "test.drop('maker', axis= 1 , inplace= True )"
   ]
  },
  {
   "cell_type": "code",
   "execution_count": null,
   "id": "35415ce8",
   "metadata": {},
   "outputs": [],
   "source": [
    "def vin_country(row):\n",
    "    vin = Vin(row['vin'])   \n",
    "    return vin.country"
   ]
  },
  {
   "cell_type": "code",
   "execution_count": null,
   "id": "2f6df241",
   "metadata": {},
   "outputs": [],
   "source": [
    "df['country'] = df.apply(vin_country, axis=1)\n",
    "test['country'] = test.apply(vin_country, axis=1)"
   ]
  },
  {
   "cell_type": "code",
   "execution_count": null,
   "id": "c21e51d6",
   "metadata": {},
   "outputs": [],
   "source": [
    "df.country.unique()"
   ]
  },
  {
   "cell_type": "code",
   "execution_count": null,
   "id": "a671a5b8",
   "metadata": {},
   "outputs": [],
   "source": [
    "test.country.unique()"
   ]
  },
  {
   "cell_type": "code",
   "execution_count": null,
   "id": "855aef18",
   "metadata": {},
   "outputs": [],
   "source": [
    "df.country = df.country.replace(\n",
    "    {'United States': 'USA', 'South Korea': 'Korea',\n",
    "     'United Kingdom': 'England'}\n",
    ")\n",
    "df.country.unique()"
   ]
  },
  {
   "cell_type": "code",
   "execution_count": null,
   "id": "36c6eb08",
   "metadata": {},
   "outputs": [],
   "source": [
    "test.country = test.country.replace(\n",
    "    {'United States': 'USA', 'South Korea': 'Korea',\n",
    "     'United Kingdom': 'England'}\n",
    ")\n",
    "test.country.unique()"
   ]
  },
  {
   "cell_type": "markdown",
   "id": "d78b7ed6",
   "metadata": {},
   "source": [
    "Работаем со следующими столбцами"
   ]
  },
  {
   "cell_type": "code",
   "execution_count": null,
   "id": "00421374",
   "metadata": {},
   "outputs": [],
   "source": [
    "df.select_dtypes('object').columns"
   ]
  },
  {
   "cell_type": "code",
   "execution_count": null,
   "id": "d92b0c2f",
   "metadata": {},
   "outputs": [],
   "source": [
    "make_d = list(df['make'].dropna().unique())\n",
    "make_d.sort(key=lambda x: x[:2])\n",
    "make_d"
   ]
  },
  {
   "cell_type": "code",
   "execution_count": null,
   "id": "2cf49b1a",
   "metadata": {},
   "outputs": [],
   "source": [
    "make_t = list(test['make'].dropna().unique())\n",
    "make_t.sort(key=lambda x: x[:2])\n",
    "make_t"
   ]
  },
  {
   "cell_type": "code",
   "execution_count": null,
   "id": "fa02778b",
   "metadata": {},
   "outputs": [],
   "source": [
    "len(df[df['make'].isin(['dot', 'airstream'])])"
   ]
  },
  {
   "cell_type": "code",
   "execution_count": null,
   "id": "14f94260",
   "metadata": {},
   "outputs": [],
   "source": [
    "df = df[~df['make'].isin(['dot', 'airstream'])]"
   ]
  },
  {
   "cell_type": "code",
   "execution_count": null,
   "id": "1f8d43f1",
   "metadata": {},
   "outputs": [],
   "source": [
    "rename_dict = {\n",
    "    'gmc truck': 'gmc',\n",
    "    'ford truck': 'ford',\n",
    "    'land rover': \"landrover\",\n",
    "    'mazda tk': 'mazda',\n",
    "    'mercedes-benz': 'mercedes', \n",
    "    'mercedes-b': 'mercedes',\n",
    "    'vw': 'volkswagen',\n",
    "    'ford tk': 'ford',\n",
    "    'hyundai tk': 'hyundai',\n",
    "    'chev truck': 'chevrolet'\n",
    "}"
   ]
  },
  {
   "cell_type": "code",
   "execution_count": null,
   "id": "900e7d15",
   "metadata": {},
   "outputs": [],
   "source": [
    "df['make'] = df['make'].rename(rename_dict)\n",
    "test['make'] = test['make'].rename(rename_dict)\n"
   ]
  },
  {
   "cell_type": "code",
   "execution_count": null,
   "id": "59fa60a3",
   "metadata": {},
   "outputs": [],
   "source": [
    "df['make'].value_counts(dropna=False).head(10).plot(kind='bar', rot=20, figsize=(10,4))\n",
    "plt.title('top 10 popular brands')\n",
    "plt.show()"
   ]
  },
  {
   "cell_type": "code",
   "execution_count": null,
   "id": "bcb4c170",
   "metadata": {},
   "outputs": [],
   "source": [
    "model_d = list(filter(lambda x: x is not None, list(df.model.unique())))\n",
    "model_d.sort(key=lambda x: x[:2])\n",
    "model_d"
   ]
  },
  {
   "cell_type": "code",
   "execution_count": null,
   "id": "877df76f",
   "metadata": {},
   "outputs": [],
   "source": [
    "single_occurrences = sum(df.model.value_counts() == 1)"
   ]
  },
  {
   "cell_type": "code",
   "execution_count": null,
   "id": "d066f3ac",
   "metadata": {},
   "outputs": [],
   "source": [
    "drops = df.model.value_counts().tail(single_occurrences).index.tolist()\n",
    "df = df[~df.model.isin(drops)]"
   ]
  },
  {
   "cell_type": "code",
   "execution_count": null,
   "id": "afd6e2d5",
   "metadata": {},
   "outputs": [],
   "source": [
    "df.model.value_counts(dropna=False).head(10).plot(kind='bar', rot=0, figsize=(8,4))\n",
    "plt.title('top 10 popular models')\n",
    "plt.show()"
   ]
  },
  {
   "cell_type": "code",
   "execution_count": null,
   "id": "87213a37",
   "metadata": {},
   "outputs": [],
   "source": [
    "len(df['trim'].value_counts(dropna=False))"
   ]
  },
  {
   "cell_type": "code",
   "execution_count": null,
   "id": "9f287107",
   "metadata": {},
   "outputs": [],
   "source": [
    "df['body'].value_counts(dropna=False).head(20)"
   ]
  },
  {
   "cell_type": "code",
   "execution_count": null,
   "id": "d008823e",
   "metadata": {},
   "outputs": [],
   "source": [
    "types = ['sedan', 'suv', 'hatchback', 'minivan', 'coupe', 'crew', 'cab', 'wagon', 'convertible', 'van']"
   ]
  },
  {
   "cell_type": "code",
   "execution_count": null,
   "id": "9582a6a9",
   "metadata": {},
   "outputs": [],
   "source": [
    "def find_closest(row):\n",
    "    if row is None:\n",
    "        return\n",
    "    row = str(row)\n",
    "    \n",
    "    best_match = None\n",
    "    best_score = 1000\n",
    "    for btype in types:\n",
    "        if lev(btype, row) < best_score:\n",
    "            best_match = btype\n",
    "            best_score = lev(btype, row)\n",
    "    return best_match"
   ]
  },
  {
   "cell_type": "code",
   "execution_count": null,
   "id": "2dc0017b",
   "metadata": {},
   "outputs": [],
   "source": [
    "df['body'] = df['body'].apply(find_closest)"
   ]
  },
  {
   "cell_type": "code",
   "execution_count": null,
   "id": "b1ca0bb2",
   "metadata": {},
   "outputs": [],
   "source": [
    "test['body'] = test['body'].apply(find_closest)"
   ]
  },
  {
   "cell_type": "code",
   "execution_count": null,
   "id": "1ee2ac86",
   "metadata": {},
   "outputs": [],
   "source": [
    "df['body'].value_counts()"
   ]
  },
  {
   "cell_type": "code",
   "execution_count": null,
   "id": "4e387392",
   "metadata": {},
   "outputs": [],
   "source": [
    "df['body'].value_counts(dropna=False).plot(kind='bar', rot=45, figsize=(8,4))\n",
    "plt.title('vehicle count by vehicle type')\n",
    "plt.show()"
   ]
  },
  {
   "cell_type": "code",
   "execution_count": null,
   "id": "13ac84fe",
   "metadata": {},
   "outputs": [],
   "source": [
    "df['transmission'].value_counts(dropna=False).plot(kind='bar', rot=0, figsize=(5,3))\n",
    "plt.title('vehicle count by transmission type')\n",
    "plt.show()"
   ]
  },
  {
   "cell_type": "code",
   "execution_count": null,
   "id": "b9f5397b",
   "metadata": {},
   "outputs": [],
   "source": [
    "df['state'].value_counts()"
   ]
  },
  {
   "cell_type": "code",
   "execution_count": null,
   "id": "4df15ed0",
   "metadata": {},
   "outputs": [],
   "source": [
    "df.color.unique()"
   ]
  },
  {
   "cell_type": "markdown",
   "id": "4988bd0d",
   "metadata": {},
   "source": [
    "В данных дата сета заполняем '—' как 'undefined'"
   ]
  },
  {
   "cell_type": "code",
   "execution_count": null,
   "id": "d2731966",
   "metadata": {},
   "outputs": [],
   "source": [
    "df[df.color == '—']['color'] = 'undefined'"
   ]
  },
  {
   "cell_type": "code",
   "execution_count": null,
   "id": "5b2f0468",
   "metadata": {},
   "outputs": [],
   "source": [
    "df.interior.unique()"
   ]
  },
  {
   "cell_type": "code",
   "execution_count": null,
   "id": "9bd76e26",
   "metadata": {},
   "outputs": [],
   "source": [
    "df[df.interior == '—']['interior'] = 'undefined'"
   ]
  },
  {
   "cell_type": "markdown",
   "id": "68f86d0f",
   "metadata": {},
   "source": [
    "Смотрим пропуски"
   ]
  },
  {
   "cell_type": "code",
   "execution_count": null,
   "id": "77ae1acb",
   "metadata": {},
   "outputs": [],
   "source": [
    "df.isna().sum()"
   ]
  },
  {
   "cell_type": "code",
   "execution_count": null,
   "id": "efe5831a",
   "metadata": {},
   "outputs": [],
   "source": [
    "df[['body', 'transmission', 'color', 'interior']] = df[['body', 'transmission', 'color', 'interior']].fillna('undefined')"
   ]
  },
  {
   "cell_type": "code",
   "execution_count": null,
   "id": "76a74e26",
   "metadata": {},
   "outputs": [],
   "source": [
    "test[['body', 'transmission', 'color', 'interior']] = test[['body', 'transmission', 'color', 'interior']].fillna('undefined')"
   ]
  },
  {
   "cell_type": "code",
   "execution_count": null,
   "id": "62acf796",
   "metadata": {},
   "outputs": [],
   "source": [
    "df.odometer.median()"
   ]
  },
  {
   "cell_type": "code",
   "execution_count": null,
   "id": "9ac205ed",
   "metadata": {},
   "outputs": [],
   "source": [
    "df.odometer = df.odometer.fillna(df.odometer.median())\n",
    "test.odometer = test.odometer.fillna(test.odometer.median())"
   ]
  },
  {
   "cell_type": "code",
   "execution_count": null,
   "id": "023e3d0b",
   "metadata": {},
   "outputs": [],
   "source": [
    "df.condition = df.condition.fillna(df.condition.median())\n",
    "test.condition = test.condition.fillna(test.condition.median())"
   ]
  },
  {
   "cell_type": "code",
   "execution_count": null,
   "id": "ede27892",
   "metadata": {},
   "outputs": [],
   "source": [
    "df[['make', 'model', 'trim']] = df[['make', 'model', 'trim']].fillna('undefined')\n",
    "test[['make', 'model', 'trim']] = test[['make', 'model', 'trim']].fillna('undefined')"
   ]
  },
  {
   "cell_type": "code",
   "execution_count": null,
   "id": "219ce975",
   "metadata": {},
   "outputs": [],
   "source": [
    "df.isna().sum()"
   ]
  },
  {
   "cell_type": "code",
   "execution_count": null,
   "id": "d3f5fa2b",
   "metadata": {},
   "outputs": [],
   "source": [
    "test.isna().sum()"
   ]
  },
  {
   "cell_type": "code",
   "execution_count": null,
   "id": "ff6fba57",
   "metadata": {},
   "outputs": [],
   "source": [
    "df['saledate'] = pd.to_datetime(df['saledate'])\n",
    "df['saledate'] = df['saledate'].apply(lambda x: str(x)[:-6])\n",
    "df['saledate'] = pd.to_datetime(df['saledate'])"
   ]
  },
  {
   "cell_type": "code",
   "execution_count": null,
   "id": "aff4df46",
   "metadata": {},
   "outputs": [],
   "source": [
    "test['saledate'] = pd.to_datetime(test['saledate'])\n",
    "test['saledate'] = test['saledate'].apply(lambda x: str(x)[:-6])\n",
    "test['saledate'] = pd.to_datetime(test['saledate'])"
   ]
  },
  {
   "cell_type": "code",
   "execution_count": null,
   "id": "0e470dc1",
   "metadata": {},
   "outputs": [],
   "source": [
    "df = df.drop('interior', axis=1)"
   ]
  },
  {
   "cell_type": "code",
   "execution_count": null,
   "id": "c94251fa",
   "metadata": {},
   "outputs": [],
   "source": [
    "test = test.drop('interior', axis=1)"
   ]
  },
  {
   "cell_type": "code",
   "execution_count": null,
   "id": "e8d3c895",
   "metadata": {},
   "outputs": [],
   "source": [
    "df['yearxcondition'] = df['year'] * df['condition']"
   ]
  },
  {
   "cell_type": "code",
   "execution_count": null,
   "id": "27f7bd07",
   "metadata": {},
   "outputs": [],
   "source": [
    "test['yearxcondition'] = test['year'] * test['condition']"
   ]
  },
  {
   "cell_type": "code",
   "execution_count": null,
   "id": "fe652116",
   "metadata": {},
   "outputs": [],
   "source": [
    "df['age'] = df['saledate'] - pd.to_datetime(df['year'], format='%Y')"
   ]
  },
  {
   "cell_type": "code",
   "execution_count": null,
   "id": "55e2e4d9",
   "metadata": {},
   "outputs": [],
   "source": [
    "test['age'] = test['saledate'] - pd.to_datetime(test['year'], format='%Y')"
   ]
  },
  {
   "cell_type": "code",
   "execution_count": null,
   "id": "3c8097c1",
   "metadata": {},
   "outputs": [],
   "source": [
    "df['saledate'] = pd.to_numeric(df['saledate']) // 10e15\n",
    "test['saledate'] = pd.to_numeric(test['saledate']) // 10e15"
   ]
  },
  {
   "cell_type": "code",
   "execution_count": null,
   "id": "9fba4a02",
   "metadata": {},
   "outputs": [],
   "source": [
    "df['age'] = pd.to_numeric(df['age'])// 10e14\n",
    "test['age'] = pd.to_numeric(df['age'])// 10e14"
   ]
  },
  {
   "cell_type": "code",
   "execution_count": null,
   "id": "a42e0533",
   "metadata": {},
   "outputs": [],
   "source": [
    "df.head()"
   ]
  },
  {
   "cell_type": "markdown",
   "id": "6b672686",
   "metadata": {},
   "source": [
    "Сохраняем для повторного использования в будущем"
   ]
  },
  {
   "cell_type": "code",
   "execution_count": null,
   "id": "dd837c9e",
   "metadata": {},
   "outputs": [],
   "source": [
    "cat_cols = df.select_dtypes('object').columns.tolist()\n",
    "if not cat_cols:\n",
    "    cat_cols = df.select_dtypes('category').columns.tolist()\n",
    "cat_cols"
   ]
  },
  {
   "cell_type": "code",
   "execution_count": null,
   "id": "7900209a",
   "metadata": {},
   "outputs": [],
   "source": [
    "df[cat_cols] = df[cat_cols].astype('category')"
   ]
  },
  {
   "cell_type": "markdown",
   "id": "e3a5e583",
   "metadata": {},
   "source": [
    "### Вывод:\n",
    "\n",
    "Удалили неявные дубликаты.\n",
    "\n",
    "Заполнили пропуски во всех имеющихся данных:\n",
    "\n",
    "- с помощью vin востановили непонятные значения и создали признак country - страна производитель автомобиля.\n",
    "\n",
    "- тип коробки передач заполнили по характеристикам конкретных моделей;\n",
    "\n",
    "- пропуски в данных о пробеге и состоянии автомобиля – медианным значением в зависимости от периода владения автомобилем.\n",
    "\n",
    "На данном этапе мы удалили часть выбросов, чтобы снизить зашумленность данных и повысить точность модели.\n",
    "\n",
    "Подготовили итоговые данные для дальнейшей работы."
   ]
  },
  {
   "cell_type": "code",
   "execution_count": null,
   "id": "789231a3",
   "metadata": {},
   "outputs": [],
   "source": [
    "chart = sns.heatmap(\n",
    "    df.corr(),\n",
    "    cmap='coolwarm',\n",
    "    annot=True\n",
    ")\n",
    "chart.set_title('Корреляция между числовыми признаками')\n",
    "chart.set_xticklabels(chart.get_xticklabels(), rotation=70)\n",
    "fig = chart.get_figure()\n",
    "fig.set_size_inches(11, 6)\n",
    "chart;"
   ]
  },
  {
   "cell_type": "code",
   "execution_count": null,
   "id": "474703cd",
   "metadata": {},
   "outputs": [],
   "source": [
    "X_train = df.drop(['sellingprice'], axis=1)\n",
    "y_train = df['sellingprice']"
   ]
  },
  {
   "cell_type": "code",
   "execution_count": null,
   "id": "24594048",
   "metadata": {},
   "outputs": [],
   "source": [
    "X_test = test.copy()"
   ]
  },
  {
   "cell_type": "code",
   "execution_count": null,
   "id": "35c9a406",
   "metadata": {},
   "outputs": [],
   "source": [
    "OE = OrdinalEncoder(handle_unknown='use_encoded_value', unknown_value=-1)"
   ]
  },
  {
   "cell_type": "code",
   "execution_count": null,
   "id": "8ee06dc7",
   "metadata": {},
   "outputs": [],
   "source": [
    "X_train_oe = X_train.copy()\n",
    "X_test = test.copy()\n",
    "\n",
    "X_train_oe[cat_cols] = OE.fit_transform(X_train[cat_cols])\n",
    "X_test[cat_cols] = OE.transform(X_test[cat_cols])"
   ]
  },
  {
   "cell_type": "code",
   "execution_count": null,
   "id": "b275e8fe",
   "metadata": {},
   "outputs": [],
   "source": [
    "print(f'{X_train_oe.shape = }')\n",
    "(f'{X_test.shape = }')"
   ]
  },
  {
   "cell_type": "code",
   "execution_count": null,
   "id": "e985d6e4",
   "metadata": {},
   "outputs": [],
   "source": [
    "metrics = {\n",
    "    'fit time, seconds': {},\n",
    "    'best score (MAPE)': {},\n",
    "}\n",
    "\n",
    "\n",
    "def metrics_append(model_name, val1, val2):\n",
    "    metrics['fit time, seconds'][model_name] = val1\n",
    "    metrics['best score (MAPE)'][model_name] = val2"
   ]
  },
  {
   "cell_type": "code",
   "execution_count": null,
   "id": "928a8784",
   "metadata": {},
   "outputs": [],
   "source": [
    "from functools import wraps\n",
    "\n",
    "\n",
    "def timeit(func) -> tuple or int:\n",
    "    @wraps(func)\n",
    "    def inner(*args, **kwargs):\n",
    "        start = datetime.now()\n",
    "        result = func(*args, **kwargs)\n",
    "        end = datetime.now()\n",
    "\n",
    "        print(f'Execution time: {(end - start).seconds:.2f} seconds') \n",
    "        if result is not None:\n",
    "            return (end - start).seconds, result\n",
    "        else:\n",
    "            return (end - start).seconds\n",
    "    return inner"
   ]
  },
  {
   "cell_type": "code",
   "execution_count": null,
   "id": "0c4e61b3",
   "metadata": {},
   "outputs": [],
   "source": [
    "@timeit\n",
    "def model_fit(model, X_train, y_train=None, **kwargs) -> None:\n",
    "    model.fit(X_train, y_train, **kwargs)"
   ]
  },
  {
   "cell_type": "markdown",
   "id": "df0065a1",
   "metadata": {},
   "source": [
    "получение категориальных столбцов"
   ]
  },
  {
   "cell_type": "code",
   "execution_count": null,
   "id": "e495cc4c",
   "metadata": {},
   "outputs": [],
   "source": [
    "col_indices = [X_train_oe.columns.get_loc(col) for col in cat_cols]"
   ]
  },
  {
   "cell_type": "markdown",
   "id": "ada3c4a8",
   "metadata": {},
   "source": [
    "**1. Случайный лес**"
   ]
  },
  {
   "cell_type": "code",
   "execution_count": null,
   "id": "da5bed08",
   "metadata": {},
   "outputs": [],
   "source": [
    "param1 = {\n",
    "    'criterion' : ['poisson'],\n",
    "    'max_depth' : [5],\n",
    "    'n_estimators' : [200]\n",
    "}"
   ]
  },
  {
   "cell_type": "code",
   "execution_count": null,
   "id": "6bc33250",
   "metadata": {},
   "outputs": [],
   "source": [
    "mape_scorer = make_scorer(mean_absolute_percentage_error, greater_is_better=False)"
   ]
  },
  {
   "cell_type": "code",
   "execution_count": null,
   "id": "67f9f4a6",
   "metadata": {},
   "outputs": [],
   "source": [
    "GSrfr = GridSearchCV(\n",
    "    estimator=RandomForestRegressor(random_state=12345),\n",
    "    param_grid=param1,\n",
    "    scoring=mape_scorer,\n",
    "    refit='mape_scorer',\n",
    "    cv=3,\n",
    "    verbose=4\n",
    ")"
   ]
  },
  {
   "cell_type": "code",
   "execution_count": null,
   "id": "032e016c",
   "metadata": {},
   "outputs": [],
   "source": [
    "GSrfr_CV_time = model_fit(GSrfr, X_train_oe, y_train)"
   ]
  },
  {
   "cell_type": "code",
   "execution_count": null,
   "id": "190825fb",
   "metadata": {},
   "outputs": [],
   "source": [
    "GSrfr.best_estimator_"
   ]
  },
  {
   "cell_type": "code",
   "execution_count": null,
   "id": "084445c6",
   "metadata": {},
   "outputs": [],
   "source": [
    "f'MAPE score: {mean_absolute_percentage_error(y_train, GSrfr.predict(X_train_oe)):.3%}'"
   ]
  },
  {
   "cell_type": "markdown",
   "id": "59932ed5",
   "metadata": {},
   "source": [
    "**2. Деревья решений**"
   ]
  },
  {
   "cell_type": "code",
   "execution_count": null,
   "id": "30877597",
   "metadata": {},
   "outputs": [],
   "source": [
    "param2= {\"max_depth\": list(range(18, 19))}"
   ]
  },
  {
   "cell_type": "code",
   "execution_count": null,
   "id": "08c694f8",
   "metadata": {},
   "outputs": [],
   "source": [
    "DTR = GridSearchCV(\n",
    "    estimator=DecisionTreeRegressor(random_state=12345),\n",
    "    param_grid=param2,\n",
    "    scoring=mape_scorer,\n",
    "    refit='mape_scorer',\n",
    "    cv=3,\n",
    "    verbose=4\n",
    ")"
   ]
  },
  {
   "cell_type": "code",
   "execution_count": null,
   "id": "586e1224",
   "metadata": {},
   "outputs": [],
   "source": [
    "DTR_CV_time = model_fit(DTR, X_train_oe, y_train)"
   ]
  },
  {
   "cell_type": "code",
   "execution_count": null,
   "id": "fbe18218",
   "metadata": {},
   "outputs": [],
   "source": [
    "DTR.best_estimator_"
   ]
  },
  {
   "cell_type": "code",
   "execution_count": null,
   "id": "557536aa",
   "metadata": {},
   "outputs": [],
   "source": [
    "f'MAPE CV score: {mean_absolute_percentage_error(y_train, DTR.predict(X_train_oe)):.3%}'"
   ]
  },
  {
   "cell_type": "markdown",
   "id": "f424f315",
   "metadata": {},
   "source": [
    "**3.Градиентный бустинг - LGBMRegressor**"
   ]
  },
  {
   "cell_type": "code",
   "execution_count": null,
   "id": "7473ebdf",
   "metadata": {},
   "outputs": [],
   "source": [
    "gbm = lgb.LGBMRegressor(\n",
    "    application='regression',\n",
    "    metric='mae',\n",
    "    categorical_feature=col_indices \n",
    ")"
   ]
  },
  {
   "cell_type": "code",
   "execution_count": null,
   "id": "f2473d09",
   "metadata": {},
   "outputs": [],
   "source": [
    "params = {\n",
    "    'learning_rate': [0.1],\n",
    "    'max_bin': [255],\n",
    "    'n_estimators': [300], \n",
    "    'num_leaves': [400],\n",
    "    'max_depth': [20]\n",
    "}"
   ]
  },
  {
   "cell_type": "code",
   "execution_count": null,
   "id": "d84416a7",
   "metadata": {},
   "outputs": [],
   "source": [
    "grid_gbm = GridSearchCV(gbm, params, cv=3, n_jobs=-1, scoring='neg_mean_absolute_error')"
   ]
  },
  {
   "cell_type": "code",
   "execution_count": null,
   "id": "b8729099",
   "metadata": {},
   "outputs": [],
   "source": [
    "gbm_CV_time = model_fit(grid_gbm, X_train_oe, y_train)"
   ]
  },
  {
   "cell_type": "code",
   "execution_count": null,
   "id": "a37f3617",
   "metadata": {},
   "outputs": [],
   "source": [
    "grid_gbm.best_estimator_"
   ]
  },
  {
   "cell_type": "code",
   "execution_count": null,
   "id": "62deb3ef",
   "metadata": {},
   "outputs": [],
   "source": [
    "(-grid_gbm.best_score_)"
   ]
  },
  {
   "cell_type": "markdown",
   "id": "cb4c8794",
   "metadata": {},
   "source": [
    "Проведем анализ важности признаков лучшей модели"
   ]
  },
  {
   "cell_type": "code",
   "execution_count": null,
   "id": "a60a3d84",
   "metadata": {},
   "outputs": [],
   "source": [
    "lgb.plot_importance(grid_gbm.best_estimator_)\n",
    "plt.show()"
   ]
  },
  {
   "cell_type": "markdown",
   "id": "f4944877",
   "metadata": {},
   "source": [
    "Из полученых данных видно, что важными признаками для предсказания стоимости автомобиля являются:\n",
    "\n",
    "пробег автомобиля,\n",
    "\n",
    "возраст,\n",
    "\n",
    "года производства."
   ]
  },
  {
   "cell_type": "code",
   "execution_count": null,
   "id": "60ff7c07",
   "metadata": {},
   "outputs": [],
   "source": [
    "metrics_append('LightGBM', gbm_CV_time, (-grid_gbm.best_score_))"
   ]
  },
  {
   "cell_type": "code",
   "execution_count": null,
   "id": "bca4c349",
   "metadata": {},
   "outputs": [],
   "source": [
    "pd.set_option('display.float_format', lambda x: '%.0f' % x)\n",
    "pd.DataFrame(metrics).T"
   ]
  },
  {
   "cell_type": "code",
   "execution_count": null,
   "id": "4f66d83f",
   "metadata": {},
   "outputs": [],
   "source": [
    "f'MAPE CV score: {mean_absolute_percentage_error(y_train, grid_gbm.predict(X_train_oe)):.3%}'"
   ]
  },
  {
   "cell_type": "markdown",
   "id": "afcbc05e",
   "metadata": {},
   "source": [
    " **Вывод:**\n",
    "\n",
    "Перед нами стояла задача регрессии: необходимо на основе имеющихся данных предсказать цену автомобиля на вторичном рынке.\n",
    "\n",
    "Имеется датасет, содержащий 440236, 15 характеристик и целевой признак.\n",
    "\n",
    "Датасет, доступный для обучения, очень сильно по своим характеристикам похож на тестовый.\n",
    "\n",
    "Удалили неявные дубликаты.\n",
    "\n",
    "Заполнили пропуски во всех имеющихся данных:\n",
    "\n",
    "с помощью vin востановили непонятные значения и создали признак country - страна производитель автомобиля.\n",
    "\n",
    "пропуски в данных о пробеге и состоянии автомобиля – медианным значением в зависимости от периода владения автомобилем.\n",
    "\n",
    "После обработки пропусков и дубликатов был проведен разведывательный анализ данных."
   ]
  },
  {
   "cell_type": "markdown",
   "id": "6d394014",
   "metadata": {},
   "source": [
    "**Общий вывод:**\n",
    "\n",
    "В ходе выполнения проекта была создана модель предсказания стоимости автомобиля по его характеристикам.\n",
    "\n",
    "Лучшей результат метрики MAPE = 11.56 показал LGBMRegressor."
   ]
  },
  {
   "cell_type": "code",
   "execution_count": null,
   "id": "b2132f63",
   "metadata": {},
   "outputs": [],
   "source": []
  }
 ],
 "metadata": {
  "kernelspec": {
   "display_name": "Python 3 (ipykernel)",
   "language": "python",
   "name": "python3"
  },
  "language_info": {
   "codemirror_mode": {
    "name": "ipython",
    "version": 3
   },
   "file_extension": ".py",
   "mimetype": "text/x-python",
   "name": "python",
   "nbconvert_exporter": "python",
   "pygments_lexer": "ipython3",
   "version": "3.9.13"
  }
 },
 "nbformat": 4,
 "nbformat_minor": 5
}
