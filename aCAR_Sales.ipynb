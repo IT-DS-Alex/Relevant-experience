{
 "cells": [
  {
   "cell_type": "markdown",
   "id": "95fd9e25",
   "metadata": {},
   "source": [
    "# Стоимость поддержанного автомобиля"
   ]
  },
  {
   "cell_type": "markdown",
   "id": "4dca4a13",
   "metadata": {},
   "source": [
    "Предсказание стоимости автомобиля на вторичном рынке."
   ]
  },
  {
   "cell_type": "markdown",
   "id": "9c945fcf",
   "metadata": {},
   "source": [
    "## Описание задачи"
   ]
  },
  {
   "cell_type": "markdown",
   "id": "dd13e29a",
   "metadata": {},
   "source": [
    "Многие знают про маркетплейсы где продаются б/у вещи, на которых есть возможность недорого купить качественную и полезную вещь. Но всегда волнует вопрос - кто и как устанавливает цену, и какие его характеристики больше всего влияют на итоговую стоимость продажи?! Вопрос становиться особо актуальным, если речь идет про дорогие товары, например про автомобили!\n",
    "\n",
    "Целью проекта будет разработанная модель предсказания стоимости автомобиля на вторичном рынке."
   ]
  },
  {
   "cell_type": "markdown",
   "id": "cd66ecb3",
   "metadata": {},
   "source": [
    "### Описание данных"
   ]
  },
  {
   "cell_type": "markdown",
   "id": "3f244cdf",
   "metadata": {},
   "source": [
    "Наша задача - разработать модель для предсказания стоимости продажи автомобиля на вторичном рынке.\n",
    "\n",
    "train.csv - информация о продажах автомобилей с аукционов, которые будут использоваться в качестве обучающих данных.\n",
    "\n",
    "test.csv - информация о продажах автомобилей с аукционов, которые будут использоваться в качестве тестовых данных.\n",
    "\n",
    "sample_submission.csv - файл предсказаний в правильном формате.\n",
    "\n",
    "vin - идентификатор каждого автомобиля в тестовом наборе.\n",
    "\n",
    "sellingprice - Целевой признак.\n",
    "\n",
    "'year' - год производства\n",
    "\n",
    "'make' - производитель\n",
    "\n",
    "'model' - модель\n",
    "\n",
    "'trim' - модификация\n",
    "\n",
    "'body' - тип кузова\n",
    "\n",
    "'transmission' - тип КПП\n",
    "\n",
    "'vin' - идентификатор (вин)\n",
    "\n",
    "'state' - штат регистрации\n",
    "\n",
    "'condition' - состояние по шкале (1-5)\n",
    "\n",
    "'odometer' - пробег\n",
    "\n",
    "'color' - цвет кузова\n",
    "\n",
    "'interior' - цвет интерьера\n",
    "\n",
    "'seller' - продавец\n",
    "\n",
    "'sellingprice' - стоимость продажи\n",
    "\n",
    "'saledate' - дата продажи"
   ]
  },
  {
   "cell_type": "markdown",
   "id": "b3389d9d",
   "metadata": {},
   "source": [
    "#### Примечаниe:\n",
    "\n",
    "Для оценки качества моделей применяем метрику MAPE."
   ]
  },
  {
   "cell_type": "code",
   "execution_count": null,
   "id": "38386927",
   "metadata": {},
   "outputs": [],
   "source": [
    "import numpy as np\n",
    "import pandas as pd\n",
    "import matplotlib.pyplot as plt\n",
    "import seaborn as sns\n",
    "from datetime import datetime\n",
    "import warnings"
   ]
  },
  {
   "cell_type": "code",
   "execution_count": 2,
   "id": "92161ecc",
   "metadata": {},
   "outputs": [],
   "source": [
    "pd.options.mode.chained_assignment = None\n",
    "warnings.simplefilter(action='ignore', category=FutureWarning)"
   ]
  },
  {
   "cell_type": "code",
   "execution_count": 3,
   "id": "ab180d65",
   "metadata": {},
   "outputs": [
    {
     "name": "stdout",
     "output_type": "stream",
     "text": [
      "Requirement already satisfied: vininfo in c:\\users\\family\\anaconda3\\envs\\ds_practicum_env\\lib\\site-packages (1.7.0)\n"
     ]
    }
   ],
   "source": [
    "!pip install vininfo"
   ]
  },
  {
   "cell_type": "code",
   "execution_count": 106,
   "id": "7bc192a1",
   "metadata": {},
   "outputs": [],
   "source": [
    "from sklearn.metrics import mean_absolute_percentage_error\n",
    "from sklearn.model_selection import GridSearchCV\n",
    "from sklearn.preprocessing import OrdinalEncoder\n",
    "from sklearn.ensemble import RandomForestRegressor\n",
    "from sklearn.tree import DecisionTreeRegressor\n",
    "from sklearn.metrics import make_scorer\n",
    "\n",
    "from vininfo import Vin"
   ]
  },
  {
   "cell_type": "code",
   "execution_count": 5,
   "id": "d65527ee",
   "metadata": {},
   "outputs": [],
   "source": [
    "!pip install -q lightgbm==3.3.5\n",
    "import lightgbm as lgb"
   ]
  },
  {
   "cell_type": "code",
   "execution_count": 6,
   "id": "f891e4d0",
   "metadata": {},
   "outputs": [],
   "source": [
    "!pip install -q python-Levenshtein\n",
    "from Levenshtein import distance as lev"
   ]
  },
  {
   "cell_type": "markdown",
   "id": "9551a9b9",
   "metadata": {},
   "source": [
    "## Загрузка и анализ данных"
   ]
  },
  {
   "cell_type": "code",
   "execution_count": 7,
   "id": "912f4f61",
   "metadata": {},
   "outputs": [],
   "source": [
    "df = pd.read_csv('C:/Users/Family/Downloads/used-cars-price-prediction-22ds/train.csv')\n",
    "test = pd.read_csv('C:/Users/Family/Downloads/used-cars-price-prediction-22ds/test.csv')"
   ]
  },
  {
   "cell_type": "code",
   "execution_count": 8,
   "id": "52b766cd",
   "metadata": {},
   "outputs": [],
   "source": [
    "def describe_df(df):\n",
    "    display(df.head())\n",
    "    print('-----------------------------------------------------------------------------------------------')\n",
    "    display(df.info())\n",
    "    print('-----------------------------------------------------------------------------------------------')\n",
    "    display(df.describe())\n",
    "    print('-----------------------------------------------------------------------------------------------')\n",
    "    display(f'Количество дубликатов: {df.duplicated().sum()}')"
   ]
  },
  {
   "cell_type": "code",
   "execution_count": 9,
   "id": "c4b1a08d",
   "metadata": {},
   "outputs": [
    {
     "data": {
      "text/html": [
       "<div>\n",
       "<style scoped>\n",
       "    .dataframe tbody tr th:only-of-type {\n",
       "        vertical-align: middle;\n",
       "    }\n",
       "\n",
       "    .dataframe tbody tr th {\n",
       "        vertical-align: top;\n",
       "    }\n",
       "\n",
       "    .dataframe thead th {\n",
       "        text-align: right;\n",
       "    }\n",
       "</style>\n",
       "<table border=\"1\" class=\"dataframe\">\n",
       "  <thead>\n",
       "    <tr style=\"text-align: right;\">\n",
       "      <th></th>\n",
       "      <th>year</th>\n",
       "      <th>make</th>\n",
       "      <th>model</th>\n",
       "      <th>trim</th>\n",
       "      <th>body</th>\n",
       "      <th>transmission</th>\n",
       "      <th>vin</th>\n",
       "      <th>state</th>\n",
       "      <th>condition</th>\n",
       "      <th>odometer</th>\n",
       "      <th>color</th>\n",
       "      <th>interior</th>\n",
       "      <th>seller</th>\n",
       "      <th>sellingprice</th>\n",
       "      <th>saledate</th>\n",
       "    </tr>\n",
       "  </thead>\n",
       "  <tbody>\n",
       "    <tr>\n",
       "      <th>0</th>\n",
       "      <td>2011</td>\n",
       "      <td>Ford</td>\n",
       "      <td>Edge</td>\n",
       "      <td>SEL</td>\n",
       "      <td>suv</td>\n",
       "      <td>automatic</td>\n",
       "      <td>2fmdk3jc4bba41556</td>\n",
       "      <td>md</td>\n",
       "      <td>4.2</td>\n",
       "      <td>111041.0</td>\n",
       "      <td>black</td>\n",
       "      <td>black</td>\n",
       "      <td>santander consumer</td>\n",
       "      <td>12500</td>\n",
       "      <td>Tue Jun 02 2015 02:30:00 GMT-0700 (PDT)</td>\n",
       "    </tr>\n",
       "    <tr>\n",
       "      <th>1</th>\n",
       "      <td>2014</td>\n",
       "      <td>Ford</td>\n",
       "      <td>Fusion</td>\n",
       "      <td>SE</td>\n",
       "      <td>Sedan</td>\n",
       "      <td>automatic</td>\n",
       "      <td>3fa6p0h75er208976</td>\n",
       "      <td>mo</td>\n",
       "      <td>3.5</td>\n",
       "      <td>31034.0</td>\n",
       "      <td>black</td>\n",
       "      <td>black</td>\n",
       "      <td>ars/avis budget group</td>\n",
       "      <td>14500</td>\n",
       "      <td>Wed Feb 25 2015 02:00:00 GMT-0800 (PST)</td>\n",
       "    </tr>\n",
       "    <tr>\n",
       "      <th>2</th>\n",
       "      <td>2012</td>\n",
       "      <td>Nissan</td>\n",
       "      <td>Sentra</td>\n",
       "      <td>2.0 SL</td>\n",
       "      <td>sedan</td>\n",
       "      <td>automatic</td>\n",
       "      <td>3n1ab6ap4cl698412</td>\n",
       "      <td>nj</td>\n",
       "      <td>2.2</td>\n",
       "      <td>35619.0</td>\n",
       "      <td>black</td>\n",
       "      <td>black</td>\n",
       "      <td>nissan-infiniti lt</td>\n",
       "      <td>9100</td>\n",
       "      <td>Wed Jun 10 2015 02:30:00 GMT-0700 (PDT)</td>\n",
       "    </tr>\n",
       "    <tr>\n",
       "      <th>3</th>\n",
       "      <td>2003</td>\n",
       "      <td>HUMMER</td>\n",
       "      <td>H2</td>\n",
       "      <td>Base</td>\n",
       "      <td>suv</td>\n",
       "      <td>automatic</td>\n",
       "      <td>5grgn23u93h101360</td>\n",
       "      <td>tx</td>\n",
       "      <td>2.8</td>\n",
       "      <td>131301.0</td>\n",
       "      <td>gold</td>\n",
       "      <td>beige</td>\n",
       "      <td>wichita falls ford lin inc</td>\n",
       "      <td>13300</td>\n",
       "      <td>Wed Jun 17 2015 03:00:00 GMT-0700 (PDT)</td>\n",
       "    </tr>\n",
       "    <tr>\n",
       "      <th>4</th>\n",
       "      <td>2007</td>\n",
       "      <td>Ford</td>\n",
       "      <td>Fusion</td>\n",
       "      <td>SEL</td>\n",
       "      <td>Sedan</td>\n",
       "      <td>automatic</td>\n",
       "      <td>3fahp08z17r268380</td>\n",
       "      <td>md</td>\n",
       "      <td>2.0</td>\n",
       "      <td>127709.0</td>\n",
       "      <td>black</td>\n",
       "      <td>black</td>\n",
       "      <td>purple heart</td>\n",
       "      <td>1300</td>\n",
       "      <td>Tue Feb 03 2015 04:00:00 GMT-0800 (PST)</td>\n",
       "    </tr>\n",
       "  </tbody>\n",
       "</table>\n",
       "</div>"
      ],
      "text/plain": [
       "   year    make   model    trim   body transmission                vin state  \\\n",
       "0  2011    Ford    Edge     SEL    suv    automatic  2fmdk3jc4bba41556    md   \n",
       "1  2014    Ford  Fusion      SE  Sedan    automatic  3fa6p0h75er208976    mo   \n",
       "2  2012  Nissan  Sentra  2.0 SL  sedan    automatic  3n1ab6ap4cl698412    nj   \n",
       "3  2003  HUMMER      H2    Base    suv    automatic  5grgn23u93h101360    tx   \n",
       "4  2007    Ford  Fusion     SEL  Sedan    automatic  3fahp08z17r268380    md   \n",
       "\n",
       "   condition  odometer  color interior                      seller  \\\n",
       "0        4.2  111041.0  black    black          santander consumer   \n",
       "1        3.5   31034.0  black    black       ars/avis budget group   \n",
       "2        2.2   35619.0  black    black          nissan-infiniti lt   \n",
       "3        2.8  131301.0   gold    beige  wichita falls ford lin inc   \n",
       "4        2.0  127709.0  black    black                purple heart   \n",
       "\n",
       "   sellingprice                                 saledate  \n",
       "0         12500  Tue Jun 02 2015 02:30:00 GMT-0700 (PDT)  \n",
       "1         14500  Wed Feb 25 2015 02:00:00 GMT-0800 (PST)  \n",
       "2          9100  Wed Jun 10 2015 02:30:00 GMT-0700 (PDT)  \n",
       "3         13300  Wed Jun 17 2015 03:00:00 GMT-0700 (PDT)  \n",
       "4          1300  Tue Feb 03 2015 04:00:00 GMT-0800 (PST)  "
      ]
     },
     "metadata": {},
     "output_type": "display_data"
    },
    {
     "name": "stdout",
     "output_type": "stream",
     "text": [
      "-----------------------------------------------------------------------------------------------\n",
      "<class 'pandas.core.frame.DataFrame'>\n",
      "RangeIndex: 440236 entries, 0 to 440235\n",
      "Data columns (total 15 columns):\n",
      " #   Column        Non-Null Count   Dtype  \n",
      "---  ------        --------------   -----  \n",
      " 0   year          440236 non-null  int64  \n",
      " 1   make          432193 non-null  object \n",
      " 2   model         432113 non-null  object \n",
      " 3   trim          431899 non-null  object \n",
      " 4   body          429843 non-null  object \n",
      " 5   transmission  388775 non-null  object \n",
      " 6   vin           440236 non-null  object \n",
      " 7   state         440236 non-null  object \n",
      " 8   condition     430831 non-null  float64\n",
      " 9   odometer      440167 non-null  float64\n",
      " 10  color         439650 non-null  object \n",
      " 11  interior      439650 non-null  object \n",
      " 12  seller        440236 non-null  object \n",
      " 13  sellingprice  440236 non-null  int64  \n",
      " 14  saledate      440236 non-null  object \n",
      "dtypes: float64(2), int64(2), object(11)\n",
      "memory usage: 50.4+ MB\n"
     ]
    },
    {
     "data": {
      "text/plain": [
       "None"
      ]
     },
     "metadata": {},
     "output_type": "display_data"
    },
    {
     "name": "stdout",
     "output_type": "stream",
     "text": [
      "-----------------------------------------------------------------------------------------------\n"
     ]
    },
    {
     "data": {
      "text/html": [
       "<div>\n",
       "<style scoped>\n",
       "    .dataframe tbody tr th:only-of-type {\n",
       "        vertical-align: middle;\n",
       "    }\n",
       "\n",
       "    .dataframe tbody tr th {\n",
       "        vertical-align: top;\n",
       "    }\n",
       "\n",
       "    .dataframe thead th {\n",
       "        text-align: right;\n",
       "    }\n",
       "</style>\n",
       "<table border=\"1\" class=\"dataframe\">\n",
       "  <thead>\n",
       "    <tr style=\"text-align: right;\">\n",
       "      <th></th>\n",
       "      <th>year</th>\n",
       "      <th>condition</th>\n",
       "      <th>odometer</th>\n",
       "      <th>sellingprice</th>\n",
       "    </tr>\n",
       "  </thead>\n",
       "  <tbody>\n",
       "    <tr>\n",
       "      <th>count</th>\n",
       "      <td>440236.000000</td>\n",
       "      <td>430831.000000</td>\n",
       "      <td>440167.000000</td>\n",
       "      <td>440236.000000</td>\n",
       "    </tr>\n",
       "    <tr>\n",
       "      <th>mean</th>\n",
       "      <td>2010.040101</td>\n",
       "      <td>3.425077</td>\n",
       "      <td>68344.421604</td>\n",
       "      <td>13592.209588</td>\n",
       "    </tr>\n",
       "    <tr>\n",
       "      <th>std</th>\n",
       "      <td>3.977945</td>\n",
       "      <td>0.949973</td>\n",
       "      <td>53542.203908</td>\n",
       "      <td>9751.479098</td>\n",
       "    </tr>\n",
       "    <tr>\n",
       "      <th>min</th>\n",
       "      <td>1982.000000</td>\n",
       "      <td>1.000000</td>\n",
       "      <td>1.000000</td>\n",
       "      <td>1.000000</td>\n",
       "    </tr>\n",
       "    <tr>\n",
       "      <th>25%</th>\n",
       "      <td>2007.000000</td>\n",
       "      <td>2.700000</td>\n",
       "      <td>28258.000000</td>\n",
       "      <td>6900.000000</td>\n",
       "    </tr>\n",
       "    <tr>\n",
       "      <th>50%</th>\n",
       "      <td>2012.000000</td>\n",
       "      <td>3.600000</td>\n",
       "      <td>52098.000000</td>\n",
       "      <td>12100.000000</td>\n",
       "    </tr>\n",
       "    <tr>\n",
       "      <th>75%</th>\n",
       "      <td>2013.000000</td>\n",
       "      <td>4.200000</td>\n",
       "      <td>99272.000000</td>\n",
       "      <td>18200.000000</td>\n",
       "    </tr>\n",
       "    <tr>\n",
       "      <th>max</th>\n",
       "      <td>2015.000000</td>\n",
       "      <td>5.000000</td>\n",
       "      <td>999999.000000</td>\n",
       "      <td>230000.000000</td>\n",
       "    </tr>\n",
       "  </tbody>\n",
       "</table>\n",
       "</div>"
      ],
      "text/plain": [
       "                year      condition       odometer   sellingprice\n",
       "count  440236.000000  430831.000000  440167.000000  440236.000000\n",
       "mean     2010.040101       3.425077   68344.421604   13592.209588\n",
       "std         3.977945       0.949973   53542.203908    9751.479098\n",
       "min      1982.000000       1.000000       1.000000       1.000000\n",
       "25%      2007.000000       2.700000   28258.000000    6900.000000\n",
       "50%      2012.000000       3.600000   52098.000000   12100.000000\n",
       "75%      2013.000000       4.200000   99272.000000   18200.000000\n",
       "max      2015.000000       5.000000  999999.000000  230000.000000"
      ]
     },
     "metadata": {},
     "output_type": "display_data"
    },
    {
     "name": "stdout",
     "output_type": "stream",
     "text": [
      "-----------------------------------------------------------------------------------------------\n"
     ]
    },
    {
     "data": {
      "text/plain": [
       "'Количество дубликатов: 0'"
      ]
     },
     "metadata": {},
     "output_type": "display_data"
    }
   ],
   "source": [
    "describe_df(df)"
   ]
  },
  {
   "cell_type": "code",
   "execution_count": 10,
   "id": "8597059f",
   "metadata": {},
   "outputs": [
    {
     "data": {
      "image/png": "[encoded data removed]",
      "text/plain": [
       "<Figure size 1500x1500 with 4 Axes>"
      ]
     },
     "metadata": {},
     "output_type": "display_data"
    }
   ],
   "source": [
    "df.hist(figsize=(15,15), xrot=30)\n",
    "plt.tight_layout()\n",
    "plt.show()"
   ]
  },
  {
   "cell_type": "code",
   "execution_count": 11,
   "id": "503a94c0",
   "metadata": {},
   "outputs": [],
   "source": [
    "def lowercase(row):\n",
    "    return str(row).lower()"
   ]
  },
  {
   "cell_type": "code",
   "execution_count": 12,
   "id": "84272e23",
   "metadata": {},
   "outputs": [],
   "source": [
    "for column in df.select_dtypes('object').drop('saledate', axis=1).columns:\n",
    "    df[column] = df[column].apply(lowercase)"
   ]
  },
  {
   "cell_type": "code",
   "execution_count": 13,
   "id": "b50f6ff3",
   "metadata": {},
   "outputs": [],
   "source": [
    "for column in df.select_dtypes('object').drop('saledate', axis=1).columns:\n",
    "    test[column] = test[column].apply(lowercase)"
   ]
  },
  {
   "cell_type": "code",
   "execution_count": 14,
   "id": "1f259dac",
   "metadata": {},
   "outputs": [
    {
     "data": {
      "text/html": [
       "<div>\n",
       "<style scoped>\n",
       "    .dataframe tbody tr th:only-of-type {\n",
       "        vertical-align: middle;\n",
       "    }\n",
       "\n",
       "    .dataframe tbody tr th {\n",
       "        vertical-align: top;\n",
       "    }\n",
       "\n",
       "    .dataframe thead th {\n",
       "        text-align: right;\n",
       "    }\n",
       "</style>\n",
       "<table border=\"1\" class=\"dataframe\">\n",
       "  <thead>\n",
       "    <tr style=\"text-align: right;\">\n",
       "      <th></th>\n",
       "      <th>year</th>\n",
       "      <th>make</th>\n",
       "      <th>model</th>\n",
       "      <th>trim</th>\n",
       "      <th>body</th>\n",
       "      <th>transmission</th>\n",
       "      <th>vin</th>\n",
       "      <th>state</th>\n",
       "      <th>condition</th>\n",
       "      <th>odometer</th>\n",
       "      <th>color</th>\n",
       "      <th>interior</th>\n",
       "      <th>seller</th>\n",
       "      <th>sellingprice</th>\n",
       "      <th>saledate</th>\n",
       "    </tr>\n",
       "  </thead>\n",
       "  <tbody>\n",
       "    <tr>\n",
       "      <th>0</th>\n",
       "      <td>2011</td>\n",
       "      <td>ford</td>\n",
       "      <td>edge</td>\n",
       "      <td>sel</td>\n",
       "      <td>suv</td>\n",
       "      <td>automatic</td>\n",
       "      <td>2fmdk3jc4bba41556</td>\n",
       "      <td>md</td>\n",
       "      <td>4.2</td>\n",
       "      <td>111041.0</td>\n",
       "      <td>black</td>\n",
       "      <td>black</td>\n",
       "      <td>santander consumer</td>\n",
       "      <td>12500</td>\n",
       "      <td>Tue Jun 02 2015 02:30:00 GMT-0700 (PDT)</td>\n",
       "    </tr>\n",
       "    <tr>\n",
       "      <th>1</th>\n",
       "      <td>2014</td>\n",
       "      <td>ford</td>\n",
       "      <td>fusion</td>\n",
       "      <td>se</td>\n",
       "      <td>sedan</td>\n",
       "      <td>automatic</td>\n",
       "      <td>3fa6p0h75er208976</td>\n",
       "      <td>mo</td>\n",
       "      <td>3.5</td>\n",
       "      <td>31034.0</td>\n",
       "      <td>black</td>\n",
       "      <td>black</td>\n",
       "      <td>ars/avis budget group</td>\n",
       "      <td>14500</td>\n",
       "      <td>Wed Feb 25 2015 02:00:00 GMT-0800 (PST)</td>\n",
       "    </tr>\n",
       "    <tr>\n",
       "      <th>2</th>\n",
       "      <td>2012</td>\n",
       "      <td>nissan</td>\n",
       "      <td>sentra</td>\n",
       "      <td>2.0 sl</td>\n",
       "      <td>sedan</td>\n",
       "      <td>automatic</td>\n",
       "      <td>3n1ab6ap4cl698412</td>\n",
       "      <td>nj</td>\n",
       "      <td>2.2</td>\n",
       "      <td>35619.0</td>\n",
       "      <td>black</td>\n",
       "      <td>black</td>\n",
       "      <td>nissan-infiniti lt</td>\n",
       "      <td>9100</td>\n",
       "      <td>Wed Jun 10 2015 02:30:00 GMT-0700 (PDT)</td>\n",
       "    </tr>\n",
       "    <tr>\n",
       "      <th>3</th>\n",
       "      <td>2003</td>\n",
       "      <td>hummer</td>\n",
       "      <td>h2</td>\n",
       "      <td>base</td>\n",
       "      <td>suv</td>\n",
       "      <td>automatic</td>\n",
       "      <td>5grgn23u93h101360</td>\n",
       "      <td>tx</td>\n",
       "      <td>2.8</td>\n",
       "      <td>131301.0</td>\n",
       "      <td>gold</td>\n",
       "      <td>beige</td>\n",
       "      <td>wichita falls ford lin inc</td>\n",
       "      <td>13300</td>\n",
       "      <td>Wed Jun 17 2015 03:00:00 GMT-0700 (PDT)</td>\n",
       "    </tr>\n",
       "    <tr>\n",
       "      <th>4</th>\n",
       "      <td>2007</td>\n",
       "      <td>ford</td>\n",
       "      <td>fusion</td>\n",
       "      <td>sel</td>\n",
       "      <td>sedan</td>\n",
       "      <td>automatic</td>\n",
       "      <td>3fahp08z17r268380</td>\n",
       "      <td>md</td>\n",
       "      <td>2.0</td>\n",
       "      <td>127709.0</td>\n",
       "      <td>black</td>\n",
       "      <td>black</td>\n",
       "      <td>purple heart</td>\n",
       "      <td>1300</td>\n",
       "      <td>Tue Feb 03 2015 04:00:00 GMT-0800 (PST)</td>\n",
       "    </tr>\n",
       "  </tbody>\n",
       "</table>\n",
       "</div>"
      ],
      "text/plain": [
       "   year    make   model    trim   body transmission                vin state  \\\n",
       "0  2011    ford    edge     sel    suv    automatic  2fmdk3jc4bba41556    md   \n",
       "1  2014    ford  fusion      se  sedan    automatic  3fa6p0h75er208976    mo   \n",
       "2  2012  nissan  sentra  2.0 sl  sedan    automatic  3n1ab6ap4cl698412    nj   \n",
       "3  2003  hummer      h2    base    suv    automatic  5grgn23u93h101360    tx   \n",
       "4  2007    ford  fusion     sel  sedan    automatic  3fahp08z17r268380    md   \n",
       "\n",
       "   condition  odometer  color interior                      seller  \\\n",
       "0        4.2  111041.0  black    black          santander consumer   \n",
       "1        3.5   31034.0  black    black       ars/avis budget group   \n",
       "2        2.2   35619.0  black    black          nissan-infiniti lt   \n",
       "3        2.8  131301.0   gold    beige  wichita falls ford lin inc   \n",
       "4        2.0  127709.0  black    black                purple heart   \n",
       "\n",
       "   sellingprice                                 saledate  \n",
       "0         12500  Tue Jun 02 2015 02:30:00 GMT-0700 (PDT)  \n",
       "1         14500  Wed Feb 25 2015 02:00:00 GMT-0800 (PST)  \n",
       "2          9100  Wed Jun 10 2015 02:30:00 GMT-0700 (PDT)  \n",
       "3         13300  Wed Jun 17 2015 03:00:00 GMT-0700 (PDT)  \n",
       "4          1300  Tue Feb 03 2015 04:00:00 GMT-0800 (PST)  "
      ]
     },
     "execution_count": 14,
     "metadata": {},
     "output_type": "execute_result"
    }
   ],
   "source": [
    "df.head()"
   ]
  },
  {
   "cell_type": "code",
   "execution_count": 15,
   "id": "924dc7c4",
   "metadata": {},
   "outputs": [
    {
     "data": {
      "text/plain": [
       "Index(['year', 'condition', 'odometer', 'sellingprice'], dtype='object')"
      ]
     },
     "execution_count": 15,
     "metadata": {},
     "output_type": "execute_result"
    }
   ],
   "source": [
    "df.select_dtypes(['int64', 'float64']).columns"
   ]
  },
  {
   "cell_type": "code",
   "execution_count": 16,
   "id": "eddf2406",
   "metadata": {},
   "outputs": [
    {
     "data": {
      "image/png": "[encoded data removed]",
      "text/plain": [
       "<Figure size 640x480 with 1 Axes>"
      ]
     },
     "metadata": {},
     "output_type": "display_data"
    }
   ],
   "source": [
    "sns.boxplot(df.year);"
   ]
  },
  {
   "cell_type": "code",
   "execution_count": 17,
   "id": "ddb54d9c",
   "metadata": {},
   "outputs": [
    {
     "data": {
      "text/plain": [
       "1989"
      ]
     },
     "execution_count": 17,
     "metadata": {},
     "output_type": "execute_result"
    }
   ],
   "source": [
    "len(df[df['year'] < 1997])"
   ]
  },
  {
   "cell_type": "code",
   "execution_count": 18,
   "id": "8a4ac2b4",
   "metadata": {},
   "outputs": [],
   "source": [
    "df = df[df['year'] > 1997]"
   ]
  },
  {
   "cell_type": "code",
   "execution_count": 19,
   "id": "10cfc4da",
   "metadata": {},
   "outputs": [
    {
     "data": {
      "image/png": "[encoded data removed]",
      "text/plain": [
       "<Figure size 640x480 with 1 Axes>"
      ]
     },
     "metadata": {},
     "output_type": "display_data"
    }
   ],
   "source": [
    "sns.boxplot(df['condition']);"
   ]
  },
  {
   "cell_type": "code",
   "execution_count": 20,
   "id": "4ab7db4a",
   "metadata": {},
   "outputs": [
    {
     "data": {
      "image/png": "[encoded data removed]",
      "text/plain": [
       "<Figure size 640x480 with 1 Axes>"
      ]
     },
     "metadata": {},
     "output_type": "display_data"
    }
   ],
   "source": [
    "sns.boxplot(df['sellingprice']);"
   ]
  },
  {
   "cell_type": "code",
   "execution_count": 21,
   "id": "101bd63e",
   "metadata": {},
   "outputs": [
    {
     "data": {
      "text/html": [
       "<div>\n",
       "<style scoped>\n",
       "    .dataframe tbody tr th:only-of-type {\n",
       "        vertical-align: middle;\n",
       "    }\n",
       "\n",
       "    .dataframe tbody tr th {\n",
       "        vertical-align: top;\n",
       "    }\n",
       "\n",
       "    .dataframe thead th {\n",
       "        text-align: right;\n",
       "    }\n",
       "</style>\n",
       "<table border=\"1\" class=\"dataframe\">\n",
       "  <thead>\n",
       "    <tr style=\"text-align: right;\">\n",
       "      <th></th>\n",
       "      <th>year</th>\n",
       "      <th>make</th>\n",
       "      <th>model</th>\n",
       "      <th>trim</th>\n",
       "      <th>body</th>\n",
       "      <th>transmission</th>\n",
       "      <th>vin</th>\n",
       "      <th>state</th>\n",
       "      <th>condition</th>\n",
       "      <th>odometer</th>\n",
       "      <th>color</th>\n",
       "      <th>interior</th>\n",
       "      <th>seller</th>\n",
       "      <th>sellingprice</th>\n",
       "      <th>saledate</th>\n",
       "    </tr>\n",
       "  </thead>\n",
       "  <tbody>\n",
       "    <tr>\n",
       "      <th>392004</th>\n",
       "      <td>2014</td>\n",
       "      <td>ford</td>\n",
       "      <td>escape</td>\n",
       "      <td>titanium</td>\n",
       "      <td>suv</td>\n",
       "      <td>automatic</td>\n",
       "      <td>1fmcu9j98eua23833</td>\n",
       "      <td>mo</td>\n",
       "      <td>4.3</td>\n",
       "      <td>27802.0</td>\n",
       "      <td>green</td>\n",
       "      <td>tan</td>\n",
       "      <td>ford-lincoln dealer program</td>\n",
       "      <td>230000</td>\n",
       "      <td>Wed Feb 25 2015 02:00:00 GMT-0800 (PST)</td>\n",
       "    </tr>\n",
       "  </tbody>\n",
       "</table>\n",
       "</div>"
      ],
      "text/plain": [
       "        year  make   model      trim body transmission                vin  \\\n",
       "392004  2014  ford  escape  titanium  suv    automatic  1fmcu9j98eua23833   \n",
       "\n",
       "       state  condition  odometer  color interior  \\\n",
       "392004    mo        4.3   27802.0  green      tan   \n",
       "\n",
       "                             seller  sellingprice  \\\n",
       "392004  ford-lincoln dealer program        230000   \n",
       "\n",
       "                                       saledate  \n",
       "392004  Wed Feb 25 2015 02:00:00 GMT-0800 (PST)  "
      ]
     },
     "execution_count": 21,
     "metadata": {},
     "output_type": "execute_result"
    }
   ],
   "source": [
    "df[df['sellingprice'] > 200000]"
   ]
  },
  {
   "cell_type": "markdown",
   "id": "477e444d",
   "metadata": {},
   "source": [
    "Убираем данную строку из дата сета, как аномальную"
   ]
  },
  {
   "cell_type": "code",
   "execution_count": 22,
   "id": "0d537d44",
   "metadata": {},
   "outputs": [],
   "source": [
    "df = df[df['sellingprice'] < 200000]"
   ]
  },
  {
   "cell_type": "code",
   "execution_count": 23,
   "id": "0c5b3d81",
   "metadata": {},
   "outputs": [
    {
     "data": {
      "text/html": [
       "<div>\n",
       "<style scoped>\n",
       "    .dataframe tbody tr th:only-of-type {\n",
       "        vertical-align: middle;\n",
       "    }\n",
       "\n",
       "    .dataframe tbody tr th {\n",
       "        vertical-align: top;\n",
       "    }\n",
       "\n",
       "    .dataframe thead th {\n",
       "        text-align: right;\n",
       "    }\n",
       "</style>\n",
       "<table border=\"1\" class=\"dataframe\">\n",
       "  <thead>\n",
       "    <tr style=\"text-align: right;\">\n",
       "      <th></th>\n",
       "      <th>year</th>\n",
       "      <th>make</th>\n",
       "      <th>model</th>\n",
       "      <th>trim</th>\n",
       "      <th>body</th>\n",
       "      <th>transmission</th>\n",
       "      <th>vin</th>\n",
       "      <th>state</th>\n",
       "      <th>condition</th>\n",
       "      <th>odometer</th>\n",
       "      <th>color</th>\n",
       "      <th>interior</th>\n",
       "      <th>seller</th>\n",
       "      <th>sellingprice</th>\n",
       "      <th>saledate</th>\n",
       "    </tr>\n",
       "  </thead>\n",
       "  <tbody>\n",
       "    <tr>\n",
       "      <th>13149</th>\n",
       "      <td>2014</td>\n",
       "      <td>bmw</td>\n",
       "      <td>i8</td>\n",
       "      <td>base</td>\n",
       "      <td>coupe</td>\n",
       "      <td>automatic</td>\n",
       "      <td>wby2z2c50evx64103</td>\n",
       "      <td>ca</td>\n",
       "      <td>5.0</td>\n",
       "      <td>603.0</td>\n",
       "      <td>white</td>\n",
       "      <td>beige</td>\n",
       "      <td>high bid trading co inc</td>\n",
       "      <td>158000</td>\n",
       "      <td>Thu Feb 12 2015 04:00:00 GMT-0800 (PST)</td>\n",
       "    </tr>\n",
       "    <tr>\n",
       "      <th>26083</th>\n",
       "      <td>2013</td>\n",
       "      <td>rolls-royce</td>\n",
       "      <td>ghost</td>\n",
       "      <td>base</td>\n",
       "      <td>sedan</td>\n",
       "      <td>automatic</td>\n",
       "      <td>sca664s52dux52152</td>\n",
       "      <td>fl</td>\n",
       "      <td>4.2</td>\n",
       "      <td>7852.0</td>\n",
       "      <td>white</td>\n",
       "      <td>beige</td>\n",
       "      <td>flag/landrover southpointe</td>\n",
       "      <td>171500</td>\n",
       "      <td>Wed Jun 17 2015 03:05:00 GMT-0700 (PDT)</td>\n",
       "    </tr>\n",
       "    <tr>\n",
       "      <th>33801</th>\n",
       "      <td>2012</td>\n",
       "      <td>ferrari</td>\n",
       "      <td>california</td>\n",
       "      <td>base</td>\n",
       "      <td>convertible</td>\n",
       "      <td>automatic</td>\n",
       "      <td>zff65tja5c0187066</td>\n",
       "      <td>ca</td>\n",
       "      <td>4.2</td>\n",
       "      <td>10902.0</td>\n",
       "      <td>gray</td>\n",
       "      <td>brown</td>\n",
       "      <td>chicago motor car corporation</td>\n",
       "      <td>154000</td>\n",
       "      <td>Tue Dec 30 2014 12:30:00 GMT-0800 (PST)</td>\n",
       "    </tr>\n",
       "    <tr>\n",
       "      <th>71372</th>\n",
       "      <td>2011</td>\n",
       "      <td>rolls-royce</td>\n",
       "      <td>ghost</td>\n",
       "      <td>base</td>\n",
       "      <td>sedan</td>\n",
       "      <td>automatic</td>\n",
       "      <td>sca664s55bux49503</td>\n",
       "      <td>ca</td>\n",
       "      <td>4.7</td>\n",
       "      <td>22761.0</td>\n",
       "      <td>black</td>\n",
       "      <td>beige</td>\n",
       "      <td>financial services remarketing (bmw int)</td>\n",
       "      <td>155000</td>\n",
       "      <td>Thu May 21 2015 05:30:00 GMT-0700 (PDT)</td>\n",
       "    </tr>\n",
       "    <tr>\n",
       "      <th>117927</th>\n",
       "      <td>2012</td>\n",
       "      <td>ferrari</td>\n",
       "      <td>california</td>\n",
       "      <td>base</td>\n",
       "      <td>convertible</td>\n",
       "      <td>automatic</td>\n",
       "      <td>zff65lja1c0183418</td>\n",
       "      <td>fl</td>\n",
       "      <td>4.5</td>\n",
       "      <td>8149.0</td>\n",
       "      <td>silver</td>\n",
       "      <td>red</td>\n",
       "      <td>the collection</td>\n",
       "      <td>156000</td>\n",
       "      <td>Thu Dec 18 2014 09:15:00 GMT-0800 (PST)</td>\n",
       "    </tr>\n",
       "    <tr>\n",
       "      <th>134215</th>\n",
       "      <td>2014</td>\n",
       "      <td>bmw</td>\n",
       "      <td>i8</td>\n",
       "      <td>base</td>\n",
       "      <td>coupe</td>\n",
       "      <td>automatic</td>\n",
       "      <td>wby2z2c58evx64401</td>\n",
       "      <td>ca</td>\n",
       "      <td>4.4</td>\n",
       "      <td>303.0</td>\n",
       "      <td>white</td>\n",
       "      <td>gray</td>\n",
       "      <td>phelps auto sales</td>\n",
       "      <td>161000</td>\n",
       "      <td>Thu Feb 26 2015 04:30:00 GMT-0800 (PST)</td>\n",
       "    </tr>\n",
       "    <tr>\n",
       "      <th>174387</th>\n",
       "      <td>2013</td>\n",
       "      <td>bentley</td>\n",
       "      <td>continental gtc</td>\n",
       "      <td>base</td>\n",
       "      <td>convertible</td>\n",
       "      <td>automatic</td>\n",
       "      <td>scbgr3za1dc079560</td>\n",
       "      <td>ca</td>\n",
       "      <td>4.3</td>\n",
       "      <td>5593.0</td>\n",
       "      <td>black</td>\n",
       "      <td>brown</td>\n",
       "      <td>jaguar san diego</td>\n",
       "      <td>158000</td>\n",
       "      <td>Thu Feb 26 2015 04:00:00 GMT-0800 (PST)</td>\n",
       "    </tr>\n",
       "    <tr>\n",
       "      <th>189179</th>\n",
       "      <td>2014</td>\n",
       "      <td>bmw</td>\n",
       "      <td>i8</td>\n",
       "      <td>base</td>\n",
       "      <td>coupe</td>\n",
       "      <td>automatic</td>\n",
       "      <td>wby2z2c59evx64214</td>\n",
       "      <td>ca</td>\n",
       "      <td>5.0</td>\n",
       "      <td>60.0</td>\n",
       "      <td>white</td>\n",
       "      <td>brown</td>\n",
       "      <td>ferrari of orange county</td>\n",
       "      <td>165000</td>\n",
       "      <td>Thu Jan 15 2015 04:00:00 GMT-0800 (PST)</td>\n",
       "    </tr>\n",
       "    <tr>\n",
       "      <th>195471</th>\n",
       "      <td>2012</td>\n",
       "      <td>rolls-royce</td>\n",
       "      <td>ghost</td>\n",
       "      <td>ewb</td>\n",
       "      <td>sedan</td>\n",
       "      <td>automatic</td>\n",
       "      <td>sca664l50cux65625</td>\n",
       "      <td>ca</td>\n",
       "      <td>3.6</td>\n",
       "      <td>11832.0</td>\n",
       "      <td>white</td>\n",
       "      <td>black</td>\n",
       "      <td>bentley scottsdale</td>\n",
       "      <td>169000</td>\n",
       "      <td>Thu Jun 18 2015 05:30:00 GMT-0700 (PDT)</td>\n",
       "    </tr>\n",
       "    <tr>\n",
       "      <th>218054</th>\n",
       "      <td>2012</td>\n",
       "      <td>rolls-royce</td>\n",
       "      <td>ghost</td>\n",
       "      <td>base</td>\n",
       "      <td>sedan</td>\n",
       "      <td>automatic</td>\n",
       "      <td>sca664s59cux50803</td>\n",
       "      <td>ca</td>\n",
       "      <td>4.4</td>\n",
       "      <td>5215.0</td>\n",
       "      <td>white</td>\n",
       "      <td>tan</td>\n",
       "      <td>financial services remarketing (bmw int)</td>\n",
       "      <td>167000</td>\n",
       "      <td>Thu Jun 18 2015 05:30:00 GMT-0700 (PDT)</td>\n",
       "    </tr>\n",
       "    <tr>\n",
       "      <th>266907</th>\n",
       "      <td>2014</td>\n",
       "      <td>bentley</td>\n",
       "      <td>flying spur</td>\n",
       "      <td>base</td>\n",
       "      <td>sedan</td>\n",
       "      <td>nan</td>\n",
       "      <td>scbec9za7ec091015</td>\n",
       "      <td>pa</td>\n",
       "      <td>4.8</td>\n",
       "      <td>12139.0</td>\n",
       "      <td>—</td>\n",
       "      <td>brown</td>\n",
       "      <td>r hollenshead auto sales inc</td>\n",
       "      <td>154750</td>\n",
       "      <td>Thu May 28 2015 02:00:00 GMT-0700 (PDT)</td>\n",
       "    </tr>\n",
       "    <tr>\n",
       "      <th>291685</th>\n",
       "      <td>2012</td>\n",
       "      <td>rolls-royce</td>\n",
       "      <td>ghost</td>\n",
       "      <td>base</td>\n",
       "      <td>sedan</td>\n",
       "      <td>automatic</td>\n",
       "      <td>sca664s58cux50727</td>\n",
       "      <td>fl</td>\n",
       "      <td>4.5</td>\n",
       "      <td>14316.0</td>\n",
       "      <td>black</td>\n",
       "      <td>beige</td>\n",
       "      <td>braman motorcars</td>\n",
       "      <td>169500</td>\n",
       "      <td>Wed Jan 14 2015 01:40:00 GMT-0800 (PST)</td>\n",
       "    </tr>\n",
       "    <tr>\n",
       "      <th>294597</th>\n",
       "      <td>2014</td>\n",
       "      <td>porsche</td>\n",
       "      <td>911</td>\n",
       "      <td>turbo</td>\n",
       "      <td>coupe</td>\n",
       "      <td>automatic</td>\n",
       "      <td>wp0ad2a91es167545</td>\n",
       "      <td>ca</td>\n",
       "      <td>4.8</td>\n",
       "      <td>11981.0</td>\n",
       "      <td>white</td>\n",
       "      <td>black</td>\n",
       "      <td>high bid trading co inc</td>\n",
       "      <td>157000</td>\n",
       "      <td>Thu Feb 26 2015 04:00:00 GMT-0800 (PST)</td>\n",
       "    </tr>\n",
       "    <tr>\n",
       "      <th>307327</th>\n",
       "      <td>2014</td>\n",
       "      <td>bmw</td>\n",
       "      <td>i8</td>\n",
       "      <td>base</td>\n",
       "      <td>coupe</td>\n",
       "      <td>automatic</td>\n",
       "      <td>wby2z2c5xevx64349</td>\n",
       "      <td>fl</td>\n",
       "      <td>5.0</td>\n",
       "      <td>530.0</td>\n",
       "      <td>gray</td>\n",
       "      <td>brown</td>\n",
       "      <td>auto plaza motor sports llc</td>\n",
       "      <td>159000</td>\n",
       "      <td>Tue Feb 10 2015 04:00:00 GMT-0800 (PST)</td>\n",
       "    </tr>\n",
       "    <tr>\n",
       "      <th>327282</th>\n",
       "      <td>2011</td>\n",
       "      <td>rolls-royce</td>\n",
       "      <td>ghost</td>\n",
       "      <td>base</td>\n",
       "      <td>sedan</td>\n",
       "      <td>automatic</td>\n",
       "      <td>sca664s58bux50113</td>\n",
       "      <td>ca</td>\n",
       "      <td>4.2</td>\n",
       "      <td>12912.0</td>\n",
       "      <td>black</td>\n",
       "      <td>black</td>\n",
       "      <td>financial services remarketing (bmw int)</td>\n",
       "      <td>163000</td>\n",
       "      <td>Wed Jan 28 2015 10:00:00 GMT-0800 (PST)</td>\n",
       "    </tr>\n",
       "    <tr>\n",
       "      <th>359111</th>\n",
       "      <td>2015</td>\n",
       "      <td>mercedes-benz</td>\n",
       "      <td>s-class</td>\n",
       "      <td>s65 amg</td>\n",
       "      <td>sedan</td>\n",
       "      <td>automatic</td>\n",
       "      <td>wddug7kb2fa102347</td>\n",
       "      <td>ca</td>\n",
       "      <td>4.1</td>\n",
       "      <td>5277.0</td>\n",
       "      <td>white</td>\n",
       "      <td>white</td>\n",
       "      <td>mercedes-benz usa</td>\n",
       "      <td>173000</td>\n",
       "      <td>Thu May 21 2015 05:00:00 GMT-0700 (PDT)</td>\n",
       "    </tr>\n",
       "    <tr>\n",
       "      <th>360913</th>\n",
       "      <td>2013</td>\n",
       "      <td>bentley</td>\n",
       "      <td>continental gtc</td>\n",
       "      <td>v8</td>\n",
       "      <td>convertible</td>\n",
       "      <td>automatic</td>\n",
       "      <td>scbgt3za7dc084568</td>\n",
       "      <td>fl</td>\n",
       "      <td>4.4</td>\n",
       "      <td>2968.0</td>\n",
       "      <td>black</td>\n",
       "      <td>red</td>\n",
       "      <td>the collection</td>\n",
       "      <td>163000</td>\n",
       "      <td>Thu Feb 12 2015 01:15:00 GMT-0800 (PST)</td>\n",
       "    </tr>\n",
       "    <tr>\n",
       "      <th>372099</th>\n",
       "      <td>2014</td>\n",
       "      <td>bmw</td>\n",
       "      <td>i8</td>\n",
       "      <td>base</td>\n",
       "      <td>coupe</td>\n",
       "      <td>automatic</td>\n",
       "      <td>wby2z2c57evx64633</td>\n",
       "      <td>ca</td>\n",
       "      <td>4.8</td>\n",
       "      <td>124.0</td>\n",
       "      <td>white</td>\n",
       "      <td>black</td>\n",
       "      <td>pacoima motors</td>\n",
       "      <td>160000</td>\n",
       "      <td>Thu Feb 12 2015 12:30:00 GMT-0800 (PST)</td>\n",
       "    </tr>\n",
       "    <tr>\n",
       "      <th>403225</th>\n",
       "      <td>2010</td>\n",
       "      <td>rolls-royce</td>\n",
       "      <td>ghost</td>\n",
       "      <td>base</td>\n",
       "      <td>sedan</td>\n",
       "      <td>automatic</td>\n",
       "      <td>sca664s56aux48701</td>\n",
       "      <td>ca</td>\n",
       "      <td>4.0</td>\n",
       "      <td>19836.0</td>\n",
       "      <td>nan</td>\n",
       "      <td>nan</td>\n",
       "      <td>financial services remarketing (bmw int)</td>\n",
       "      <td>154000</td>\n",
       "      <td>Wed Jan 28 2015 10:00:00 GMT-0800 (PST)</td>\n",
       "    </tr>\n",
       "    <tr>\n",
       "      <th>423302</th>\n",
       "      <td>2011</td>\n",
       "      <td>ferrari</td>\n",
       "      <td>458 italia</td>\n",
       "      <td>base</td>\n",
       "      <td>coupe</td>\n",
       "      <td>automatic</td>\n",
       "      <td>zff67nfa1b0178698</td>\n",
       "      <td>fl</td>\n",
       "      <td>4.6</td>\n",
       "      <td>12116.0</td>\n",
       "      <td>red</td>\n",
       "      <td>black</td>\n",
       "      <td>platinum motor cars</td>\n",
       "      <td>183000</td>\n",
       "      <td>Wed Jun 17 2015 03:40:00 GMT-0700 (PDT)</td>\n",
       "    </tr>\n",
       "  </tbody>\n",
       "</table>\n",
       "</div>"
      ],
      "text/plain": [
       "        year           make            model     trim         body  \\\n",
       "13149   2014            bmw               i8     base        coupe   \n",
       "26083   2013    rolls-royce            ghost     base        sedan   \n",
       "33801   2012        ferrari       california     base  convertible   \n",
       "71372   2011    rolls-royce            ghost     base        sedan   \n",
       "117927  2012        ferrari       california     base  convertible   \n",
       "134215  2014            bmw               i8     base        coupe   \n",
       "174387  2013        bentley  continental gtc     base  convertible   \n",
       "189179  2014            bmw               i8     base        coupe   \n",
       "195471  2012    rolls-royce            ghost      ewb        sedan   \n",
       "218054  2012    rolls-royce            ghost     base        sedan   \n",
       "266907  2014        bentley      flying spur     base        sedan   \n",
       "291685  2012    rolls-royce            ghost     base        sedan   \n",
       "294597  2014        porsche              911    turbo        coupe   \n",
       "307327  2014            bmw               i8     base        coupe   \n",
       "327282  2011    rolls-royce            ghost     base        sedan   \n",
       "359111  2015  mercedes-benz          s-class  s65 amg        sedan   \n",
       "360913  2013        bentley  continental gtc       v8  convertible   \n",
       "372099  2014            bmw               i8     base        coupe   \n",
       "403225  2010    rolls-royce            ghost     base        sedan   \n",
       "423302  2011        ferrari       458 italia     base        coupe   \n",
       "\n",
       "       transmission                vin state  condition  odometer   color  \\\n",
       "13149     automatic  wby2z2c50evx64103    ca        5.0     603.0   white   \n",
       "26083     automatic  sca664s52dux52152    fl        4.2    7852.0   white   \n",
       "33801     automatic  zff65tja5c0187066    ca        4.2   10902.0    gray   \n",
       "71372     automatic  sca664s55bux49503    ca        4.7   22761.0   black   \n",
       "117927    automatic  zff65lja1c0183418    fl        4.5    8149.0  silver   \n",
       "134215    automatic  wby2z2c58evx64401    ca        4.4     303.0   white   \n",
       "174387    automatic  scbgr3za1dc079560    ca        4.3    5593.0   black   \n",
       "189179    automatic  wby2z2c59evx64214    ca        5.0      60.0   white   \n",
       "195471    automatic  sca664l50cux65625    ca        3.6   11832.0   white   \n",
       "218054    automatic  sca664s59cux50803    ca        4.4    5215.0   white   \n",
       "266907          nan  scbec9za7ec091015    pa        4.8   12139.0       —   \n",
       "291685    automatic  sca664s58cux50727    fl        4.5   14316.0   black   \n",
       "294597    automatic  wp0ad2a91es167545    ca        4.8   11981.0   white   \n",
       "307327    automatic  wby2z2c5xevx64349    fl        5.0     530.0    gray   \n",
       "327282    automatic  sca664s58bux50113    ca        4.2   12912.0   black   \n",
       "359111    automatic  wddug7kb2fa102347    ca        4.1    5277.0   white   \n",
       "360913    automatic  scbgt3za7dc084568    fl        4.4    2968.0   black   \n",
       "372099    automatic  wby2z2c57evx64633    ca        4.8     124.0   white   \n",
       "403225    automatic  sca664s56aux48701    ca        4.0   19836.0     nan   \n",
       "423302    automatic  zff67nfa1b0178698    fl        4.6   12116.0     red   \n",
       "\n",
       "       interior                                    seller  sellingprice  \\\n",
       "13149     beige                   high bid trading co inc        158000   \n",
       "26083     beige                flag/landrover southpointe        171500   \n",
       "33801     brown             chicago motor car corporation        154000   \n",
       "71372     beige  financial services remarketing (bmw int)        155000   \n",
       "117927      red                            the collection        156000   \n",
       "134215     gray                         phelps auto sales        161000   \n",
       "174387    brown                          jaguar san diego        158000   \n",
       "189179    brown                  ferrari of orange county        165000   \n",
       "195471    black                        bentley scottsdale        169000   \n",
       "218054      tan  financial services remarketing (bmw int)        167000   \n",
       "266907    brown              r hollenshead auto sales inc        154750   \n",
       "291685    beige                          braman motorcars        169500   \n",
       "294597    black                   high bid trading co inc        157000   \n",
       "307327    brown               auto plaza motor sports llc        159000   \n",
       "327282    black  financial services remarketing (bmw int)        163000   \n",
       "359111    white                         mercedes-benz usa        173000   \n",
       "360913      red                            the collection        163000   \n",
       "372099    black                            pacoima motors        160000   \n",
       "403225      nan  financial services remarketing (bmw int)        154000   \n",
       "423302    black                       platinum motor cars        183000   \n",
       "\n",
       "                                       saledate  \n",
       "13149   Thu Feb 12 2015 04:00:00 GMT-0800 (PST)  \n",
       "26083   Wed Jun 17 2015 03:05:00 GMT-0700 (PDT)  \n",
       "33801   Tue Dec 30 2014 12:30:00 GMT-0800 (PST)  \n",
       "71372   Thu May 21 2015 05:30:00 GMT-0700 (PDT)  \n",
       "117927  Thu Dec 18 2014 09:15:00 GMT-0800 (PST)  \n",
       "134215  Thu Feb 26 2015 04:30:00 GMT-0800 (PST)  \n",
       "174387  Thu Feb 26 2015 04:00:00 GMT-0800 (PST)  \n",
       "189179  Thu Jan 15 2015 04:00:00 GMT-0800 (PST)  \n",
       "195471  Thu Jun 18 2015 05:30:00 GMT-0700 (PDT)  \n",
       "218054  Thu Jun 18 2015 05:30:00 GMT-0700 (PDT)  \n",
       "266907  Thu May 28 2015 02:00:00 GMT-0700 (PDT)  \n",
       "291685  Wed Jan 14 2015 01:40:00 GMT-0800 (PST)  \n",
       "294597  Thu Feb 26 2015 04:00:00 GMT-0800 (PST)  \n",
       "307327  Tue Feb 10 2015 04:00:00 GMT-0800 (PST)  \n",
       "327282  Wed Jan 28 2015 10:00:00 GMT-0800 (PST)  \n",
       "359111  Thu May 21 2015 05:00:00 GMT-0700 (PDT)  \n",
       "360913  Thu Feb 12 2015 01:15:00 GMT-0800 (PST)  \n",
       "372099  Thu Feb 12 2015 12:30:00 GMT-0800 (PST)  \n",
       "403225  Wed Jan 28 2015 10:00:00 GMT-0800 (PST)  \n",
       "423302  Wed Jun 17 2015 03:40:00 GMT-0700 (PDT)  "
      ]
     },
     "execution_count": 23,
     "metadata": {},
     "output_type": "execute_result"
    }
   ],
   "source": [
    "df[df['sellingprice'] > 150000]"
   ]
  },
  {
   "cell_type": "code",
   "execution_count": 24,
   "id": "3c0e9ede",
   "metadata": {},
   "outputs": [
    {
     "data": {
      "image/png": "[encoded data removed]",
      "text/plain": [
       "<Figure size 640x480 with 1 Axes>"
      ]
     },
     "metadata": {},
     "output_type": "display_data"
    }
   ],
   "source": [
    "sns.boxplot(df['odometer']);"
   ]
  },
  {
   "cell_type": "code",
   "execution_count": 25,
   "id": "54cb70fd",
   "metadata": {},
   "outputs": [
    {
     "data": {
      "image/png": "[encoded data removed]",
      "text/plain": [
       "<Figure size 640x480 with 1 Axes>"
      ]
     },
     "metadata": {},
     "output_type": "display_data"
    }
   ],
   "source": [
    "df[df['odometer'] > 600000]['sellingprice'].hist();"
   ]
  },
  {
   "cell_type": "markdown",
   "id": "4a82d26e",
   "metadata": {},
   "source": [
    "Воспользуемся функцией Vin модуля vininfo для извлечения информации о заводе и стране производства автомобиля."
   ]
  },
  {
   "cell_type": "code",
   "execution_count": 26,
   "id": "8c15d2ea",
   "metadata": {},
   "outputs": [],
   "source": [
    "def vin_make(row):\n",
    "    vin_nom = Vin(row['vin'])   \n",
    "    return vin_nom.manufacturer"
   ]
  },
  {
   "cell_type": "code",
   "execution_count": 27,
   "id": "f2bd38a4",
   "metadata": {},
   "outputs": [],
   "source": [
    "df['maker'] = df.apply(vin_make, axis=1)\n",
    "df.make = df.make.fillna(df.maker)\n",
    "df.drop('maker', axis= 1 , inplace= True )"
   ]
  },
  {
   "cell_type": "code",
   "execution_count": 28,
   "id": "ef0437f4",
   "metadata": {},
   "outputs": [],
   "source": [
    "test['maker'] = test.apply(vin_make, axis=1)\n",
    "test.make = test.make.fillna(test.maker)\n",
    "test.drop('maker', axis= 1 , inplace= True )"
   ]
  },
  {
   "cell_type": "code",
   "execution_count": 29,
   "id": "35415ce8",
   "metadata": {},
   "outputs": [],
   "source": [
    "def vin_country(row):\n",
    "    vin = Vin(row['vin'])   \n",
    "    return vin.country"
   ]
  },
  {
   "cell_type": "code",
   "execution_count": 30,
   "id": "2f6df241",
   "metadata": {},
   "outputs": [],
   "source": [
    "df['country'] = df.apply(vin_country, axis=1)\n",
    "test['country'] = test.apply(vin_country, axis=1)"
   ]
  },
  {
   "cell_type": "code",
   "execution_count": 31,
   "id": "c21e51d6",
   "metadata": {},
   "outputs": [
    {
     "data": {
      "text/plain": [
       "array(['Canada', 'Mexico', 'United States', 'South Korea', 'Japan',\n",
       "       'Sweden', 'Germany', 'United Kingdom', 'Brazil', 'Italy', 'Turkey',\n",
       "       'Thailand', 'Finland', 'Hungary', 'Australia', 'France'],\n",
       "      dtype=object)"
      ]
     },
     "execution_count": 31,
     "metadata": {},
     "output_type": "execute_result"
    }
   ],
   "source": [
    "df.country.unique()"
   ]
  },
  {
   "cell_type": "code",
   "execution_count": 32,
   "id": "a671a5b8",
   "metadata": {},
   "outputs": [
    {
     "data": {
      "text/plain": [
       "array(['United States', 'Japan', 'Canada', 'Germany', 'Mexico',\n",
       "       'South Korea', 'Sweden', 'Turkey', 'United Kingdom', 'Australia',\n",
       "       'Italy', 'Thailand', 'Hungary', 'Brazil', 'France', 'Finland'],\n",
       "      dtype=object)"
      ]
     },
     "execution_count": 32,
     "metadata": {},
     "output_type": "execute_result"
    }
   ],
   "source": [
    "test.country.unique()"
   ]
  },
  {
   "cell_type": "code",
   "execution_count": 33,
   "id": "855aef18",
   "metadata": {},
   "outputs": [
    {
     "data": {
      "text/plain": [
       "array(['Canada', 'Mexico', 'USA', 'Korea', 'Japan', 'Sweden', 'Germany',\n",
       "       'England', 'Brazil', 'Italy', 'Turkey', 'Thailand', 'Finland',\n",
       "       'Hungary', 'Australia', 'France'], dtype=object)"
      ]
     },
     "execution_count": 33,
     "metadata": {},
     "output_type": "execute_result"
    }
   ],
   "source": [
    "df.country = df.country.replace(\n",
    "    {'United States': 'USA', 'South Korea': 'Korea',\n",
    "     'United Kingdom': 'England'}\n",
    ")\n",
    "df.country.unique()"
   ]
  },
  {
   "cell_type": "code",
   "execution_count": 34,
   "id": "36c6eb08",
   "metadata": {},
   "outputs": [
    {
     "data": {
      "text/plain": [
       "array(['USA', 'Japan', 'Canada', 'Germany', 'Mexico', 'Korea', 'Sweden',\n",
       "       'Turkey', 'England', 'Australia', 'Italy', 'Thailand', 'Hungary',\n",
       "       'Brazil', 'France', 'Finland'], dtype=object)"
      ]
     },
     "execution_count": 34,
     "metadata": {},
     "output_type": "execute_result"
    }
   ],
   "source": [
    "test.country = test.country.replace(\n",
    "    {'United States': 'USA', 'South Korea': 'Korea',\n",
    "     'United Kingdom': 'England'}\n",
    ")\n",
    "test.country.unique()"
   ]
  },
  {
   "cell_type": "markdown",
   "id": "d78b7ed6",
   "metadata": {},
   "source": [
    "Работаем со следующими столбцами"
   ]
  },
  {
   "cell_type": "code",
   "execution_count": 35,
   "id": "00421374",
   "metadata": {},
   "outputs": [
    {
     "data": {
      "text/plain": [
       "Index(['make', 'model', 'trim', 'body', 'transmission', 'vin', 'state',\n",
       "       'color', 'interior', 'seller', 'saledate', 'country'],\n",
       "      dtype='object')"
      ]
     },
     "execution_count": 35,
     "metadata": {},
     "output_type": "execute_result"
    }
   ],
   "source": [
    "df.select_dtypes('object').columns"
   ]
  },
  {
   "cell_type": "code",
   "execution_count": 36,
   "id": "d92b0c2f",
   "metadata": {},
   "outputs": [
    {
     "data": {
      "text/plain": [
       "['acura',\n",
       " 'airstream',\n",
       " 'aston martin',\n",
       " 'audi',\n",
       " 'bentley',\n",
       " 'bmw',\n",
       " 'buick',\n",
       " 'cadillac',\n",
       " 'chevrolet',\n",
       " 'chrysler',\n",
       " 'daewoo',\n",
       " 'dodge',\n",
       " 'dot',\n",
       " 'ferrari',\n",
       " 'fiat',\n",
       " 'fisker',\n",
       " 'ford',\n",
       " 'ford truck',\n",
       " 'gmc',\n",
       " 'gmc truck',\n",
       " 'honda',\n",
       " 'hummer',\n",
       " 'hyundai',\n",
       " 'infiniti',\n",
       " 'isuzu',\n",
       " 'jaguar',\n",
       " 'jeep',\n",
       " 'kia',\n",
       " 'land rover',\n",
       " 'landrover',\n",
       " 'lamborghini',\n",
       " 'lexus',\n",
       " 'lincoln',\n",
       " 'mazda',\n",
       " 'maserati',\n",
       " 'mazda tk',\n",
       " 'mercedes-benz',\n",
       " 'mercedes',\n",
       " 'mercury',\n",
       " 'mercedes-b',\n",
       " 'mini',\n",
       " 'mitsubishi',\n",
       " 'nan',\n",
       " 'nissan',\n",
       " 'oldsmobile',\n",
       " 'plymouth',\n",
       " 'pontiac',\n",
       " 'porsche',\n",
       " 'ram',\n",
       " 'rolls-royce',\n",
       " 'saab',\n",
       " 'saturn',\n",
       " 'scion',\n",
       " 'smart',\n",
       " 'subaru',\n",
       " 'suzuki',\n",
       " 'tesla',\n",
       " 'toyota',\n",
       " 'volkswagen',\n",
       " 'volvo',\n",
       " 'vw']"
      ]
     },
     "execution_count": 36,
     "metadata": {},
     "output_type": "execute_result"
    }
   ],
   "source": [
    "make_d = list(df['make'].dropna().unique())\n",
    "make_d.sort(key=lambda x: x[:2])\n",
    "make_d"
   ]
  },
  {
   "cell_type": "code",
   "execution_count": 37,
   "id": "2cf49b1a",
   "metadata": {},
   "outputs": [
    {
     "data": {
      "text/plain": [
       "['acura',\n",
       " 'aston martin',\n",
       " 'audi',\n",
       " 'bentley',\n",
       " 'bmw',\n",
       " 'buick',\n",
       " 'cadillac',\n",
       " 'chevrolet',\n",
       " 'chrysler',\n",
       " 'chev truck',\n",
       " 'daewoo',\n",
       " 'dodge',\n",
       " 'ferrari',\n",
       " 'fiat',\n",
       " 'fisker',\n",
       " 'ford',\n",
       " 'ford tk',\n",
       " 'geo',\n",
       " 'gmc',\n",
       " 'honda',\n",
       " 'hummer',\n",
       " 'hyundai',\n",
       " 'hyundai tk',\n",
       " 'infiniti',\n",
       " 'isuzu',\n",
       " 'jaguar',\n",
       " 'jeep',\n",
       " 'kia',\n",
       " 'land rover',\n",
       " 'landrover',\n",
       " 'lexus',\n",
       " 'lincoln',\n",
       " 'lotus',\n",
       " 'mazda',\n",
       " 'maserati',\n",
       " 'mercedes-benz',\n",
       " 'mercury',\n",
       " 'mercedes',\n",
       " 'mitsubishi',\n",
       " 'mini',\n",
       " 'nan',\n",
       " 'nissan',\n",
       " 'oldsmobile',\n",
       " 'plymouth',\n",
       " 'pontiac',\n",
       " 'porsche',\n",
       " 'ram',\n",
       " 'rolls-royce',\n",
       " 'saturn',\n",
       " 'saab',\n",
       " 'scion',\n",
       " 'smart',\n",
       " 'subaru',\n",
       " 'suzuki',\n",
       " 'tesla',\n",
       " 'toyota',\n",
       " 'volkswagen',\n",
       " 'volvo',\n",
       " 'vw']"
      ]
     },
     "execution_count": 37,
     "metadata": {},
     "output_type": "execute_result"
    }
   ],
   "source": [
    "make_t = list(test['make'].dropna().unique())\n",
    "make_t.sort(key=lambda x: x[:2])\n",
    "make_t"
   ]
  },
  {
   "cell_type": "code",
   "execution_count": 38,
   "id": "fa02778b",
   "metadata": {},
   "outputs": [
    {
     "data": {
      "text/plain": [
       "2"
      ]
     },
     "execution_count": 38,
     "metadata": {},
     "output_type": "execute_result"
    }
   ],
   "source": [
    "len(df[df['make'].isin(['dot', 'airstream'])])"
   ]
  },
  {
   "cell_type": "code",
   "execution_count": 39,
   "id": "14f94260",
   "metadata": {},
   "outputs": [],
   "source": [
    "df = df[~df['make'].isin(['dot', 'airstream'])]"
   ]
  },
  {
   "cell_type": "code",
   "execution_count": 40,
   "id": "1f8d43f1",
   "metadata": {},
   "outputs": [],
   "source": [
    "rename_dict = {\n",
    "    'gmc truck': 'gmc',\n",
    "    'ford truck': 'ford',\n",
    "    'land rover': \"landrover\",\n",
    "    'mazda tk': 'mazda',\n",
    "    'mercedes-benz': 'mercedes', \n",
    "    'mercedes-b': 'mercedes',\n",
    "    'vw': 'volkswagen',\n",
    "    'ford tk': 'ford',\n",
    "    'hyundai tk': 'hyundai',\n",
    "    'chev truck': 'chevrolet'\n",
    "}"
   ]
  },
  {
   "cell_type": "code",
   "execution_count": 41,
   "id": "900e7d15",
   "metadata": {},
   "outputs": [],
   "source": [
    "df['make'] = df['make'].rename(rename_dict)\n",
    "test['make'] = test['make'].rename(rename_dict)\n"
   ]
  },
  {
   "cell_type": "code",
   "execution_count": 42,
   "id": "59fa60a3",
   "metadata": {},
   "outputs": [
    {
     "data": {
      "image/png": "[encoded data removed]",
      "text/plain": [
       "<Figure size 1000x400 with 1 Axes>"
      ]
     },
     "metadata": {},
     "output_type": "display_data"
    }
   ],
   "source": [
    "df['make'].value_counts(dropna=False).head(10).plot(kind='bar', rot=20, figsize=(10,4))\n",
    "plt.title('top 10 popular brands')\n",
    "plt.show()"
   ]
  },
  {
   "cell_type": "code",
   "execution_count": 43,
   "id": "bcb4c170",
   "metadata": {},
   "outputs": [
    {
     "data": {
      "text/plain": [
       "['1 series',\n",
       " '1500',\n",
       " '2 series',\n",
       " '200',\n",
       " '200sx',\n",
       " '2500',\n",
       " '3',\n",
       " '3 series',\n",
       " '3 series gran turismo',\n",
       " '300',\n",
       " '300m',\n",
       " '3000gt',\n",
       " '320i',\n",
       " '328i',\n",
       " '323i',\n",
       " '3500',\n",
       " '350z',\n",
       " '370z',\n",
       " '4 series',\n",
       " '4 series gran coupe',\n",
       " '42c',\n",
       " '458 italia',\n",
       " '4runner',\n",
       " '5 series',\n",
       " '5 series gran turismo',\n",
       " '500l',\n",
       " '500',\n",
       " '500e',\n",
       " '6',\n",
       " '6 series',\n",
       " '6 series gran coupe',\n",
       " '626',\n",
       " '7',\n",
       " '7 series',\n",
       " '750i',\n",
       " '750li',\n",
       " '750lxi',\n",
       " '9-3',\n",
       " '9-7x',\n",
       " '9-5',\n",
       " '9-2x',\n",
       " '911',\n",
       " 'a3',\n",
       " 'a4',\n",
       " 'a5',\n",
       " 'a6',\n",
       " 'a7',\n",
       " 'a8',\n",
       " 'accord',\n",
       " 'accent',\n",
       " 'acadia',\n",
       " 'accord crosstour',\n",
       " 'activehybrid x6',\n",
       " 'activehybrid 7',\n",
       " 'activehybrid 5',\n",
       " 'accord hybrid',\n",
       " 'aerio',\n",
       " 'altima',\n",
       " 'altima hybrid',\n",
       " 'allroad quattro',\n",
       " 'alero',\n",
       " 'allroad',\n",
       " 'alp',\n",
       " 'amanti',\n",
       " 'amigo',\n",
       " 'armada',\n",
       " 'aspen',\n",
       " 'astro',\n",
       " 'astra',\n",
       " 'ascender',\n",
       " 'astro cargo',\n",
       " 'ats',\n",
       " 'aura',\n",
       " 'aurora',\n",
       " 'aura hybrid',\n",
       " 'avalon',\n",
       " 'avenger',\n",
       " 'avalanche',\n",
       " 'aveo',\n",
       " 'aviator',\n",
       " 'avalon hybrid',\n",
       " 'axiom',\n",
       " 'azera',\n",
       " 'aztek',\n",
       " 'b-series truck',\n",
       " 'b-series pickup',\n",
       " 'b-class electric drive',\n",
       " 'b-series',\n",
       " 'b1500',\n",
       " 'b200',\n",
       " 'b9 tribeca',\n",
       " 'baja',\n",
       " 'beetle',\n",
       " 'beetle convertible',\n",
       " 'blazer',\n",
       " 'black diamond avalanche',\n",
       " 'blackwood',\n",
       " 'boxster',\n",
       " 'bonneville',\n",
       " 'borrego',\n",
       " 'bravada',\n",
       " 'brz',\n",
       " 'breeze',\n",
       " 'c-class',\n",
       " 'c-max hybrid',\n",
       " 'c-max energi',\n",
       " 'c/v cargo van',\n",
       " 'c/k 3500 series',\n",
       " 'c/v tradesman',\n",
       " 'c/k 1500 series',\n",
       " 'c230wz',\n",
       " 'c240w',\n",
       " 'c230',\n",
       " 'c240s',\n",
       " 'c30',\n",
       " 'c70',\n",
       " 'camry',\n",
       " 'camaro',\n",
       " 'caliber',\n",
       " 'camry hybrid',\n",
       " 'cadenza',\n",
       " 'camry solara',\n",
       " 'cavalier',\n",
       " 'captiva sport',\n",
       " 'caravan',\n",
       " 'cayenne',\n",
       " 'canyon',\n",
       " 'cayman',\n",
       " 'cabrio',\n",
       " 'cayman s',\n",
       " 'cabriolet',\n",
       " 'california',\n",
       " 'catera',\n",
       " 'carrera',\n",
       " 'capt',\n",
       " 'cc',\n",
       " 'century',\n",
       " 'celica',\n",
       " 'charger',\n",
       " 'cherokee',\n",
       " 'challenger',\n",
       " 'civic',\n",
       " 'cirrus',\n",
       " 'cls-class',\n",
       " 'cl',\n",
       " 'clk-class',\n",
       " 'cl-class',\n",
       " 'cla-class',\n",
       " 'classic',\n",
       " 'cl55',\n",
       " 'colorado',\n",
       " 'corolla',\n",
       " 'cooper countryman',\n",
       " 'cooper',\n",
       " 'corvette',\n",
       " 'commander',\n",
       " 'compass',\n",
       " 'cobalt',\n",
       " 'cooper paceman',\n",
       " 'continental gtc',\n",
       " 'cooper clubman',\n",
       " 'continental gt',\n",
       " 'cougar',\n",
       " 'continental',\n",
       " 'corvette stingray',\n",
       " 'concorde',\n",
       " 'cooper coupe',\n",
       " 'continental flying spur',\n",
       " 'coupe',\n",
       " 'continental gt speed',\n",
       " 'comm',\n",
       " 'cooper roadster',\n",
       " 'contour',\n",
       " 'continental gtc speed',\n",
       " 'continental flying spur speed',\n",
       " 'continental supersports',\n",
       " 'cruze',\n",
       " 'cr-v',\n",
       " 'crown victoria',\n",
       " 'crosstour',\n",
       " 'crossfire',\n",
       " 'cr-z',\n",
       " 'crown',\n",
       " 'cts',\n",
       " 'cts coupe',\n",
       " 'ct 200h',\n",
       " 'cts-v coupe',\n",
       " 'cts wagon',\n",
       " 'cts-v',\n",
       " 'cts-v wagon',\n",
       " 'cube',\n",
       " 'cutlass',\n",
       " 'cv tradesman',\n",
       " 'cx-5',\n",
       " 'cx-7',\n",
       " 'cx-9',\n",
       " 'dart',\n",
       " 'dakota',\n",
       " 'db9',\n",
       " 'deville',\n",
       " 'diamante',\n",
       " 'discovery series ii',\n",
       " 'discovery',\n",
       " 'dts',\n",
       " 'durango',\n",
       " 'e',\n",
       " 'e-class',\n",
       " 'e-series van',\n",
       " 'e-series wagon',\n",
       " 'e-250',\n",
       " 'e-150',\n",
       " 'e-350',\n",
       " 'e150',\n",
       " 'e250',\n",
       " 'e300dt',\n",
       " 'e350',\n",
       " 'eclipse',\n",
       " 'econoline cargo',\n",
       " 'eclipse spyder',\n",
       " 'econoline wagon',\n",
       " 'echo',\n",
       " 'edge',\n",
       " 'eighty-eight',\n",
       " 'elantra',\n",
       " 'elantra touring',\n",
       " 'element',\n",
       " 'elantra coupe',\n",
       " 'elantra gt',\n",
       " 'elr',\n",
       " 'eldorado',\n",
       " 'el',\n",
       " 'envoy xl',\n",
       " 'envoy',\n",
       " 'enclave',\n",
       " 'endeavor',\n",
       " 'entourage',\n",
       " 'encore',\n",
       " 'envoy xuv',\n",
       " 'eos',\n",
       " 'equinox',\n",
       " 'equus',\n",
       " 'equator',\n",
       " 'escape',\n",
       " 'escalade',\n",
       " 'es 350',\n",
       " 'escort',\n",
       " 'escalade esv',\n",
       " 'es 330',\n",
       " 'es 300h',\n",
       " 'escape hybrid',\n",
       " 'escalade ext',\n",
       " 'escalade hybrid',\n",
       " 'es 300',\n",
       " 'esteem',\n",
       " 'eurovan',\n",
       " 'explorer',\n",
       " 'expedition',\n",
       " 'explorer sport trac',\n",
       " 'express cargo',\n",
       " 'expedition el',\n",
       " 'express',\n",
       " 'ex35',\n",
       " 'explorer sport',\n",
       " 'expeditn',\n",
       " 'ex',\n",
       " 'excursion',\n",
       " 'excurs',\n",
       " 'expedit',\n",
       " 'f-150',\n",
       " 'f-250 super duty',\n",
       " 'f-350 super duty',\n",
       " 'f-450 super duty',\n",
       " 'f-type',\n",
       " 'f-150 heritage',\n",
       " 'f-150 svt lightning',\n",
       " 'f150',\n",
       " 'f250',\n",
       " 'f350',\n",
       " 'f430',\n",
       " 'five hundred',\n",
       " 'fiesta',\n",
       " 'fit',\n",
       " 'firebird',\n",
       " 'fj cruiser',\n",
       " 'flex',\n",
       " 'flying spur',\n",
       " 'forte',\n",
       " 'focus',\n",
       " 'fortwo',\n",
       " 'forester',\n",
       " 'forenza',\n",
       " 'focus st',\n",
       " 'freestyle',\n",
       " 'frontier',\n",
       " 'freestar',\n",
       " 'fr-s',\n",
       " 'freelander',\n",
       " 'fusion',\n",
       " 'fusion hybrid',\n",
       " 'fusion energi',\n",
       " 'fx',\n",
       " 'fx35',\n",
       " 'fx45',\n",
       " 'fx50',\n",
       " 'g coupe',\n",
       " 'g convertible',\n",
       " 'g sedan',\n",
       " 'g-class',\n",
       " 'g1500',\n",
       " 'g20',\n",
       " 'g2500',\n",
       " 'g35',\n",
       " 'g37',\n",
       " 'g37 coupe',\n",
       " 'g37 convertible',\n",
       " 'g3500',\n",
       " 'g3',\n",
       " 'g5',\n",
       " 'g55',\n",
       " 'g500',\n",
       " 'g6',\n",
       " 'g8',\n",
       " 'galant',\n",
       " 'gallardo',\n",
       " 'genesis',\n",
       " 'genesis coupe',\n",
       " 'ghost',\n",
       " 'ghibli',\n",
       " 'gl-class',\n",
       " 'glk-class',\n",
       " 'gli',\n",
       " 'gla-class',\n",
       " 'golf',\n",
       " 'golf gti',\n",
       " 'golf r',\n",
       " 'grand caravan',\n",
       " 'grand cherokee',\n",
       " 'grand',\n",
       " 'grand prix',\n",
       " 'grand vitara',\n",
       " 'grand am',\n",
       " 'grand marquis',\n",
       " 'granturismo',\n",
       " 'gr',\n",
       " 'granturismo convertible',\n",
       " 'gransport',\n",
       " 'gs 350',\n",
       " 'gs 300',\n",
       " 'gs 450h',\n",
       " 'gs 460',\n",
       " 'gs 400',\n",
       " 'gs 430',\n",
       " 'gti',\n",
       " 'gt-r',\n",
       " 'gto',\n",
       " 'gx 460',\n",
       " 'gx',\n",
       " 'gx 470',\n",
       " 'h1',\n",
       " 'h2',\n",
       " 'h2 sut',\n",
       " 'h3',\n",
       " 'h3t',\n",
       " 'hhr',\n",
       " 'highlander',\n",
       " 'highlander hybrid',\n",
       " 'hs 250h',\n",
       " 'i-miev',\n",
       " 'i-series',\n",
       " 'i35',\n",
       " 'i30',\n",
       " 'i8',\n",
       " 'ilx',\n",
       " 'impala',\n",
       " 'impala limited',\n",
       " 'impreza',\n",
       " 'impreza wrx',\n",
       " 'insight',\n",
       " 'intrepid',\n",
       " 'intrigue',\n",
       " 'integra',\n",
       " 'ion',\n",
       " 'iq',\n",
       " 'is 250',\n",
       " 'is 350',\n",
       " 'is 300',\n",
       " 'is 250 c',\n",
       " 'is f',\n",
       " 'is 350 c',\n",
       " 'jetta',\n",
       " 'jetta sportwagen',\n",
       " 'jetta hybrid',\n",
       " 'jetta gli',\n",
       " 'jimmy',\n",
       " 'journey',\n",
       " 'juke',\n",
       " 'jx',\n",
       " 'k900',\n",
       " 'karma',\n",
       " 'kizashi',\n",
       " 'l-series',\n",
       " 'l300',\n",
       " 'lacrosse',\n",
       " 'land cruiser',\n",
       " 'lancer',\n",
       " 'lancer sportback',\n",
       " 'lancer evolution',\n",
       " 'legacy',\n",
       " 'lesabre',\n",
       " 'leaf',\n",
       " 'lhs',\n",
       " 'liberty',\n",
       " 'lr4',\n",
       " 'lr3',\n",
       " 'lr2',\n",
       " 'ls',\n",
       " 'ls 430',\n",
       " 'ls 460',\n",
       " 'ls 400',\n",
       " 'ls 600h l',\n",
       " 'lucerne',\n",
       " 'lumina',\n",
       " 'lx 570',\n",
       " 'lx 470',\n",
       " 'lx',\n",
       " 'm',\n",
       " 'm-class',\n",
       " 'm3',\n",
       " 'm35',\n",
       " 'm37',\n",
       " 'm45',\n",
       " 'm4',\n",
       " 'm5',\n",
       " 'm56',\n",
       " 'm6',\n",
       " 'm6 gran coupe',\n",
       " 'malibu',\n",
       " 'maxima',\n",
       " 'mazda5',\n",
       " 'magnum',\n",
       " 'mazda3',\n",
       " 'mazda6',\n",
       " 'matrix',\n",
       " 'mazda2',\n",
       " 'mariner',\n",
       " 'malibu classic',\n",
       " 'malibu maxx',\n",
       " 'malibu hybrid',\n",
       " 'mazdaspeed 3',\n",
       " 'mazdaspeed mazda3',\n",
       " 'macan',\n",
       " 'mark viii',\n",
       " 'mariner hybrid',\n",
       " 'mark lt',\n",
       " 'mazdaspeed3',\n",
       " 'marauder',\n",
       " 'mazdaspeed mazda6',\n",
       " 'mazdaspeed protege',\n",
       " 'mazdaspeed mx-5 miata',\n",
       " 'mdx',\n",
       " 'mirage',\n",
       " 'milan',\n",
       " 'millenia',\n",
       " 'milan hybrid',\n",
       " 'mkz',\n",
       " 'mks',\n",
       " 'mkx',\n",
       " 'mkt',\n",
       " 'mkc',\n",
       " 'mkz hybrid',\n",
       " 'ml55 amg',\n",
       " 'mountaineer',\n",
       " 'monterey',\n",
       " 'monte carlo',\n",
       " 'montero',\n",
       " 'montero sport',\n",
       " 'model s',\n",
       " 'montana',\n",
       " 'montego',\n",
       " 'montana sv6',\n",
       " 'mountnr',\n",
       " 'mpv',\n",
       " 'mr2 spyder',\n",
       " 'murano',\n",
       " 'mustang',\n",
       " 'murano crosscabriolet',\n",
       " 'mustang svt cobra',\n",
       " 'mx-5 miata',\n",
       " 'mystique',\n",
       " 'nan',\n",
       " 'navigator',\n",
       " 'navigator l',\n",
       " 'neon',\n",
       " 'new beetle',\n",
       " 'nitro',\n",
       " 'nubira',\n",
       " 'nv cargo',\n",
       " 'nv',\n",
       " 'nv200',\n",
       " 'nv passenger',\n",
       " 'odyssey',\n",
       " 'optima',\n",
       " 'optra',\n",
       " 'outback',\n",
       " 'outlander',\n",
       " 'outlander sport',\n",
       " 'outlook',\n",
       " 'passat',\n",
       " 'patriot',\n",
       " 'pathfinder',\n",
       " 'panamera',\n",
       " 'pacifica',\n",
       " 'park avenue',\n",
       " 'passport',\n",
       " 'pathfind',\n",
       " 'phaeton',\n",
       " 'pilot',\n",
       " 'police',\n",
       " 'prius',\n",
       " 'prizm',\n",
       " 'protege',\n",
       " 'prius v',\n",
       " 'prius c',\n",
       " 'promaster cargo van',\n",
       " 'protege5',\n",
       " 'prowler',\n",
       " 'prius plug-in',\n",
       " 'prelude',\n",
       " 'pt cruiser',\n",
       " 'pt',\n",
       " 'pursuit',\n",
       " 'q3',\n",
       " 'q45',\n",
       " 'q50',\n",
       " 'q5',\n",
       " 'q60 coupe',\n",
       " 'q60 convertible',\n",
       " 'q7',\n",
       " 'q70',\n",
       " 'quest',\n",
       " 'quattroporte',\n",
       " 'qx80',\n",
       " 'qx',\n",
       " 'qx56',\n",
       " 'qx60',\n",
       " 'qx4',\n",
       " 'qx70',\n",
       " 'qx50',\n",
       " 'r-class',\n",
       " 'r32',\n",
       " 'r8',\n",
       " 'rav4',\n",
       " 'ram pickup 1500',\n",
       " 'ranger',\n",
       " 'range rover sport',\n",
       " 'ram pickup 2500',\n",
       " 'range rover',\n",
       " 'rainier',\n",
       " 'rabbit',\n",
       " 'ram pickup 3500',\n",
       " 'ram3500',\n",
       " 'range rover evoque',\n",
       " 'range',\n",
       " 'ram',\n",
       " 'raider',\n",
       " 'rangerover',\n",
       " 'ram van',\n",
       " 'ram cargo',\n",
       " 'rapide',\n",
       " 'rc 350',\n",
       " 'rc f',\n",
       " 'rdx',\n",
       " 'reno',\n",
       " 'rendezvous',\n",
       " 'regal',\n",
       " 'relay',\n",
       " 'rio',\n",
       " 'ridgeline',\n",
       " 'ridgelin',\n",
       " 'riviera',\n",
       " 'rl',\n",
       " 'rlx',\n",
       " 'rogue',\n",
       " 'rodeo',\n",
       " 'rogue select',\n",
       " 'routan',\n",
       " 'rondo',\n",
       " 'rodeo sport',\n",
       " 'rr',\n",
       " 'rrs',\n",
       " 'rsx',\n",
       " 'rs 7',\n",
       " 'rs 6',\n",
       " 'rs 4',\n",
       " 'rs 5',\n",
       " 'rx 330',\n",
       " 'rx 300',\n",
       " 'rx 350',\n",
       " 'rx 450h',\n",
       " 'rx 400h',\n",
       " 'rx8',\n",
       " 'rx-8',\n",
       " 's-type',\n",
       " 's-10',\n",
       " 's-class',\n",
       " 's-series',\n",
       " 's10',\n",
       " 's2000',\n",
       " 's40',\n",
       " 's4',\n",
       " 's5',\n",
       " 's55',\n",
       " 's60',\n",
       " 's6',\n",
       " 's7',\n",
       " 's70',\n",
       " 's80',\n",
       " 's8',\n",
       " 's90',\n",
       " 'savana cargo',\n",
       " 'santa fe',\n",
       " 'santa',\n",
       " 'sable',\n",
       " 'santa fe sport',\n",
       " 'savana',\n",
       " 'safari cargo',\n",
       " 'safari',\n",
       " 'sc 430',\n",
       " 'sc 300',\n",
       " 'sentra',\n",
       " 'sebring',\n",
       " 'sequoia',\n",
       " 'sedona',\n",
       " 'seville',\n",
       " 'sephia',\n",
       " 'shelby gt500',\n",
       " 'silverado 1500',\n",
       " 'sienna',\n",
       " 'silverado 2500hd',\n",
       " 'sierra 1500',\n",
       " 'silverado 3500hd',\n",
       " 'sierra 2500hd',\n",
       " 'silverado 1500 classic',\n",
       " 'sierra 3500hd',\n",
       " 'sierra 1500 classic',\n",
       " 'silverado 3500',\n",
       " 'silverado 2500hd classic',\n",
       " 'silverado 1500hd',\n",
       " 'silverado 2500',\n",
       " 'silhouette',\n",
       " 'sierra 2500hd classic',\n",
       " 'sierra 3500',\n",
       " 'sierra 1500 hybrid',\n",
       " 'silverado 1500 hybrid',\n",
       " 'sierra 1500hd',\n",
       " 'silverado 3500 classic',\n",
       " 'sierra 2500',\n",
       " 'siera',\n",
       " 'sky',\n",
       " 'sl-class',\n",
       " 'slk-class',\n",
       " 'sl55',\n",
       " 'sls amg',\n",
       " 'sonata',\n",
       " 'soul',\n",
       " 'sorento',\n",
       " 'sonata hybrid',\n",
       " 'sonic',\n",
       " 'sonoma',\n",
       " 'solstice',\n",
       " 'spark',\n",
       " 'sportage',\n",
       " 'spectra',\n",
       " 'sprinter',\n",
       " 'sprinter cargo',\n",
       " 'spyder',\n",
       " 'spark ev',\n",
       " 'sq5',\n",
       " 'srx',\n",
       " 'sr',\n",
       " 'ssr',\n",
       " 'ss',\n",
       " 'stratus',\n",
       " 'sts',\n",
       " 'sts-v',\n",
       " 'suburban',\n",
       " 'sunfire',\n",
       " 'subrbn',\n",
       " 'swift',\n",
       " 'sx4',\n",
       " 'taurus',\n",
       " 'tahoe',\n",
       " 'tacoma',\n",
       " 'taurus x',\n",
       " 'tahoe hybrid',\n",
       " 'tahoe limited/z71',\n",
       " 'tc',\n",
       " 'terrain',\n",
       " 'terraza',\n",
       " 'thunderbird',\n",
       " 'tiburon',\n",
       " 'tiguan',\n",
       " 'titan',\n",
       " 'tl',\n",
       " 'town and country',\n",
       " 'torrent',\n",
       " 'touareg',\n",
       " 'town car',\n",
       " 'town',\n",
       " 'touareg 2',\n",
       " 'traverse',\n",
       " 'trailblazer',\n",
       " 'transit connect',\n",
       " 'tribute',\n",
       " 'trailblazer ext',\n",
       " 'tracker',\n",
       " 'trooper',\n",
       " 'tribeca',\n",
       " 'transit van',\n",
       " 'truck',\n",
       " 'tribute hybrid',\n",
       " 'transit wagon',\n",
       " 'tsx sport wagon',\n",
       " 'tsx',\n",
       " 'tt',\n",
       " 'tts',\n",
       " 'tt rs',\n",
       " 'tucson',\n",
       " 'tundra',\n",
       " 'twn/cntry',\n",
       " 'twn&country',\n",
       " 'uplander',\n",
       " 'uplandr',\n",
       " 'v40',\n",
       " 'v50',\n",
       " 'v60',\n",
       " 'v70',\n",
       " 'v8 vantage',\n",
       " 'veloster',\n",
       " 'versa',\n",
       " 'venture',\n",
       " 'verano',\n",
       " 'venza',\n",
       " 'versa note',\n",
       " 'veracruz',\n",
       " 'verona',\n",
       " 'vibe',\n",
       " 'villager',\n",
       " 'viper',\n",
       " 'vitara',\n",
       " 'volt',\n",
       " 'voyager',\n",
       " 'vue',\n",
       " 'vue hybrid',\n",
       " 'wave',\n",
       " 'windstar',\n",
       " 'windstar cargo',\n",
       " 'wrangler',\n",
       " 'wrx',\n",
       " 'x-type',\n",
       " 'x-trail',\n",
       " 'x1',\n",
       " 'x3',\n",
       " 'x4',\n",
       " 'x5',\n",
       " 'x5 m',\n",
       " 'x6',\n",
       " 'x6 m',\n",
       " 'xa',\n",
       " 'xb',\n",
       " 'xc90',\n",
       " 'xc',\n",
       " 'xc60',\n",
       " 'xc70',\n",
       " 'xd',\n",
       " 'xf',\n",
       " 'xg350',\n",
       " 'xg300',\n",
       " 'xj-series',\n",
       " 'xj',\n",
       " 'xk-series',\n",
       " 'xk',\n",
       " 'xl-7',\n",
       " 'xl7',\n",
       " 'xlr',\n",
       " 'xterra',\n",
       " 'xts',\n",
       " 'xv crosstrek',\n",
       " 'yaris',\n",
       " 'yukon',\n",
       " 'yukon xl',\n",
       " 'yukon hybrid',\n",
       " 'yukon denali',\n",
       " 'z3',\n",
       " 'z4',\n",
       " 'z4 m',\n",
       " 'zdx',\n",
       " 'zephyr']"
      ]
     },
     "execution_count": 43,
     "metadata": {},
     "output_type": "execute_result"
    }
   ],
   "source": [
    "model_d = list(filter(lambda x: x is not None, list(df.model.unique())))\n",
    "model_d.sort(key=lambda x: x[:2])\n",
    "model_d"
   ]
  },
  {
   "cell_type": "code",
   "execution_count": 44,
   "id": "877df76f",
   "metadata": {},
   "outputs": [],
   "source": [
    "single_occurrences = sum(df.model.value_counts() == 1)"
   ]
  },
  {
   "cell_type": "code",
   "execution_count": 45,
   "id": "d066f3ac",
   "metadata": {},
   "outputs": [],
   "source": [
    "drops = df.model.value_counts().tail(single_occurrences).index.tolist()\n",
    "df = df[~df.model.isin(drops)]"
   ]
  },
  {
   "cell_type": "code",
   "execution_count": 46,
   "id": "afd6e2d5",
   "metadata": {},
   "outputs": [
    {
     "data": {
      "image/png": "[encoded data removed]",
      "text/plain": [
       "<Figure size 800x400 with 1 Axes>"
      ]
     },
     "metadata": {},
     "output_type": "display_data"
    }
   ],
   "source": [
    "df.model.value_counts(dropna=False).head(10).plot(kind='bar', rot=0, figsize=(8,4))\n",
    "plt.title('top 10 popular models')\n",
    "plt.show()"
   ]
  },
  {
   "cell_type": "code",
   "execution_count": 47,
   "id": "87213a37",
   "metadata": {},
   "outputs": [
    {
     "data": {
      "text/plain": [
       "1775"
      ]
     },
     "execution_count": 47,
     "metadata": {},
     "output_type": "execute_result"
    }
   ],
   "source": [
    "len(df['trim'].value_counts(dropna=False))"
   ]
  },
  {
   "cell_type": "code",
   "execution_count": 48,
   "id": "9f287107",
   "metadata": {},
   "outputs": [
    {
     "data": {
      "text/plain": [
       "sedan           189192\n",
       "suv             112645\n",
       "hatchback        20670\n",
       "minivan          20114\n",
       "coupe            13643\n",
       "crew cab         12821\n",
       "wagon            12529\n",
       "nan               9858\n",
       "convertible       8082\n",
       "supercrew         7081\n",
       "g sedan           5859\n",
       "supercab          4143\n",
       "regular cab       3781\n",
       "van               3542\n",
       "extended cab      3400\n",
       "quad cab          3208\n",
       "e-series van      1426\n",
       "g coupe           1282\n",
       "double cab        1260\n",
       "crewmax cab        429\n",
       "Name: body, dtype: int64"
      ]
     },
     "execution_count": 48,
     "metadata": {},
     "output_type": "execute_result"
    }
   ],
   "source": [
    "df['body'].value_counts(dropna=False).head(20)"
   ]
  },
  {
   "cell_type": "code",
   "execution_count": 49,
   "id": "d008823e",
   "metadata": {},
   "outputs": [],
   "source": [
    "types = ['sedan', 'suv', 'hatchback', 'minivan', 'coupe', 'crew', 'cab', 'wagon', 'convertible', 'van']"
   ]
  },
  {
   "cell_type": "code",
   "execution_count": 50,
   "id": "9582a6a9",
   "metadata": {},
   "outputs": [],
   "source": [
    "def find_closest(row):\n",
    "    if row is None:\n",
    "        return\n",
    "    row = str(row)\n",
    "    \n",
    "    best_match = None\n",
    "    best_score = 1000\n",
    "    for btype in types:\n",
    "        if lev(btype, row) < best_score:\n",
    "            best_match = btype\n",
    "            best_score = lev(btype, row)\n",
    "    return best_match"
   ]
  },
  {
   "cell_type": "code",
   "execution_count": 51,
   "id": "2dc0017b",
   "metadata": {},
   "outputs": [],
   "source": [
    "df['body'] = df['body'].apply(find_closest)"
   ]
  },
  {
   "cell_type": "code",
   "execution_count": 52,
   "id": "b1ca0bb2",
   "metadata": {},
   "outputs": [],
   "source": [
    "test['body'] = test['body'].apply(find_closest)"
   ]
  },
  {
   "cell_type": "code",
   "execution_count": 53,
   "id": "1ee2ac86",
   "metadata": {},
   "outputs": [
    {
     "data": {
      "text/plain": [
       "sedan          204065\n",
       "suv            112645\n",
       "hatchback       20670\n",
       "minivan         20548\n",
       "crew            20331\n",
       "coupe           16798\n",
       "van             13400\n",
       "wagon           12567\n",
       "convertible      8446\n",
       "cab              7508\n",
       "Name: body, dtype: int64"
      ]
     },
     "execution_count": 53,
     "metadata": {},
     "output_type": "execute_result"
    }
   ],
   "source": [
    "df['body'].value_counts()"
   ]
  },
  {
   "cell_type": "code",
   "execution_count": 54,
   "id": "4e387392",
   "metadata": {},
   "outputs": [
    {
     "data": {
      "image/png": "[encoded data removed]",
      "text/plain": [
       "<Figure size 800x400 with 1 Axes>"
      ]
     },
     "metadata": {},
     "output_type": "display_data"
    }
   ],
   "source": [
    "df['body'].value_counts(dropna=False).plot(kind='bar', rot=45, figsize=(8,4))\n",
    "plt.title('vehicle count by vehicle type')\n",
    "plt.show()"
   ]
  },
  {
   "cell_type": "code",
   "execution_count": 55,
   "id": "13ac84fe",
   "metadata": {},
   "outputs": [
    {
     "data": {
      "image/png": "[encoded data removed]",
      "text/plain": [
       "<Figure size 500x300 with 1 Axes>"
      ]
     },
     "metadata": {},
     "output_type": "display_data"
    }
   ],
   "source": [
    "df['transmission'].value_counts(dropna=False).plot(kind='bar', rot=0, figsize=(5,3))\n",
    "plt.title('vehicle count by transmission type')\n",
    "plt.show()"
   ]
  },
  {
   "cell_type": "code",
   "execution_count": 56,
   "id": "b9f5397b",
   "metadata": {},
   "outputs": [
    {
     "data": {
      "text/plain": [
       "fl    65101\n",
       "ca    56877\n",
       "pa    42312\n",
       "tx    35859\n",
       "ga    26946\n",
       "nj    22045\n",
       "il    18602\n",
       "oh    16850\n",
       "nc    16813\n",
       "tn    16095\n",
       "mo    12532\n",
       "mi    12377\n",
       "nv     9692\n",
       "va     9244\n",
       "md     8620\n",
       "wi     7832\n",
       "mn     7424\n",
       "az     6840\n",
       "co     6106\n",
       "wa     5752\n",
       "ma     5267\n",
       "ny     4520\n",
       "in     3442\n",
       "sc     3295\n",
       "ne     3173\n",
       "on     2716\n",
       "pr     2132\n",
       "la     1726\n",
       "ms     1463\n",
       "ut     1435\n",
       "qc     1000\n",
       "hi      990\n",
       "or      917\n",
       "ab      728\n",
       "nm      124\n",
       "ok       60\n",
       "ns       52\n",
       "al       19\n",
       "Name: state, dtype: int64"
      ]
     },
     "execution_count": 56,
     "metadata": {},
     "output_type": "execute_result"
    }
   ],
   "source": [
    "df['state'].value_counts()"
   ]
  },
  {
   "cell_type": "code",
   "execution_count": 57,
   "id": "4df15ed0",
   "metadata": {},
   "outputs": [
    {
     "data": {
      "text/plain": [
       "array(['black', 'gold', 'silver', 'blue', 'white', 'gray', '—', 'red',\n",
       "       'brown', 'green', 'beige', 'orange', 'nan', 'off-white',\n",
       "       'burgundy', 'yellow', 'charcoal', 'purple', 'turquoise', 'lime',\n",
       "       'pink'], dtype=object)"
      ]
     },
     "execution_count": 57,
     "metadata": {},
     "output_type": "execute_result"
    }
   ],
   "source": [
    "df.color.unique()"
   ]
  },
  {
   "cell_type": "markdown",
   "id": "4988bd0d",
   "metadata": {},
   "source": [
    "В данных дата сета заполняем '—' как 'undefined'"
   ]
  },
  {
   "cell_type": "code",
   "execution_count": 58,
   "id": "d2731966",
   "metadata": {},
   "outputs": [],
   "source": [
    "df[df.color == '—']['color'] = 'undefined'"
   ]
  },
  {
   "cell_type": "code",
   "execution_count": 59,
   "id": "5b2f0468",
   "metadata": {},
   "outputs": [
    {
     "data": {
      "text/plain": [
       "array(['black', 'beige', 'gray', 'tan', 'brown', '—', 'off-white', 'nan',\n",
       "       'blue', 'white', 'silver', 'red', 'green', 'gold', 'purple',\n",
       "       'orange', 'burgundy', 'yellow'], dtype=object)"
      ]
     },
     "execution_count": 59,
     "metadata": {},
     "output_type": "execute_result"
    }
   ],
   "source": [
    "df.interior.unique()"
   ]
  },
  {
   "cell_type": "code",
   "execution_count": 60,
   "id": "9bd76e26",
   "metadata": {},
   "outputs": [],
   "source": [
    "df[df.interior == '—']['interior'] = 'undefined'"
   ]
  },
  {
   "cell_type": "markdown",
   "id": "68f86d0f",
   "metadata": {},
   "source": [
    "Смотрим пропуски"
   ]
  },
  {
   "cell_type": "code",
   "execution_count": 61,
   "id": "77ae1acb",
   "metadata": {},
   "outputs": [
    {
     "data": {
      "text/plain": [
       "year               0\n",
       "make               0\n",
       "model              0\n",
       "trim               0\n",
       "body               0\n",
       "transmission       0\n",
       "vin                0\n",
       "state              0\n",
       "condition       9131\n",
       "odometer          67\n",
       "color              0\n",
       "interior           0\n",
       "seller             0\n",
       "sellingprice       0\n",
       "saledate           0\n",
       "country            0\n",
       "dtype: int64"
      ]
     },
     "execution_count": 61,
     "metadata": {},
     "output_type": "execute_result"
    }
   ],
   "source": [
    "df.isna().sum()"
   ]
  },
  {
   "cell_type": "code",
   "execution_count": 62,
   "id": "efe5831a",
   "metadata": {},
   "outputs": [],
   "source": [
    "df[['body', 'transmission', 'color', 'interior']] = df[['body', 'transmission', 'color', 'interior']].fillna('undefined')"
   ]
  },
  {
   "cell_type": "code",
   "execution_count": 63,
   "id": "76a74e26",
   "metadata": {},
   "outputs": [],
   "source": [
    "test[['body', 'transmission', 'color', 'interior']] = test[['body', 'transmission', 'color', 'interior']].fillna('undefined')"
   ]
  },
  {
   "cell_type": "code",
   "execution_count": 64,
   "id": "62acf796",
   "metadata": {},
   "outputs": [
    {
     "data": {
      "text/plain": [
       "51637.0"
      ]
     },
     "execution_count": 64,
     "metadata": {},
     "output_type": "execute_result"
    }
   ],
   "source": [
    "df.odometer.median()"
   ]
  },
  {
   "cell_type": "code",
   "execution_count": 65,
   "id": "9ac205ed",
   "metadata": {},
   "outputs": [],
   "source": [
    "df.odometer = df.odometer.fillna(df.odometer.median())\n",
    "test.odometer = test.odometer.fillna(test.odometer.median())"
   ]
  },
  {
   "cell_type": "code",
   "execution_count": 66,
   "id": "023e3d0b",
   "metadata": {},
   "outputs": [],
   "source": [
    "df.condition = df.condition.fillna(df.condition.median())\n",
    "test.condition = test.condition.fillna(test.condition.median())"
   ]
  },
  {
   "cell_type": "code",
   "execution_count": 67,
   "id": "ede27892",
   "metadata": {},
   "outputs": [],
   "source": [
    "df[['make', 'model', 'trim']] = df[['make', 'model', 'trim']].fillna('undefined')\n",
    "test[['make', 'model', 'trim']] = test[['make', 'model', 'trim']].fillna('undefined')"
   ]
  },
  {
   "cell_type": "code",
   "execution_count": 68,
   "id": "219ce975",
   "metadata": {},
   "outputs": [
    {
     "data": {
      "text/plain": [
       "year            0\n",
       "make            0\n",
       "model           0\n",
       "trim            0\n",
       "body            0\n",
       "transmission    0\n",
       "vin             0\n",
       "state           0\n",
       "condition       0\n",
       "odometer        0\n",
       "color           0\n",
       "interior        0\n",
       "seller          0\n",
       "sellingprice    0\n",
       "saledate        0\n",
       "country         0\n",
       "dtype: int64"
      ]
     },
     "execution_count": 68,
     "metadata": {},
     "output_type": "execute_result"
    }
   ],
   "source": [
    "df.isna().sum()"
   ]
  },
  {
   "cell_type": "code",
   "execution_count": 69,
   "id": "d3f5fa2b",
   "metadata": {},
   "outputs": [
    {
     "data": {
      "text/plain": [
       "year            0\n",
       "make            0\n",
       "model           0\n",
       "trim            0\n",
       "body            0\n",
       "transmission    0\n",
       "vin             0\n",
       "state           0\n",
       "condition       0\n",
       "odometer        0\n",
       "color           0\n",
       "interior        0\n",
       "seller          0\n",
       "saledate        0\n",
       "country         0\n",
       "dtype: int64"
      ]
     },
     "execution_count": 69,
     "metadata": {},
     "output_type": "execute_result"
    }
   ],
   "source": [
    "test.isna().sum()"
   ]
  },
  {
   "cell_type": "code",
   "execution_count": 70,
   "id": "ff6fba57",
   "metadata": {},
   "outputs": [],
   "source": [
    "df['saledate'] = pd.to_datetime(df['saledate'])\n",
    "df['saledate'] = df['saledate'].apply(lambda x: str(x)[:-6])\n",
    "df['saledate'] = pd.to_datetime(df['saledate'])"
   ]
  },
  {
   "cell_type": "code",
   "execution_count": 71,
   "id": "aff4df46",
   "metadata": {},
   "outputs": [],
   "source": [
    "test['saledate'] = pd.to_datetime(test['saledate'])\n",
    "test['saledate'] = test['saledate'].apply(lambda x: str(x)[:-6])\n",
    "test['saledate'] = pd.to_datetime(test['saledate'])"
   ]
  },
  {
   "cell_type": "code",
   "execution_count": 72,
   "id": "0e470dc1",
   "metadata": {},
   "outputs": [],
   "source": [
    "df = df.drop('interior', axis=1)"
   ]
  },
  {
   "cell_type": "code",
   "execution_count": 73,
   "id": "c94251fa",
   "metadata": {},
   "outputs": [],
   "source": [
    "test = test.drop('interior', axis=1)"
   ]
  },
  {
   "cell_type": "code",
   "execution_count": 74,
   "id": "e8d3c895",
   "metadata": {},
   "outputs": [],
   "source": [
    "df['yearxcondition'] = df['year'] * df['condition']"
   ]
  },
  {
   "cell_type": "code",
   "execution_count": 75,
   "id": "27f7bd07",
   "metadata": {},
   "outputs": [],
   "source": [
    "test['yearxcondition'] = test['year'] * test['condition']"
   ]
  },
  {
   "cell_type": "code",
   "execution_count": 76,
   "id": "fe652116",
   "metadata": {},
   "outputs": [],
   "source": [
    "df['age'] = df['saledate'] - pd.to_datetime(df['year'], format='%Y')"
   ]
  },
  {
   "cell_type": "code",
   "execution_count": 77,
   "id": "55e2e4d9",
   "metadata": {},
   "outputs": [],
   "source": [
    "test['age'] = test['saledate'] - pd.to_datetime(test['year'], format='%Y')"
   ]
  },
  {
   "cell_type": "code",
   "execution_count": 78,
   "id": "3c8097c1",
   "metadata": {},
   "outputs": [],
   "source": [
    "df['saledate'] = pd.to_numeric(df['saledate']) // 10e15\n",
    "test['saledate'] = pd.to_numeric(test['saledate']) // 10e15"
   ]
  },
  {
   "cell_type": "code",
   "execution_count": 79,
   "id": "9fba4a02",
   "metadata": {},
   "outputs": [],
   "source": [
    "df['age'] = pd.to_numeric(df['age'])// 10e14\n",
    "test['age'] = pd.to_numeric(df['age'])// 10e14"
   ]
  },
  {
   "cell_type": "code",
   "execution_count": 80,
   "id": "a42e0533",
   "metadata": {},
   "outputs": [
    {
     "data": {
      "text/html": [
       "<div>\n",
       "<style scoped>\n",
       "    .dataframe tbody tr th:only-of-type {\n",
       "        vertical-align: middle;\n",
       "    }\n",
       "\n",
       "    .dataframe tbody tr th {\n",
       "        vertical-align: top;\n",
       "    }\n",
       "\n",
       "    .dataframe thead th {\n",
       "        text-align: right;\n",
       "    }\n",
       "</style>\n",
       "<table border=\"1\" class=\"dataframe\">\n",
       "  <thead>\n",
       "    <tr style=\"text-align: right;\">\n",
       "      <th></th>\n",
       "      <th>year</th>\n",
       "      <th>make</th>\n",
       "      <th>model</th>\n",
       "      <th>trim</th>\n",
       "      <th>body</th>\n",
       "      <th>transmission</th>\n",
       "      <th>vin</th>\n",
       "      <th>state</th>\n",
       "      <th>condition</th>\n",
       "      <th>odometer</th>\n",
       "      <th>color</th>\n",
       "      <th>seller</th>\n",
       "      <th>sellingprice</th>\n",
       "      <th>saledate</th>\n",
       "      <th>country</th>\n",
       "      <th>yearxcondition</th>\n",
       "      <th>age</th>\n",
       "    </tr>\n",
       "  </thead>\n",
       "  <tbody>\n",
       "    <tr>\n",
       "      <th>0</th>\n",
       "      <td>2011</td>\n",
       "      <td>ford</td>\n",
       "      <td>edge</td>\n",
       "      <td>sel</td>\n",
       "      <td>suv</td>\n",
       "      <td>automatic</td>\n",
       "      <td>2fmdk3jc4bba41556</td>\n",
       "      <td>md</td>\n",
       "      <td>4.2</td>\n",
       "      <td>111041.0</td>\n",
       "      <td>black</td>\n",
       "      <td>santander consumer</td>\n",
       "      <td>12500</td>\n",
       "      <td>143.0</td>\n",
       "      <td>Canada</td>\n",
       "      <td>8446.2</td>\n",
       "      <td>139.0</td>\n",
       "    </tr>\n",
       "    <tr>\n",
       "      <th>1</th>\n",
       "      <td>2014</td>\n",
       "      <td>ford</td>\n",
       "      <td>fusion</td>\n",
       "      <td>se</td>\n",
       "      <td>sedan</td>\n",
       "      <td>automatic</td>\n",
       "      <td>3fa6p0h75er208976</td>\n",
       "      <td>mo</td>\n",
       "      <td>3.5</td>\n",
       "      <td>31034.0</td>\n",
       "      <td>black</td>\n",
       "      <td>ars/avis budget group</td>\n",
       "      <td>14500</td>\n",
       "      <td>142.0</td>\n",
       "      <td>Mexico</td>\n",
       "      <td>7049.0</td>\n",
       "      <td>36.0</td>\n",
       "    </tr>\n",
       "    <tr>\n",
       "      <th>2</th>\n",
       "      <td>2012</td>\n",
       "      <td>nissan</td>\n",
       "      <td>sentra</td>\n",
       "      <td>2.0 sl</td>\n",
       "      <td>sedan</td>\n",
       "      <td>automatic</td>\n",
       "      <td>3n1ab6ap4cl698412</td>\n",
       "      <td>nj</td>\n",
       "      <td>2.2</td>\n",
       "      <td>35619.0</td>\n",
       "      <td>black</td>\n",
       "      <td>nissan-infiniti lt</td>\n",
       "      <td>9100</td>\n",
       "      <td>143.0</td>\n",
       "      <td>Mexico</td>\n",
       "      <td>4426.4</td>\n",
       "      <td>108.0</td>\n",
       "    </tr>\n",
       "    <tr>\n",
       "      <th>3</th>\n",
       "      <td>2003</td>\n",
       "      <td>hummer</td>\n",
       "      <td>h2</td>\n",
       "      <td>base</td>\n",
       "      <td>suv</td>\n",
       "      <td>automatic</td>\n",
       "      <td>5grgn23u93h101360</td>\n",
       "      <td>tx</td>\n",
       "      <td>2.8</td>\n",
       "      <td>131301.0</td>\n",
       "      <td>gold</td>\n",
       "      <td>wichita falls ford lin inc</td>\n",
       "      <td>13300</td>\n",
       "      <td>143.0</td>\n",
       "      <td>USA</td>\n",
       "      <td>5608.4</td>\n",
       "      <td>393.0</td>\n",
       "    </tr>\n",
       "    <tr>\n",
       "      <th>4</th>\n",
       "      <td>2007</td>\n",
       "      <td>ford</td>\n",
       "      <td>fusion</td>\n",
       "      <td>sel</td>\n",
       "      <td>sedan</td>\n",
       "      <td>automatic</td>\n",
       "      <td>3fahp08z17r268380</td>\n",
       "      <td>md</td>\n",
       "      <td>2.0</td>\n",
       "      <td>127709.0</td>\n",
       "      <td>black</td>\n",
       "      <td>purple heart</td>\n",
       "      <td>1300</td>\n",
       "      <td>142.0</td>\n",
       "      <td>Mexico</td>\n",
       "      <td>4014.0</td>\n",
       "      <td>255.0</td>\n",
       "    </tr>\n",
       "  </tbody>\n",
       "</table>\n",
       "</div>"
      ],
      "text/plain": [
       "   year    make   model    trim   body transmission                vin state  \\\n",
       "0  2011    ford    edge     sel    suv    automatic  2fmdk3jc4bba41556    md   \n",
       "1  2014    ford  fusion      se  sedan    automatic  3fa6p0h75er208976    mo   \n",
       "2  2012  nissan  sentra  2.0 sl  sedan    automatic  3n1ab6ap4cl698412    nj   \n",
       "3  2003  hummer      h2    base    suv    automatic  5grgn23u93h101360    tx   \n",
       "4  2007    ford  fusion     sel  sedan    automatic  3fahp08z17r268380    md   \n",
       "\n",
       "   condition  odometer  color                      seller  sellingprice  \\\n",
       "0        4.2  111041.0  black          santander consumer         12500   \n",
       "1        3.5   31034.0  black       ars/avis budget group         14500   \n",
       "2        2.2   35619.0  black          nissan-infiniti lt          9100   \n",
       "3        2.8  131301.0   gold  wichita falls ford lin inc         13300   \n",
       "4        2.0  127709.0  black                purple heart          1300   \n",
       "\n",
       "   saledate country  yearxcondition    age  \n",
       "0     143.0  Canada          8446.2  139.0  \n",
       "1     142.0  Mexico          7049.0   36.0  \n",
       "2     143.0  Mexico          4426.4  108.0  \n",
       "3     143.0     USA          5608.4  393.0  \n",
       "4     142.0  Mexico          4014.0  255.0  "
      ]
     },
     "execution_count": 80,
     "metadata": {},
     "output_type": "execute_result"
    }
   ],
   "source": [
    "df.head()"
   ]
  },
  {
   "cell_type": "markdown",
   "id": "6b672686",
   "metadata": {},
   "source": [
    "Сохраняем для повторного использования в будущем"
   ]
  },
  {
   "cell_type": "code",
   "execution_count": 81,
   "id": "dd837c9e",
   "metadata": {},
   "outputs": [
    {
     "data": {
      "text/plain": [
       "['make',\n",
       " 'model',\n",
       " 'trim',\n",
       " 'body',\n",
       " 'transmission',\n",
       " 'vin',\n",
       " 'state',\n",
       " 'color',\n",
       " 'seller',\n",
       " 'country']"
      ]
     },
     "execution_count": 81,
     "metadata": {},
     "output_type": "execute_result"
    }
   ],
   "source": [
    "cat_cols = df.select_dtypes('object').columns.tolist()\n",
    "if not cat_cols:\n",
    "    cat_cols = df.select_dtypes('category').columns.tolist()\n",
    "cat_cols"
   ]
  },
  {
   "cell_type": "code",
   "execution_count": 82,
   "id": "7900209a",
   "metadata": {},
   "outputs": [],
   "source": [
    "df[cat_cols] = df[cat_cols].astype('category')"
   ]
  },
  {
   "cell_type": "markdown",
   "id": "e3a5e583",
   "metadata": {},
   "source": [
    "### Вывод:\n",
    "\n",
    "Удалили неявные дубликаты.\n",
    "\n",
    "Заполнили пропуски во всех имеющихся данных:\n",
    "\n",
    "- с помощью vin востановили непонятные значения и создали признак country - страна производитель автомобиля.\n",
    "\n",
    "- тип коробки передач заполнили по характеристикам конкретных моделей;\n",
    "\n",
    "- пропуски в данных о пробеге и состоянии автомобиля – медианным значением в зависимости от периода владения автомобилем.\n",
    "\n",
    "На данном этапе мы удалили часть выбросов, чтобы снизить зашумленность данных и повысить точность модели.\n",
    "\n",
    "Подготовили итоговые данные для дальнейшей работы."
   ]
  },
  {
   "cell_type": "code",
   "execution_count": 83,
   "id": "789231a3",
   "metadata": {},
   "outputs": [
    {
     "data": {
      "image/png": "[encoded data removed]",
      "text/plain": [
       "<Figure size 1100x600 with 2 Axes>"
      ]
     },
     "metadata": {},
     "output_type": "display_data"
    }
   ],
   "source": [
    "chart = sns.heatmap(\n",
    "    df.corr(),\n",
    "    cmap='coolwarm',\n",
    "    annot=True\n",
    ")\n",
    "chart.set_title('Корреляция между числовыми признаками')\n",
    "chart.set_xticklabels(chart.get_xticklabels(), rotation=70)\n",
    "fig = chart.get_figure()\n",
    "fig.set_size_inches(11, 6)\n",
    "chart;"
   ]
  },
  {
   "cell_type": "code",
   "execution_count": 84,
   "id": "474703cd",
   "metadata": {},
   "outputs": [],
   "source": [
    "X_train = df.drop(['sellingprice'], axis=1)\n",
    "y_train = df['sellingprice']"
   ]
  },
  {
   "cell_type": "code",
   "execution_count": 85,
   "id": "24594048",
   "metadata": {},
   "outputs": [],
   "source": [
    "X_test = test.copy()"
   ]
  },
  {
   "cell_type": "code",
   "execution_count": 86,
   "id": "35c9a406",
   "metadata": {},
   "outputs": [],
   "source": [
    "OE = OrdinalEncoder(handle_unknown='use_encoded_value', unknown_value=-1)"
   ]
  },
  {
   "cell_type": "code",
   "execution_count": 87,
   "id": "8ee06dc7",
   "metadata": {},
   "outputs": [],
   "source": [
    "X_train_oe = X_train.copy()\n",
    "X_test = test.copy()\n",
    "\n",
    "X_train_oe[cat_cols] = OE.fit_transform(X_train[cat_cols])\n",
    "X_test[cat_cols] = OE.transform(X_test[cat_cols])"
   ]
  },
  {
   "cell_type": "code",
   "execution_count": 88,
   "id": "b275e8fe",
   "metadata": {},
   "outputs": [
    {
     "name": "stdout",
     "output_type": "stream",
     "text": [
      "X_train_oe.shape = (436978, 16)\n"
     ]
    },
    {
     "data": {
      "text/plain": [
       "'X_test.shape = (110058, 16)'"
      ]
     },
     "execution_count": 88,
     "metadata": {},
     "output_type": "execute_result"
    }
   ],
   "source": [
    "print(f'{X_train_oe.shape = }')\n",
    "(f'{X_test.shape = }')"
   ]
  },
  {
   "cell_type": "code",
   "execution_count": 89,
   "id": "e985d6e4",
   "metadata": {},
   "outputs": [],
   "source": [
    "metrics = {\n",
    "    'fit time, seconds': {},\n",
    "    'best score (MAPE)': {},\n",
    "}\n",
    "\n",
    "\n",
    "def metrics_append(model_name, val1, val2):\n",
    "    metrics['fit time, seconds'][model_name] = val1\n",
    "    metrics['best score (MAPE)'][model_name] = val2"
   ]
  },
  {
   "cell_type": "code",
   "execution_count": 90,
   "id": "928a8784",
   "metadata": {},
   "outputs": [],
   "source": [
    "from functools import wraps\n",
    "\n",
    "\n",
    "def timeit(func) -> tuple or int:\n",
    "    @wraps(func)\n",
    "    def inner(*args, **kwargs):\n",
    "        start = datetime.now()\n",
    "        result = func(*args, **kwargs)\n",
    "        end = datetime.now()\n",
    "\n",
    "        print(f'Execution time: {(end - start).seconds:.2f} seconds') \n",
    "        if result is not None:\n",
    "            return (end - start).seconds, result\n",
    "        else:\n",
    "            return (end - start).seconds\n",
    "    return inner"
   ]
  },
  {
   "cell_type": "code",
   "execution_count": 91,
   "id": "0c4e61b3",
   "metadata": {},
   "outputs": [],
   "source": [
    "@timeit\n",
    "def model_fit(model, X_train, y_train=None, **kwargs) -> None:\n",
    "    model.fit(X_train, y_train, **kwargs)"
   ]
  },
  {
   "cell_type": "markdown",
   "id": "df0065a1",
   "metadata": {},
   "source": [
    "получение категориальных столбцов"
   ]
  },
  {
   "cell_type": "code",
   "execution_count": 92,
   "id": "e495cc4c",
   "metadata": {},
   "outputs": [],
   "source": [
    "col_indices = [X_train_oe.columns.get_loc(col) for col in cat_cols]"
   ]
  },
  {
   "cell_type": "markdown",
   "id": "ada3c4a8",
   "metadata": {},
   "source": [
    "**1. Случайный лес**"
   ]
  },
  {
   "cell_type": "code",
   "execution_count": 104,
   "id": "da5bed08",
   "metadata": {},
   "outputs": [],
   "source": [
    "param1 = {\n",
    "    'criterion' : ['poisson'],\n",
    "    'max_depth' : [5],\n",
    "    'n_estimators' : [200]\n",
    "}"
   ]
  },
  {
   "cell_type": "code",
   "execution_count": 107,
   "id": "6bc33250",
   "metadata": {},
   "outputs": [],
   "source": [
    "mape_scorer = make_scorer(mean_absolute_percentage_error, greater_is_better=False)"
   ]
  },
  {
   "cell_type": "code",
   "execution_count": 108,
   "id": "67f9f4a6",
   "metadata": {},
   "outputs": [],
   "source": [
    "GSrfr = GridSearchCV(\n",
    "    estimator=RandomForestRegressor(random_state=12345),\n",
    "    param_grid=param1,\n",
    "    scoring=mape_scorer,\n",
    "    refit='mape_scorer',\n",
    "    cv=3,\n",
    "    verbose=4\n",
    ")"
   ]
  },
  {
   "cell_type": "code",
   "execution_count": 110,
   "id": "032e016c",
   "metadata": {},
   "outputs": [
    {
     "name": "stdout",
     "output_type": "stream",
     "text": [
      "Fitting 3 folds for each of 1 candidates, totalling 3 fits\n",
      "[CV 1/3] END criterion=poisson, max_depth=5, n_estimators=200;, score=-0.571 total time=21.1min\n",
      "[CV 2/3] END criterion=poisson, max_depth=5, n_estimators=200;, score=-0.477 total time=20.6min\n",
      "[CV 3/3] END criterion=poisson, max_depth=5, n_estimators=200;, score=-0.515 total time=23.3min\n",
      "Execution time: 5968.00 seconds\n"
     ]
    }
   ],
   "source": [
    "GSrfr_CV_time = model_fit(GSrfr, X_train_oe, y_train)"
   ]
  },
  {
   "cell_type": "code",
   "execution_count": 111,
   "id": "190825fb",
   "metadata": {},
   "outputs": [
    {
     "data": {
      "text/html": [
       "<style>#sk-container-id-2 {color: black;}#sk-container-id-2 pre{padding: 0;}#sk-container-id-2 div.sk-toggleable {background-color: white;}#sk-container-id-2 label.sk-toggleable__label {cursor: pointer;display: block;width: 100%;margin-bottom: 0;padding: 0.3em;box-sizing: border-box;text-align: center;}#sk-container-id-2 label.sk-toggleable__label-arrow:before {content: \"▸\";float: left;margin-right: 0.25em;color: #696969;}#sk-container-id-2 label.sk-toggleable__label-arrow:hover:before {color: black;}#sk-container-id-2 div.sk-estimator:hover label.sk-toggleable__label-arrow:before {color: black;}#sk-container-id-2 div.sk-toggleable__content {max-height: 0;max-width: 0;overflow: hidden;text-align: left;background-color: #f0f8ff;}#sk-container-id-2 div.sk-toggleable__content pre {margin: 0.2em;color: black;border-radius: 0.25em;background-color: #f0f8ff;}#sk-container-id-2 input.sk-toggleable__control:checked~div.sk-toggleable__content {max-height: 200px;max-width: 100%;overflow: auto;}#sk-container-id-2 input.sk-toggleable__control:checked~label.sk-toggleable__label-arrow:before {content: \"▾\";}#sk-container-id-2 div.sk-estimator input.sk-toggleable__control:checked~label.sk-toggleable__label {background-color: #d4ebff;}#sk-container-id-2 div.sk-label input.sk-toggleable__control:checked~label.sk-toggleable__label {background-color: #d4ebff;}#sk-container-id-2 input.sk-hidden--visually {border: 0;clip: rect(1px 1px 1px 1px);clip: rect(1px, 1px, 1px, 1px);height: 1px;margin: -1px;overflow: hidden;padding: 0;position: absolute;width: 1px;}#sk-container-id-2 div.sk-estimator {font-family: monospace;background-color: #f0f8ff;border: 1px dotted black;border-radius: 0.25em;box-sizing: border-box;margin-bottom: 0.5em;}#sk-container-id-2 div.sk-estimator:hover {background-color: #d4ebff;}#sk-container-id-2 div.sk-parallel-item::after {content: \"\";width: 100%;border-bottom: 1px solid gray;flex-grow: 1;}#sk-container-id-2 div.sk-label:hover label.sk-toggleable__label {background-color: #d4ebff;}#sk-container-id-2 div.sk-serial::before {content: \"\";position: absolute;border-left: 1px solid gray;box-sizing: border-box;top: 0;bottom: 0;left: 50%;z-index: 0;}#sk-container-id-2 div.sk-serial {display: flex;flex-direction: column;align-items: center;background-color: white;padding-right: 0.2em;padding-left: 0.2em;position: relative;}#sk-container-id-2 div.sk-item {position: relative;z-index: 1;}#sk-container-id-2 div.sk-parallel {display: flex;align-items: stretch;justify-content: center;background-color: white;position: relative;}#sk-container-id-2 div.sk-item::before, #sk-container-id-2 div.sk-parallel-item::before {content: \"\";position: absolute;border-left: 1px solid gray;box-sizing: border-box;top: 0;bottom: 0;left: 50%;z-index: -1;}#sk-container-id-2 div.sk-parallel-item {display: flex;flex-direction: column;z-index: 1;position: relative;background-color: white;}#sk-container-id-2 div.sk-parallel-item:first-child::after {align-self: flex-end;width: 50%;}#sk-container-id-2 div.sk-parallel-item:last-child::after {align-self: flex-start;width: 50%;}#sk-container-id-2 div.sk-parallel-item:only-child::after {width: 0;}#sk-container-id-2 div.sk-dashed-wrapped {border: 1px dashed gray;margin: 0 0.4em 0.5em 0.4em;box-sizing: border-box;padding-bottom: 0.4em;background-color: white;}#sk-container-id-2 div.sk-label label {font-family: monospace;font-weight: bold;display: inline-block;line-height: 1.2em;}#sk-container-id-2 div.sk-label-container {text-align: center;}#sk-container-id-2 div.sk-container {/* jupyter's `normalize.less` sets `[hidden] { display: none; }` but bootstrap.min.css set `[hidden] { display: none !important; }` so we also need the `!important` here to be able to override the default hidden behavior on the sphinx rendered scikit-learn.org. See: https://github.com/scikit-learn/scikit-learn/issues/21755 */display: inline-block !important;position: relative;}#sk-container-id-2 div.sk-text-repr-fallback {display: none;}</style><div id=\"sk-container-id-2\" class=\"sk-top-container\"><div class=\"sk-text-repr-fallback\"><pre>RandomForestRegressor(criterion=&#x27;poisson&#x27;, max_depth=5, n_estimators=200,\n",
       "                      random_state=12345)</pre><b>In a Jupyter environment, please rerun this cell to show the HTML representation or trust the notebook. <br />On GitHub, the HTML representation is unable to render, please try loading this page with nbviewer.org.</b></div><div class=\"sk-container\" hidden><div class=\"sk-item\"><div class=\"sk-estimator sk-toggleable\"><input class=\"sk-toggleable__control sk-hidden--visually\" id=\"sk-estimator-id-2\" type=\"checkbox\" checked><label for=\"sk-estimator-id-2\" class=\"sk-toggleable__label sk-toggleable__label-arrow\">RandomForestRegressor</label><div class=\"sk-toggleable__content\"><pre>RandomForestRegressor(criterion=&#x27;poisson&#x27;, max_depth=5, n_estimators=200,\n",
       "                      random_state=12345)</pre></div></div></div></div></div>"
      ],
      "text/plain": [
       "RandomForestRegressor(criterion='poisson', max_depth=5, n_estimators=200,\n",
       "                      random_state=12345)"
      ]
     },
     "execution_count": 111,
     "metadata": {},
     "output_type": "execute_result"
    }
   ],
   "source": [
    "GSrfr.best_estimator_"
   ]
  },
  {
   "cell_type": "code",
   "execution_count": 114,
   "id": "084445c6",
   "metadata": {},
   "outputs": [
    {
     "data": {
      "text/plain": [
       "'MAPE score: 52.342%'"
      ]
     },
     "execution_count": 114,
     "metadata": {},
     "output_type": "execute_result"
    }
   ],
   "source": [
    "f'MAPE score: {mean_absolute_percentage_error(y_train, GSrfr.predict(X_train_oe)):.3%}'"
   ]
  },
  {
   "cell_type": "markdown",
   "id": "59932ed5",
   "metadata": {},
   "source": [
    "**2. Деревья решений**"
   ]
  },
  {
   "cell_type": "code",
   "execution_count": 115,
   "id": "30877597",
   "metadata": {},
   "outputs": [],
   "source": [
    "param2= {\"max_depth\": list(range(18, 19))}"
   ]
  },
  {
   "cell_type": "code",
   "execution_count": 116,
   "id": "08c694f8",
   "metadata": {},
   "outputs": [],
   "source": [
    "DTR = GridSearchCV(\n",
    "    estimator=DecisionTreeRegressor(random_state=12345),\n",
    "    param_grid=param2,\n",
    "    scoring=mape_scorer,\n",
    "    refit='mape_scorer',\n",
    "    cv=3,\n",
    "    verbose=4\n",
    ")"
   ]
  },
  {
   "cell_type": "code",
   "execution_count": 117,
   "id": "586e1224",
   "metadata": {},
   "outputs": [
    {
     "name": "stdout",
     "output_type": "stream",
     "text": [
      "Fitting 3 folds for each of 1 candidates, totalling 3 fits\n",
      "[CV 1/3] END .....................max_depth=18;, score=-0.242 total time=  34.3s\n",
      "[CV 2/3] END .....................max_depth=18;, score=-0.213 total time=  36.8s\n",
      "[CV 3/3] END .....................max_depth=18;, score=-0.264 total time=  33.2s\n",
      "Execution time: 152.00 seconds\n"
     ]
    }
   ],
   "source": [
    "DTR_CV_time = model_fit(DTR, X_train_oe, y_train)"
   ]
  },
  {
   "cell_type": "code",
   "execution_count": 118,
   "id": "fbe18218",
   "metadata": {},
   "outputs": [
    {
     "data": {
      "text/html": [
       "<style>#sk-container-id-3 {color: black;}#sk-container-id-3 pre{padding: 0;}#sk-container-id-3 div.sk-toggleable {background-color: white;}#sk-container-id-3 label.sk-toggleable__label {cursor: pointer;display: block;width: 100%;margin-bottom: 0;padding: 0.3em;box-sizing: border-box;text-align: center;}#sk-container-id-3 label.sk-toggleable__label-arrow:before {content: \"▸\";float: left;margin-right: 0.25em;color: #696969;}#sk-container-id-3 label.sk-toggleable__label-arrow:hover:before {color: black;}#sk-container-id-3 div.sk-estimator:hover label.sk-toggleable__label-arrow:before {color: black;}#sk-container-id-3 div.sk-toggleable__content {max-height: 0;max-width: 0;overflow: hidden;text-align: left;background-color: #f0f8ff;}#sk-container-id-3 div.sk-toggleable__content pre {margin: 0.2em;color: black;border-radius: 0.25em;background-color: #f0f8ff;}#sk-container-id-3 input.sk-toggleable__control:checked~div.sk-toggleable__content {max-height: 200px;max-width: 100%;overflow: auto;}#sk-container-id-3 input.sk-toggleable__control:checked~label.sk-toggleable__label-arrow:before {content: \"▾\";}#sk-container-id-3 div.sk-estimator input.sk-toggleable__control:checked~label.sk-toggleable__label {background-color: #d4ebff;}#sk-container-id-3 div.sk-label input.sk-toggleable__control:checked~label.sk-toggleable__label {background-color: #d4ebff;}#sk-container-id-3 input.sk-hidden--visually {border: 0;clip: rect(1px 1px 1px 1px);clip: rect(1px, 1px, 1px, 1px);height: 1px;margin: -1px;overflow: hidden;padding: 0;position: absolute;width: 1px;}#sk-container-id-3 div.sk-estimator {font-family: monospace;background-color: #f0f8ff;border: 1px dotted black;border-radius: 0.25em;box-sizing: border-box;margin-bottom: 0.5em;}#sk-container-id-3 div.sk-estimator:hover {background-color: #d4ebff;}#sk-container-id-3 div.sk-parallel-item::after {content: \"\";width: 100%;border-bottom: 1px solid gray;flex-grow: 1;}#sk-container-id-3 div.sk-label:hover label.sk-toggleable__label {background-color: #d4ebff;}#sk-container-id-3 div.sk-serial::before {content: \"\";position: absolute;border-left: 1px solid gray;box-sizing: border-box;top: 0;bottom: 0;left: 50%;z-index: 0;}#sk-container-id-3 div.sk-serial {display: flex;flex-direction: column;align-items: center;background-color: white;padding-right: 0.2em;padding-left: 0.2em;position: relative;}#sk-container-id-3 div.sk-item {position: relative;z-index: 1;}#sk-container-id-3 div.sk-parallel {display: flex;align-items: stretch;justify-content: center;background-color: white;position: relative;}#sk-container-id-3 div.sk-item::before, #sk-container-id-3 div.sk-parallel-item::before {content: \"\";position: absolute;border-left: 1px solid gray;box-sizing: border-box;top: 0;bottom: 0;left: 50%;z-index: -1;}#sk-container-id-3 div.sk-parallel-item {display: flex;flex-direction: column;z-index: 1;position: relative;background-color: white;}#sk-container-id-3 div.sk-parallel-item:first-child::after {align-self: flex-end;width: 50%;}#sk-container-id-3 div.sk-parallel-item:last-child::after {align-self: flex-start;width: 50%;}#sk-container-id-3 div.sk-parallel-item:only-child::after {width: 0;}#sk-container-id-3 div.sk-dashed-wrapped {border: 1px dashed gray;margin: 0 0.4em 0.5em 0.4em;box-sizing: border-box;padding-bottom: 0.4em;background-color: white;}#sk-container-id-3 div.sk-label label {font-family: monospace;font-weight: bold;display: inline-block;line-height: 1.2em;}#sk-container-id-3 div.sk-label-container {text-align: center;}#sk-container-id-3 div.sk-container {/* jupyter's `normalize.less` sets `[hidden] { display: none; }` but bootstrap.min.css set `[hidden] { display: none !important; }` so we also need the `!important` here to be able to override the default hidden behavior on the sphinx rendered scikit-learn.org. See: https://github.com/scikit-learn/scikit-learn/issues/21755 */display: inline-block !important;position: relative;}#sk-container-id-3 div.sk-text-repr-fallback {display: none;}</style><div id=\"sk-container-id-3\" class=\"sk-top-container\"><div class=\"sk-text-repr-fallback\"><pre>DecisionTreeRegressor(max_depth=18, random_state=12345)</pre><b>In a Jupyter environment, please rerun this cell to show the HTML representation or trust the notebook. <br />On GitHub, the HTML representation is unable to render, please try loading this page with nbviewer.org.</b></div><div class=\"sk-container\" hidden><div class=\"sk-item\"><div class=\"sk-estimator sk-toggleable\"><input class=\"sk-toggleable__control sk-hidden--visually\" id=\"sk-estimator-id-3\" type=\"checkbox\" checked><label for=\"sk-estimator-id-3\" class=\"sk-toggleable__label sk-toggleable__label-arrow\">DecisionTreeRegressor</label><div class=\"sk-toggleable__content\"><pre>DecisionTreeRegressor(max_depth=18, random_state=12345)</pre></div></div></div></div></div>"
      ],
      "text/plain": [
       "DecisionTreeRegressor(max_depth=18, random_state=12345)"
      ]
     },
     "execution_count": 118,
     "metadata": {},
     "output_type": "execute_result"
    }
   ],
   "source": [
    "DTR.best_estimator_"
   ]
  },
  {
   "cell_type": "code",
   "execution_count": 119,
   "id": "557536aa",
   "metadata": {},
   "outputs": [
    {
     "data": {
      "text/plain": [
       "'MAPE CV score: 11.816%'"
      ]
     },
     "execution_count": 119,
     "metadata": {},
     "output_type": "execute_result"
    }
   ],
   "source": [
    "f'MAPE CV score: {mean_absolute_percentage_error(y_train, DTR.predict(X_train_oe)):.3%}'"
   ]
  },
  {
   "cell_type": "markdown",
   "id": "f424f315",
   "metadata": {},
   "source": [
    "**3.Градиентный бустинг - LGBMRegressor**"
   ]
  },
  {
   "cell_type": "code",
   "execution_count": 93,
   "id": "7473ebdf",
   "metadata": {},
   "outputs": [],
   "source": [
    "gbm = lgb.LGBMRegressor(\n",
    "    application='regression',\n",
    "    metric='mae',\n",
    "    categorical_feature=col_indices \n",
    ")"
   ]
  },
  {
   "cell_type": "code",
   "execution_count": 94,
   "id": "f2473d09",
   "metadata": {},
   "outputs": [],
   "source": [
    "params = {\n",
    "    'learning_rate': [0.1],\n",
    "    'max_bin': [255],\n",
    "    'n_estimators': [300], \n",
    "    'num_leaves': [400],\n",
    "    'max_depth': [20]\n",
    "}"
   ]
  },
  {
   "cell_type": "code",
   "execution_count": 95,
   "id": "d84416a7",
   "metadata": {},
   "outputs": [],
   "source": [
    "grid_gbm = GridSearchCV(gbm, params, cv=3, n_jobs=-1, scoring='neg_mean_absolute_error')"
   ]
  },
  {
   "cell_type": "code",
   "execution_count": 96,
   "id": "b8729099",
   "metadata": {},
   "outputs": [
    {
     "name": "stderr",
     "output_type": "stream",
     "text": [
      "C:\\Users\\Family\\anaconda3\\envs\\ds_practicum_env\\lib\\site-packages\\lightgbm\\basic.py:1487: UserWarning: categorical_feature keyword has been found in `params` and will be ignored.\n",
      "Please use categorical_feature argument of the Dataset constructor to pass this parameter.\n",
      "  _log_warning(f'{key} keyword has been found in `params` and will be ignored.\\n'\n"
     ]
    },
    {
     "name": "stdout",
     "output_type": "stream",
     "text": [
      "Execution time: 612.00 seconds\n"
     ]
    }
   ],
   "source": [
    "gbm_CV_time = model_fit(grid_gbm, X_train_oe, y_train)"
   ]
  },
  {
   "cell_type": "code",
   "execution_count": 97,
   "id": "a37f3617",
   "metadata": {},
   "outputs": [
    {
     "data": {
      "text/html": [
       "<style>#sk-container-id-1 {color: black;}#sk-container-id-1 pre{padding: 0;}#sk-container-id-1 div.sk-toggleable {background-color: white;}#sk-container-id-1 label.sk-toggleable__label {cursor: pointer;display: block;width: 100%;margin-bottom: 0;padding: 0.3em;box-sizing: border-box;text-align: center;}#sk-container-id-1 label.sk-toggleable__label-arrow:before {content: \"▸\";float: left;margin-right: 0.25em;color: #696969;}#sk-container-id-1 label.sk-toggleable__label-arrow:hover:before {color: black;}#sk-container-id-1 div.sk-estimator:hover label.sk-toggleable__label-arrow:before {color: black;}#sk-container-id-1 div.sk-toggleable__content {max-height: 0;max-width: 0;overflow: hidden;text-align: left;background-color: #f0f8ff;}#sk-container-id-1 div.sk-toggleable__content pre {margin: 0.2em;color: black;border-radius: 0.25em;background-color: #f0f8ff;}#sk-container-id-1 input.sk-toggleable__control:checked~div.sk-toggleable__content {max-height: 200px;max-width: 100%;overflow: auto;}#sk-container-id-1 input.sk-toggleable__control:checked~label.sk-toggleable__label-arrow:before {content: \"▾\";}#sk-container-id-1 div.sk-estimator input.sk-toggleable__control:checked~label.sk-toggleable__label {background-color: #d4ebff;}#sk-container-id-1 div.sk-label input.sk-toggleable__control:checked~label.sk-toggleable__label {background-color: #d4ebff;}#sk-container-id-1 input.sk-hidden--visually {border: 0;clip: rect(1px 1px 1px 1px);clip: rect(1px, 1px, 1px, 1px);height: 1px;margin: -1px;overflow: hidden;padding: 0;position: absolute;width: 1px;}#sk-container-id-1 div.sk-estimator {font-family: monospace;background-color: #f0f8ff;border: 1px dotted black;border-radius: 0.25em;box-sizing: border-box;margin-bottom: 0.5em;}#sk-container-id-1 div.sk-estimator:hover {background-color: #d4ebff;}#sk-container-id-1 div.sk-parallel-item::after {content: \"\";width: 100%;border-bottom: 1px solid gray;flex-grow: 1;}#sk-container-id-1 div.sk-label:hover label.sk-toggleable__label {background-color: #d4ebff;}#sk-container-id-1 div.sk-serial::before {content: \"\";position: absolute;border-left: 1px solid gray;box-sizing: border-box;top: 0;bottom: 0;left: 50%;z-index: 0;}#sk-container-id-1 div.sk-serial {display: flex;flex-direction: column;align-items: center;background-color: white;padding-right: 0.2em;padding-left: 0.2em;position: relative;}#sk-container-id-1 div.sk-item {position: relative;z-index: 1;}#sk-container-id-1 div.sk-parallel {display: flex;align-items: stretch;justify-content: center;background-color: white;position: relative;}#sk-container-id-1 div.sk-item::before, #sk-container-id-1 div.sk-parallel-item::before {content: \"\";position: absolute;border-left: 1px solid gray;box-sizing: border-box;top: 0;bottom: 0;left: 50%;z-index: -1;}#sk-container-id-1 div.sk-parallel-item {display: flex;flex-direction: column;z-index: 1;position: relative;background-color: white;}#sk-container-id-1 div.sk-parallel-item:first-child::after {align-self: flex-end;width: 50%;}#sk-container-id-1 div.sk-parallel-item:last-child::after {align-self: flex-start;width: 50%;}#sk-container-id-1 div.sk-parallel-item:only-child::after {width: 0;}#sk-container-id-1 div.sk-dashed-wrapped {border: 1px dashed gray;margin: 0 0.4em 0.5em 0.4em;box-sizing: border-box;padding-bottom: 0.4em;background-color: white;}#sk-container-id-1 div.sk-label label {font-family: monospace;font-weight: bold;display: inline-block;line-height: 1.2em;}#sk-container-id-1 div.sk-label-container {text-align: center;}#sk-container-id-1 div.sk-container {/* jupyter's `normalize.less` sets `[hidden] { display: none; }` but bootstrap.min.css set `[hidden] { display: none !important; }` so we also need the `!important` here to be able to override the default hidden behavior on the sphinx rendered scikit-learn.org. See: https://github.com/scikit-learn/scikit-learn/issues/21755 */display: inline-block !important;position: relative;}#sk-container-id-1 div.sk-text-repr-fallback {display: none;}</style><div id=\"sk-container-id-1\" class=\"sk-top-container\"><div class=\"sk-text-repr-fallback\"><pre>LGBMRegressor(application=&#x27;regression&#x27;,\n",
       "              categorical_feature=[1, 2, 3, 4, 5, 6, 7, 10, 11, 13],\n",
       "              max_bin=255, max_depth=20, metric=&#x27;mae&#x27;, n_estimators=300,\n",
       "              num_leaves=400)</pre><b>In a Jupyter environment, please rerun this cell to show the HTML representation or trust the notebook. <br />On GitHub, the HTML representation is unable to render, please try loading this page with nbviewer.org.</b></div><div class=\"sk-container\" hidden><div class=\"sk-item\"><div class=\"sk-estimator sk-toggleable\"><input class=\"sk-toggleable__control sk-hidden--visually\" id=\"sk-estimator-id-1\" type=\"checkbox\" checked><label for=\"sk-estimator-id-1\" class=\"sk-toggleable__label sk-toggleable__label-arrow\">LGBMRegressor</label><div class=\"sk-toggleable__content\"><pre>LGBMRegressor(application=&#x27;regression&#x27;,\n",
       "              categorical_feature=[1, 2, 3, 4, 5, 6, 7, 10, 11, 13],\n",
       "              max_bin=255, max_depth=20, metric=&#x27;mae&#x27;, n_estimators=300,\n",
       "              num_leaves=400)</pre></div></div></div></div></div>"
      ],
      "text/plain": [
       "LGBMRegressor(application='regression',\n",
       "              categorical_feature=[1, 2, 3, 4, 5, 6, 7, 10, 11, 13],\n",
       "              max_bin=255, max_depth=20, metric='mae', n_estimators=300,\n",
       "              num_leaves=400)"
      ]
     },
     "execution_count": 97,
     "metadata": {},
     "output_type": "execute_result"
    }
   ],
   "source": [
    "grid_gbm.best_estimator_"
   ]
  },
  {
   "cell_type": "code",
   "execution_count": 98,
   "id": "62deb3ef",
   "metadata": {},
   "outputs": [
    {
     "data": {
      "text/plain": [
       "1027.011147444075"
      ]
     },
     "execution_count": 98,
     "metadata": {},
     "output_type": "execute_result"
    }
   ],
   "source": [
    "(-grid_gbm.best_score_)"
   ]
  },
  {
   "cell_type": "markdown",
   "id": "cb4c8794",
   "metadata": {},
   "source": [
    "Проведем анализ важности признаков лучшей модели"
   ]
  },
  {
   "cell_type": "code",
   "execution_count": 99,
   "id": "a60a3d84",
   "metadata": {},
   "outputs": [
    {
     "data": {
      "image/png": "[encoded data removed]",
      "text/plain": [
       "<Figure size 640x480 with 1 Axes>"
      ]
     },
     "metadata": {},
     "output_type": "display_data"
    }
   ],
   "source": [
    "lgb.plot_importance(grid_gbm.best_estimator_)\n",
    "plt.show()"
   ]
  },
  {
   "cell_type": "markdown",
   "id": "f4944877",
   "metadata": {},
   "source": [
    "Из полученых данных видно, что важными признаками для предсказания стоимости автомобиля являются:\n",
    "\n",
    "пробег автомобиля,\n",
    "\n",
    "возраст,\n",
    "\n",
    "года производства."
   ]
  },
  {
   "cell_type": "code",
   "execution_count": 100,
   "id": "60ff7c07",
   "metadata": {},
   "outputs": [],
   "source": [
    "metrics_append('LightGBM', gbm_CV_time, (-grid_gbm.best_score_))"
   ]
  },
  {
   "cell_type": "code",
   "execution_count": 101,
   "id": "bca4c349",
   "metadata": {},
   "outputs": [
    {
     "data": {
      "text/html": [
       "<div>\n",
       "<style scoped>\n",
       "    .dataframe tbody tr th:only-of-type {\n",
       "        vertical-align: middle;\n",
       "    }\n",
       "\n",
       "    .dataframe tbody tr th {\n",
       "        vertical-align: top;\n",
       "    }\n",
       "\n",
       "    .dataframe thead th {\n",
       "        text-align: right;\n",
       "    }\n",
       "</style>\n",
       "<table border=\"1\" class=\"dataframe\">\n",
       "  <thead>\n",
       "    <tr style=\"text-align: right;\">\n",
       "      <th></th>\n",
       "      <th>LightGBM</th>\n",
       "    </tr>\n",
       "  </thead>\n",
       "  <tbody>\n",
       "    <tr>\n",
       "      <th>fit time, seconds</th>\n",
       "      <td>612</td>\n",
       "    </tr>\n",
       "    <tr>\n",
       "      <th>best score (MAPE)</th>\n",
       "      <td>1027</td>\n",
       "    </tr>\n",
       "  </tbody>\n",
       "</table>\n",
       "</div>"
      ],
      "text/plain": [
       "                   LightGBM\n",
       "fit time, seconds       612\n",
       "best score (MAPE)      1027"
      ]
     },
     "execution_count": 101,
     "metadata": {},
     "output_type": "execute_result"
    }
   ],
   "source": [
    "pd.set_option('display.float_format', lambda x: '%.0f' % x)\n",
    "pd.DataFrame(metrics).T"
   ]
  },
  {
   "cell_type": "code",
   "execution_count": 102,
   "id": "4f66d83f",
   "metadata": {},
   "outputs": [
    {
     "data": {
      "text/plain": [
       "'MAPE CV score: 11.557%'"
      ]
     },
     "execution_count": 102,
     "metadata": {},
     "output_type": "execute_result"
    }
   ],
   "source": [
    "f'MAPE CV score: {mean_absolute_percentage_error(y_train, grid_gbm.predict(X_train_oe)):.3%}'"
   ]
  },
  {
   "cell_type": "markdown",
   "id": "afcbc05e",
   "metadata": {},
   "source": [
    " **Вывод:**\n",
    "\n",
    "Перед нами стояла задача регрессии: необходимо на основе имеющихся данных предсказать цену автомобиля на вторичном рынке.\n",
    "\n",
    "Имеется датасет, содержащий 440236, 15 характеристик и целевой признак.\n",
    "\n",
    "Датасет, доступный для обучения, очень сильно по своим характеристикам похож на тестовый.\n",
    "\n",
    "Удалили неявные дубликаты.\n",
    "\n",
    "Заполнили пропуски во всех имеющихся данных:\n",
    "\n",
    "с помощью vin востановили непонятные значения и создали признак country - страна производитель автомобиля.\n",
    "\n",
    "пропуски в данных о пробеге и состоянии автомобиля – медианным значением в зависимости от периода владения автомобилем.\n",
    "\n",
    "После обработки пропусков и дубликатов был проведен разведывательный анализ данных."
   ]
  },
  {
   "cell_type": "markdown",
   "id": "6d394014",
   "metadata": {},
   "source": [
    "**Общий вывод:**\n",
    "\n",
    "В ходе выполнения проекта была создана модель предсказания стоимости автомобиля по его характеристикам.\n",
    "\n",
    "Лучшей результат метрики MAPE = 11.56 показал LGBMRegressor."
   ]
  },
  {
   "cell_type": "code",
   "execution_count": null,
   "id": "b2132f63",
   "metadata": {},
   "outputs": [],
   "source": []
  }
 ],
 "metadata": {
  "kernelspec": {
   "display_name": "Python 3 (ipykernel)",
   "language": "python",
   "name": "python3"
  },
  "language_info": {
   "codemirror_mode": {
    "name": "ipython",
    "version": 3
   },
   "file_extension": ".py",
   "mimetype": "text/x-python",
   "name": "python",
   "nbconvert_exporter": "python",
   "pygments_lexer": "ipython3",
   "version": "3.9.13"
  }
 },
 "nbformat": 4,
 "nbformat_minor": 5
}
